{
 "cells": [
  {
   "cell_type": "markdown",
   "metadata": {},
   "source": [
    "# Phenotype-based Machine Learning Approach for Disease Prediction"
   ]
  },
  {
   "cell_type": "code",
   "execution_count": 1,
   "metadata": {},
   "outputs": [],
   "source": [
    "import mysql.connector\n",
    "import numpy as np\n",
    "import pandas as pd\n",
    "import matplotlib.pyplot as plt\n",
    "import datetime\n",
    "import math\n",
    "import os\n",
    "import sys\n",
    "import logging\n",
    "mf_module_path = os.path.abspath(os.path.join('../python'))\n",
    "if mf_module_path not in sys.path:\n",
    "    sys.path.append(mf_module_path)\n",
    "import mf\n",
    "import mf_random\n",
    "import hpoutil\n",
    "import networkx\n",
    "import obonet\n",
    "import pickle\n",
    "from tqdm import tqdm\n",
    "import time"
   ]
  },
  {
   "cell_type": "code",
   "execution_count": 2,
   "metadata": {},
   "outputs": [
    {
     "name": "stdout",
     "output_type": "stream",
     "text": [
      "2019-10-30 12:23:57,912 - 18743 - root - DEBUG - test\n"
     ]
    }
   ],
   "source": [
    "logger = logging.getLogger()\n",
    "logger.setLevel(logging.DEBUG)\n",
    "logging.debug(\"test\")"
   ]
  },
  {
   "cell_type": "code",
   "execution_count": 3,
   "metadata": {},
   "outputs": [],
   "source": [
    "mydb = mysql.connector.connect(host='localhost',\n",
    "                               user='mimicuser',\n",
    "                               passwd='mimic',\n",
    "                               database='mimiciiiv13',\n",
    "                              auth_plugin='mysql_native_password')\n",
    "cursor = mydb.cursor(buffered=True)"
   ]
  },
  {
   "cell_type": "markdown",
   "metadata": {},
   "source": [
    "### Select lab phenotypes to predict radiology findings"
   ]
  },
  {
   "cell_type": "code",
   "execution_count": 4,
   "metadata": {},
   "outputs": [],
   "source": [
    "def labs_to_rad(labHpos, textHpo):\n",
    "    \"\"\"\n",
    "    Provide a list of labHpo and one textHpo, return a DataFrame that has (SUBJECT_ID, HADM_ID) as row index, \n",
    "    all the phenotype terms in the column, and the OCCURRANCE as the values. \n",
    "    \"\"\"\n",
    "    labHpos_text = \",\".join(['\\'{}\\''.format(labHpo) for labHpo in labHpos])\n",
    "    labHpo_values_flat = pd.read_sql_query(\"\"\"SELECT * from JAX_labHpoProfile WHERE MAP_TO IN ({})\"\"\".format(labHpos_text), mydb)\n",
    "    textHpo_value = pd.read_sql_query(\"\"\"\n",
    "            SELECT * FROM JAX_textHpoProfile WHERE MAP_TO = '{}'\n",
    "        \"\"\".format(textHpo), mydb)\n",
    "    \n",
    "    return labHpo_values_flat, textHpo_value"
   ]
  },
  {
   "cell_type": "code",
   "execution_count": 23,
   "metadata": {},
   "outputs": [],
   "source": [
    "labHpos = ['HP:0020062', 'HP:0011015', 'HP:0004363', 'HP:0500165']\n",
    "textHpo = 'HP:0002202'\n",
    "labHpo_values_flat, textHpo_value = labs_to_rad(labHpos, textHpo)"
   ]
  },
  {
   "cell_type": "code",
   "execution_count": 27,
   "metadata": {},
   "outputs": [],
   "source": [
    "encounters = pd.read_sql_query(\"SELECT DISTINCT SUBJECT_ID, HADM_ID FROM ADMISSIONS\", mydb)\n",
    "\n",
    "feature_matrix = encounters \\\n",
    "    .merge(labHpo_values_flat, how='left', on=['SUBJECT_ID', 'HADM_ID']) \\\n",
    "    .pivot_table(columns='MAP_TO', values='OCCURRANCE', index=['SUBJECT_ID', 'HADM_ID'])\n",
    "\n",
    "target_vector = encounters.merge(textHpo_value, how='left', on=['SUBJECT_ID', 'HADM_ID']).set_index(['SUBJECT_ID', 'HADM_ID'])\n",
    "target_vector.head()\n",
    "\n",
    "feature_target = feature_matrix.merge(target_vector.loc[:, 'MAP_TO'], left_index=True, right_index=True).rename(columns={'MAP_TO': textHpo})\n",
    "#feature_target = feature_target.assign(target = np.array(['case' if feature_target.MAP_TO.iloc[i] == 'HP:0002202' else 'control' for i in np.arange(len(feature_target))]))\n",
    "feature_target.head(n=20)\n",
    "feature_target.to_csv('../../../data/predict_textHpo_from_labHpo/Pleural_effusion.csv')"
   ]
  },
  {
   "cell_type": "code",
   "execution_count": 28,
   "metadata": {},
   "outputs": [],
   "source": [
    "labHpos = ['HP:0012614', 'HP:0100529', 'HP:0011893', 'HP:0012085', 'HP:0004364', 'HP:0020061', 'HP:0003111', 'HP:0002901', 'HP:0040088', 'HP:0004360', 'HP:0010876']\n",
    "textHpo = 'HP:0002090'\n",
    "labHpo_values_flat, textHpo_value = labs_to_rad(labHpos, textHpo)"
   ]
  },
  {
   "cell_type": "code",
   "execution_count": 30,
   "metadata": {},
   "outputs": [],
   "source": [
    "encounters = pd.read_sql_query(\"SELECT DISTINCT SUBJECT_ID, HADM_ID FROM ADMISSIONS\", mydb)\n",
    "\n",
    "feature_matrix = encounters \\\n",
    "    .merge(labHpo_values_flat, how='left', on=['SUBJECT_ID', 'HADM_ID']) \\\n",
    "    .pivot_table(columns='MAP_TO', values='OCCURRANCE', index=['SUBJECT_ID', 'HADM_ID'])\n",
    "\n",
    "target_vector = encounters.merge(textHpo_value, how='left', on=['SUBJECT_ID', 'HADM_ID']).set_index(['SUBJECT_ID', 'HADM_ID'])\n",
    "target_vector.head()\n",
    "\n",
    "feature_target = feature_matrix.merge(target_vector.loc[:, 'MAP_TO'], left_index=True, right_index=True).rename(columns={'MAP_TO': textHpo})\n",
    "#feature_target = feature_target.assign(target = np.array(['case' if feature_target.MAP_TO.iloc[i] == 'HP:0002202' else 'control' for i in np.arange(len(feature_target))]))\n",
    "feature_target.head(n=20)\n",
    "feature_target.to_csv('../../../data/predict_textHpo_from_labHpo/Pneumonia.csv')"
   ]
  },
  {
   "cell_type": "markdown",
   "metadata": {
    "collapsed": true
   },
   "source": [
    "## Task 1: Phenome-wide association studies for diseases"
   ]
  },
  {
   "cell_type": "markdown",
   "metadata": {},
   "source": [
    "## Data selection\n",
    "We adopt a similar approach to the loinc2hpo paper. At the patient level, find whether they have a diagnosis code or not, find whether they have a phenotype or not, and then perform logistic regression to determine whether a phenotype is associated with a disease. Control gender and age. \n",
    "\n",
    "We will create three separate tables:\n",
    "\n",
    "    * diagnosis table (first diagnosis): subject_id, ICD9_code_value\n",
    "    * phenotype table (phenotypes before diagnosis): subject_id, HP terms\n",
    "    * patient table: subject_id, sex, age at diagnosis\n",
    "    \n",
    "    \n",
    "We will create the tables gradually. First step, we use a simplied version: ignore date, just find diagnosis, and phenotypes for each patient, and test out the whole process"
   ]
  },
  {
   "cell_type": "code",
   "execution_count": 9,
   "metadata": {},
   "outputs": [],
   "source": [
    "def patient_vectors():\n",
    "    \"\"\"\n",
    "    Find information of patients that showed at least one encounter during defined period\n",
    "    \"\"\"\n",
    "    return pd.read_sql_query('''\n",
    "        SELECT \n",
    "            PATIENTS.SUBJECT_ID, PATIENTS.GENDER, PATIENTS.DOB\n",
    "        FROM \n",
    "            PATIENTS\n",
    "        WHERE \n",
    "            SUBJECT_ID IN (SELECT SUBJECT_ID FROM JAX_encounterOfInterest) \n",
    "    ''')\n",
    "\n",
    "def diagnosis_vectors(icd):\n",
    "    \"\"\"\n",
    "    same as createDiagnosisTable()\n",
    "    \"\"\"\n",
    "    pd.read_sql_query('''\n",
    "        SELECT\n",
    "            SUBJECT_ID, HADM_ID, DIAGNOSIS\n",
    "        FROM\n",
    "            JAX_mf_diag\n",
    "    ''', mydb)\n",
    "\n",
    "def phenotype_vectors():\n",
    "    pd.read_sql_query('''\n",
    "        SELECT SUBJECT_ID, MAP_TO, dummy\n",
    "        FROM JAX_LABHPOPROFILE\n",
    "        GROUP BY SUBJECT_ID, MAP_TO\n",
    "        HAVING COUNT(*) > 3\n",
    "    ''', mydb)"
   ]
  },
  {
   "cell_type": "code",
   "execution_count": 18,
   "metadata": {},
   "outputs": [],
   "source": [
    "initTables(debug=True)\n",
    "patient_vectors()\n",
    "\n"
   ]
  },
  {
   "cell_type": "code",
   "execution_count": 19,
   "metadata": {},
   "outputs": [
    {
     "data": {
      "text/plain": [
       "0"
      ]
     },
     "execution_count": 19,
     "metadata": {},
     "output_type": "execute_result"
    }
   ],
   "source": []
  },
  {
   "cell_type": "code",
   "execution_count": null,
   "metadata": {},
   "outputs": [],
   "source": []
  }
 ],
 "metadata": {
  "kernelspec": {
   "display_name": "Python 3",
   "language": "python",
   "name": "python3"
  },
  "language_info": {
   "codemirror_mode": {
    "name": "ipython",
    "version": 3
   },
   "file_extension": ".py",
   "mimetype": "text/x-python",
   "name": "python",
   "nbconvert_exporter": "python",
   "pygments_lexer": "ipython3",
   "version": "3.6.9"
  }
 },
 "nbformat": 4,
 "nbformat_minor": 2
}
