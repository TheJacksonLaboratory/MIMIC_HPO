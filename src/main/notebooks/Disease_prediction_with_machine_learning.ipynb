{
 "cells": [
  {
   "cell_type": "markdown",
   "metadata": {},
   "source": [
    "# Phenotype-based Machine Learning Approach for Disease Prediction"
   ]
  },
  {
   "cell_type": "code",
   "execution_count": 5,
   "metadata": {},
   "outputs": [
    {
     "name": "stderr",
     "output_type": "stream",
     "text": [
      "DEBUG:matplotlib.pyplot:Loaded backend module://ipykernel.pylab.backend_inline version unknown.\n"
     ]
    }
   ],
   "source": [
    "import mysql.connector\n",
    "import numpy as np\n",
    "import pandas as pd\n",
    "import matplotlib.pyplot as plt\n",
    "import datetime\n",
    "import math\n",
    "import os\n",
    "import sys\n",
    "import logging\n",
    "mf_module_path = os.path.abspath(os.path.join('../python'))\n",
    "if mf_module_path not in sys.path:\n",
    "    sys.path.append(mf_module_path)\n",
    "import mf\n",
    "import mf_random\n",
    "import hpoutil\n",
    "import networkx\n",
    "import obonet\n",
    "import pickle\n",
    "from tqdm import tqdm\n",
    "import time"
   ]
  },
  {
   "cell_type": "code",
   "execution_count": 6,
   "metadata": {},
   "outputs": [
    {
     "name": "stdout",
     "output_type": "stream",
     "text": [
      "2019-09-26 09:46:14,781 - 3919 - root - DEBUG - test\n"
     ]
    }
   ],
   "source": [
    "logger = logging.getLogger()\n",
    "logger.setLevel(logging.DEBUG)\n",
    "logging.debug(\"test\")"
   ]
  },
  {
   "cell_type": "code",
   "execution_count": 7,
   "metadata": {},
   "outputs": [],
   "source": [
    "mydb = mysql.connector.connect(host='localhost',\n",
    "                               user='mimicuser',\n",
    "                               passwd='mimic',\n",
    "                               database='mimiciiiv13',\n",
    "                              auth_plugin='mysql_native_password')\n",
    "cursor = mydb.cursor(buffered=True)"
   ]
  },
  {
   "cell_type": "markdown",
   "metadata": {
    "collapsed": true
   },
   "source": [
    "## Task 1: Phenome-wide association studies for diseases"
   ]
  },
  {
   "cell_type": "markdown",
   "metadata": {},
   "source": [
    "## Data selection\n",
    "We adopt a similar approach to the loinc2hpo paper. At the patient level, find whether they have a diagnosis code or not, find whether they have a phenotype or not, and then perform logistic regression to determine whether a phenotype is associated with a disease. Control gender and age. \n",
    "\n",
    "We will create three separate tables:\n",
    "\n",
    "    * diagnosis table (first diagnosis): subject_id, ICD9_code_value\n",
    "    * phenotype table (phenotypes before diagnosis): subject_id, HP terms\n",
    "    * patient table: subject_id, sex, age at diagnosis\n",
    "    \n",
    "    \n",
    "We will create the tables gradually. First step, we use a simplied version: ignore date, just find diagnosis, and phenotypes for each patient, and test out the whole process"
   ]
  },
  {
   "cell_type": "code",
   "execution_count": 9,
   "metadata": {},
   "outputs": [],
   "source": [
    "def patient_vectors():\n",
    "    \"\"\"\n",
    "    Find information of patients that showed at least one encounter during defined period\n",
    "    \"\"\"\n",
    "    return pd.read_sql_query('''\n",
    "        SELECT \n",
    "            PATIENTS.SUBJECT_ID, PATIENTS.GENDER, PATIENTS.DOB\n",
    "        FROM \n",
    "            PATIENTS\n",
    "        WHERE \n",
    "            SUBJECT_ID IN (SELECT SUBJECT_ID FROM JAX_encounterOfInterest) \n",
    "    ''')\n",
    "\n",
    "def diagnosis_vectors(icd):\n",
    "    \"\"\"\n",
    "    same as createDiagnosisTable()\n",
    "    \"\"\"\n",
    "    pd.read_sql_query('''\n",
    "        SELECT\n",
    "            SUBJECT_ID, HADM_ID, DIAGNOSIS\n",
    "        FROM\n",
    "            JAX_mf_diag\n",
    "    ''', mydb)\n",
    "\n",
    "def phenotype_vectors():\n",
    "    pd.read_sql_query('''\n",
    "        SELECT SUBJECT_ID, MAP_TO, dummy\n",
    "        FROM JAX_LABHPOPROFILE\n",
    "        GROUP BY SUBJECT_ID, MAP_TO\n",
    "        HAVING COUNT(*) > 3\n",
    "    ''')"
   ]
  },
  {
   "cell_type": "code",
   "execution_count": 18,
   "metadata": {},
   "outputs": [],
   "source": [
    "initTables(debug=True)\n",
    "patient_vectors()\n",
    "\n"
   ]
  },
  {
   "cell_type": "code",
   "execution_count": 19,
   "metadata": {},
   "outputs": [
    {
     "data": {
      "text/plain": [
       "0"
      ]
     },
     "execution_count": 19,
     "metadata": {},
     "output_type": "execute_result"
    }
   ],
   "source": []
  },
  {
   "cell_type": "code",
   "execution_count": null,
   "metadata": {},
   "outputs": [],
   "source": []
  }
 ],
 "metadata": {
  "kernelspec": {
   "display_name": "Python 3",
   "language": "python",
   "name": "python3"
  },
  "language_info": {
   "codemirror_mode": {
    "name": "ipython",
    "version": 3
   },
   "file_extension": ".py",
   "mimetype": "text/x-python",
   "name": "python",
   "nbconvert_exporter": "python",
   "pygments_lexer": "ipython3",
   "version": "3.6.9"
  }
 },
 "nbformat": 4,
 "nbformat_minor": 2
}
