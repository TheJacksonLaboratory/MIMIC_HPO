{
 "cells": [
  {
   "cell_type": "code",
   "execution_count": 1,
   "metadata": {
    "collapsed": true
   },
   "outputs": [],
   "source": [
    "import numpy as np\n",
    "import pandas as pd"
   ]
  },
  {
   "cell_type": "code",
   "execution_count": 2,
   "metadata": {
    "collapsed": true
   },
   "outputs": [],
   "source": [
    "lab_dict = pd.read_csv('D_LABITEMS.csv', sep = ',')\n",
    "labevents = pd.read_csv('LABEVENTS.csv', sep = ',')"
   ]
  },
  {
   "cell_type": "markdown",
   "metadata": {},
   "source": [
    "## Explore the LABEVENTS table\n",
    "Note that we could do the same thing from MySQL."
   ]
  },
  {
   "cell_type": "code",
   "execution_count": 3,
   "metadata": {},
   "outputs": [
    {
     "data": {
      "text/html": [
       "<div>\n",
       "<style>\n",
       "    .dataframe thead tr:only-child th {\n",
       "        text-align: right;\n",
       "    }\n",
       "\n",
       "    .dataframe thead th {\n",
       "        text-align: left;\n",
       "    }\n",
       "\n",
       "    .dataframe tbody tr th {\n",
       "        vertical-align: top;\n",
       "    }\n",
       "</style>\n",
       "<table border=\"1\" class=\"dataframe\">\n",
       "  <thead>\n",
       "    <tr style=\"text-align: right;\">\n",
       "      <th></th>\n",
       "      <th>ROW_ID</th>\n",
       "      <th>SUBJECT_ID</th>\n",
       "      <th>HADM_ID</th>\n",
       "      <th>ITEMID</th>\n",
       "      <th>CHARTTIME</th>\n",
       "      <th>VALUE</th>\n",
       "      <th>VALUENUM</th>\n",
       "      <th>VALUEUOM</th>\n",
       "      <th>FLAG</th>\n",
       "    </tr>\n",
       "  </thead>\n",
       "  <tbody>\n",
       "    <tr>\n",
       "      <th>0</th>\n",
       "      <td>281</td>\n",
       "      <td>3</td>\n",
       "      <td>NaN</td>\n",
       "      <td>50820</td>\n",
       "      <td>2101-10-12 16:07:00</td>\n",
       "      <td>7.39</td>\n",
       "      <td>7.39</td>\n",
       "      <td>units</td>\n",
       "      <td>NaN</td>\n",
       "    </tr>\n",
       "    <tr>\n",
       "      <th>1</th>\n",
       "      <td>282</td>\n",
       "      <td>3</td>\n",
       "      <td>NaN</td>\n",
       "      <td>50800</td>\n",
       "      <td>2101-10-12 18:17:00</td>\n",
       "      <td>ART</td>\n",
       "      <td>NaN</td>\n",
       "      <td>NaN</td>\n",
       "      <td>NaN</td>\n",
       "    </tr>\n",
       "    <tr>\n",
       "      <th>2</th>\n",
       "      <td>283</td>\n",
       "      <td>3</td>\n",
       "      <td>NaN</td>\n",
       "      <td>50802</td>\n",
       "      <td>2101-10-12 18:17:00</td>\n",
       "      <td>-1</td>\n",
       "      <td>-1.00</td>\n",
       "      <td>mEq/L</td>\n",
       "      <td>NaN</td>\n",
       "    </tr>\n",
       "    <tr>\n",
       "      <th>3</th>\n",
       "      <td>284</td>\n",
       "      <td>3</td>\n",
       "      <td>NaN</td>\n",
       "      <td>50804</td>\n",
       "      <td>2101-10-12 18:17:00</td>\n",
       "      <td>22</td>\n",
       "      <td>22.00</td>\n",
       "      <td>mEq/L</td>\n",
       "      <td>NaN</td>\n",
       "    </tr>\n",
       "    <tr>\n",
       "      <th>4</th>\n",
       "      <td>285</td>\n",
       "      <td>3</td>\n",
       "      <td>NaN</td>\n",
       "      <td>50808</td>\n",
       "      <td>2101-10-12 18:17:00</td>\n",
       "      <td>0.93</td>\n",
       "      <td>0.93</td>\n",
       "      <td>mmol/L</td>\n",
       "      <td>abnormal</td>\n",
       "    </tr>\n",
       "  </tbody>\n",
       "</table>\n",
       "</div>"
      ],
      "text/plain": [
       "   ROW_ID  SUBJECT_ID  HADM_ID  ITEMID            CHARTTIME VALUE  VALUENUM  \\\n",
       "0     281           3      NaN   50820  2101-10-12 16:07:00  7.39      7.39   \n",
       "1     282           3      NaN   50800  2101-10-12 18:17:00   ART       NaN   \n",
       "2     283           3      NaN   50802  2101-10-12 18:17:00    -1     -1.00   \n",
       "3     284           3      NaN   50804  2101-10-12 18:17:00    22     22.00   \n",
       "4     285           3      NaN   50808  2101-10-12 18:17:00  0.93      0.93   \n",
       "\n",
       "  VALUEUOM      FLAG  \n",
       "0    units       NaN  \n",
       "1      NaN       NaN  \n",
       "2    mEq/L       NaN  \n",
       "3    mEq/L       NaN  \n",
       "4   mmol/L  abnormal  "
      ]
     },
     "execution_count": 3,
     "metadata": {},
     "output_type": "execute_result"
    }
   ],
   "source": [
    "labevents.head()"
   ]
  },
  {
   "cell_type": "markdown",
   "metadata": {},
   "source": [
    "We aggregated each lab test by its units, and counted how many lab test record use each unit, and their means and medians"
   ]
  },
  {
   "cell_type": "code",
   "execution_count": 4,
   "metadata": {
    "collapsed": true
   },
   "outputs": [],
   "source": [
    "group = labevents.fillna({'VALUEUOM':'?'}).groupby(['ITEMID', 'VALUEUOM'])\n",
    "lab_sum = group.size().to_frame(name = 'counts')\n",
    "labevents.set_index('ROW_ID')\n",
    "lab_sum = (lab_sum\n",
    "    .join(group.agg({'VALUENUM':'mean'}).rename(columns={'VALUENUM':'mean'}))\n",
    "    .join(group.agg({'VALUENUM':'median'}).rename(columns={'VALUENUM':'median'}))\n",
    "    .reset_index()\n",
    ")"
   ]
  },
  {
   "cell_type": "code",
   "execution_count": 5,
   "metadata": {},
   "outputs": [
    {
     "data": {
      "text/html": [
       "<div>\n",
       "<style>\n",
       "    .dataframe thead tr:only-child th {\n",
       "        text-align: right;\n",
       "    }\n",
       "\n",
       "    .dataframe thead th {\n",
       "        text-align: left;\n",
       "    }\n",
       "\n",
       "    .dataframe tbody tr th {\n",
       "        vertical-align: top;\n",
       "    }\n",
       "</style>\n",
       "<table border=\"1\" class=\"dataframe\">\n",
       "  <thead>\n",
       "    <tr style=\"text-align: right;\">\n",
       "      <th></th>\n",
       "      <th>ITEMID</th>\n",
       "      <th>VALUEUOM</th>\n",
       "      <th>counts</th>\n",
       "      <th>mean</th>\n",
       "      <th>median</th>\n",
       "    </tr>\n",
       "  </thead>\n",
       "  <tbody>\n",
       "    <tr>\n",
       "      <th>0</th>\n",
       "      <td>50800</td>\n",
       "      <td>?</td>\n",
       "      <td>404785</td>\n",
       "      <td>NaN</td>\n",
       "      <td>NaN</td>\n",
       "    </tr>\n",
       "    <tr>\n",
       "      <th>1</th>\n",
       "      <td>50801</td>\n",
       "      <td>?</td>\n",
       "      <td>5943</td>\n",
       "      <td>457.646524</td>\n",
       "      <td>475.0</td>\n",
       "    </tr>\n",
       "    <tr>\n",
       "      <th>2</th>\n",
       "      <td>50801</td>\n",
       "      <td>mm Hg</td>\n",
       "      <td>16073</td>\n",
       "      <td>478.099981</td>\n",
       "      <td>501.0</td>\n",
       "    </tr>\n",
       "    <tr>\n",
       "      <th>3</th>\n",
       "      <td>50802</td>\n",
       "      <td>?</td>\n",
       "      <td>20</td>\n",
       "      <td>5.100000</td>\n",
       "      <td>5.0</td>\n",
       "    </tr>\n",
       "    <tr>\n",
       "      <th>4</th>\n",
       "      <td>50802</td>\n",
       "      <td>mEq/L</td>\n",
       "      <td>490631</td>\n",
       "      <td>-0.090816</td>\n",
       "      <td>0.0</td>\n",
       "    </tr>\n",
       "    <tr>\n",
       "      <th>5</th>\n",
       "      <td>50803</td>\n",
       "      <td>mEq/L</td>\n",
       "      <td>9246</td>\n",
       "      <td>23.847858</td>\n",
       "      <td>24.0</td>\n",
       "    </tr>\n",
       "    <tr>\n",
       "      <th>6</th>\n",
       "      <td>50804</td>\n",
       "      <td>?</td>\n",
       "      <td>20</td>\n",
       "      <td>33.500000</td>\n",
       "      <td>35.0</td>\n",
       "    </tr>\n",
       "    <tr>\n",
       "      <th>7</th>\n",
       "      <td>50804</td>\n",
       "      <td>MEQ/L</td>\n",
       "      <td>20266</td>\n",
       "      <td>25.918928</td>\n",
       "      <td>26.0</td>\n",
       "    </tr>\n",
       "    <tr>\n",
       "      <th>8</th>\n",
       "      <td>50804</td>\n",
       "      <td>mEq/L</td>\n",
       "      <td>470355</td>\n",
       "      <td>26.046331</td>\n",
       "      <td>26.0</td>\n",
       "    </tr>\n",
       "    <tr>\n",
       "      <th>9</th>\n",
       "      <td>50805</td>\n",
       "      <td>%</td>\n",
       "      <td>2056</td>\n",
       "      <td>1.757571</td>\n",
       "      <td>1.0</td>\n",
       "    </tr>\n",
       "  </tbody>\n",
       "</table>\n",
       "</div>"
      ],
      "text/plain": [
       "   ITEMID VALUEUOM  counts        mean  median\n",
       "0   50800        ?  404785         NaN     NaN\n",
       "1   50801        ?    5943  457.646524   475.0\n",
       "2   50801    mm Hg   16073  478.099981   501.0\n",
       "3   50802        ?      20    5.100000     5.0\n",
       "4   50802    mEq/L  490631   -0.090816     0.0\n",
       "5   50803    mEq/L    9246   23.847858    24.0\n",
       "6   50804        ?      20   33.500000    35.0\n",
       "7   50804    MEQ/L   20266   25.918928    26.0\n",
       "8   50804    mEq/L  470355   26.046331    26.0\n",
       "9   50805        %    2056    1.757571     1.0"
      ]
     },
     "execution_count": 5,
     "metadata": {},
     "output_type": "execute_result"
    }
   ],
   "source": [
    "lab_sum.head(n = 10)"
   ]
  },
  {
   "cell_type": "markdown",
   "metadata": {},
   "source": [
    "The above table represented lab tests with their local codes (ITEMID column). We can join the lab code dictionary table to get the LOINC coding."
   ]
  },
  {
   "cell_type": "code",
   "execution_count": 6,
   "metadata": {},
   "outputs": [
    {
     "data": {
      "text/html": [
       "<div>\n",
       "<style>\n",
       "    .dataframe thead tr:only-child th {\n",
       "        text-align: right;\n",
       "    }\n",
       "\n",
       "    .dataframe thead th {\n",
       "        text-align: left;\n",
       "    }\n",
       "\n",
       "    .dataframe tbody tr th {\n",
       "        vertical-align: top;\n",
       "    }\n",
       "</style>\n",
       "<table border=\"1\" class=\"dataframe\">\n",
       "  <thead>\n",
       "    <tr style=\"text-align: right;\">\n",
       "      <th></th>\n",
       "      <th>ROW_ID</th>\n",
       "      <th>ITEMID</th>\n",
       "      <th>LABEL</th>\n",
       "      <th>FLUID</th>\n",
       "      <th>CATEGORY</th>\n",
       "      <th>LOINC_CODE</th>\n",
       "    </tr>\n",
       "  </thead>\n",
       "  <tbody>\n",
       "    <tr>\n",
       "      <th>0</th>\n",
       "      <td>546</td>\n",
       "      <td>51346</td>\n",
       "      <td>Blasts</td>\n",
       "      <td>Cerebrospinal Fluid (CSF)</td>\n",
       "      <td>Hematology</td>\n",
       "      <td>26447-3</td>\n",
       "    </tr>\n",
       "    <tr>\n",
       "      <th>1</th>\n",
       "      <td>547</td>\n",
       "      <td>51347</td>\n",
       "      <td>Eosinophils</td>\n",
       "      <td>Cerebrospinal Fluid (CSF)</td>\n",
       "      <td>Hematology</td>\n",
       "      <td>26451-5</td>\n",
       "    </tr>\n",
       "    <tr>\n",
       "      <th>2</th>\n",
       "      <td>548</td>\n",
       "      <td>51348</td>\n",
       "      <td>Hematocrit, CSF</td>\n",
       "      <td>Cerebrospinal Fluid (CSF)</td>\n",
       "      <td>Hematology</td>\n",
       "      <td>30398-2</td>\n",
       "    </tr>\n",
       "    <tr>\n",
       "      <th>3</th>\n",
       "      <td>549</td>\n",
       "      <td>51349</td>\n",
       "      <td>Hypersegmented Neutrophils</td>\n",
       "      <td>Cerebrospinal Fluid (CSF)</td>\n",
       "      <td>Hematology</td>\n",
       "      <td>26506-6</td>\n",
       "    </tr>\n",
       "    <tr>\n",
       "      <th>4</th>\n",
       "      <td>550</td>\n",
       "      <td>51350</td>\n",
       "      <td>Immunophenotyping</td>\n",
       "      <td>Cerebrospinal Fluid (CSF)</td>\n",
       "      <td>Hematology</td>\n",
       "      <td>NaN</td>\n",
       "    </tr>\n",
       "  </tbody>\n",
       "</table>\n",
       "</div>"
      ],
      "text/plain": [
       "   ROW_ID  ITEMID                       LABEL                      FLUID  \\\n",
       "0     546   51346                      Blasts  Cerebrospinal Fluid (CSF)   \n",
       "1     547   51347                 Eosinophils  Cerebrospinal Fluid (CSF)   \n",
       "2     548   51348             Hematocrit, CSF  Cerebrospinal Fluid (CSF)   \n",
       "3     549   51349  Hypersegmented Neutrophils  Cerebrospinal Fluid (CSF)   \n",
       "4     550   51350           Immunophenotyping  Cerebrospinal Fluid (CSF)   \n",
       "\n",
       "     CATEGORY LOINC_CODE  \n",
       "0  Hematology    26447-3  \n",
       "1  Hematology    26451-5  \n",
       "2  Hematology    30398-2  \n",
       "3  Hematology    26506-6  \n",
       "4  Hematology        NaN  "
      ]
     },
     "execution_count": 6,
     "metadata": {},
     "output_type": "execute_result"
    }
   ],
   "source": [
    "# show the lab dictionary table\n",
    "lab_dict.head()"
   ]
  },
  {
   "cell_type": "code",
   "execution_count": 7,
   "metadata": {},
   "outputs": [
    {
     "data": {
      "text/html": [
       "<div>\n",
       "<style>\n",
       "    .dataframe thead tr:only-child th {\n",
       "        text-align: right;\n",
       "    }\n",
       "\n",
       "    .dataframe thead th {\n",
       "        text-align: left;\n",
       "    }\n",
       "\n",
       "    .dataframe tbody tr th {\n",
       "        vertical-align: top;\n",
       "    }\n",
       "</style>\n",
       "<table border=\"1\" class=\"dataframe\">\n",
       "  <thead>\n",
       "    <tr style=\"text-align: right;\">\n",
       "      <th></th>\n",
       "      <th>ITEMID</th>\n",
       "      <th>VALUEUOM</th>\n",
       "      <th>counts</th>\n",
       "      <th>mean</th>\n",
       "      <th>median</th>\n",
       "      <th>ROW_ID</th>\n",
       "      <th>LABEL</th>\n",
       "      <th>FLUID</th>\n",
       "      <th>CATEGORY</th>\n",
       "      <th>LOINC_CODE</th>\n",
       "    </tr>\n",
       "  </thead>\n",
       "  <tbody>\n",
       "    <tr>\n",
       "      <th>0</th>\n",
       "      <td>50800</td>\n",
       "      <td>?</td>\n",
       "      <td>404785.0</td>\n",
       "      <td>NaN</td>\n",
       "      <td>NaN</td>\n",
       "      <td>1</td>\n",
       "      <td>SPECIMEN TYPE</td>\n",
       "      <td>BLOOD</td>\n",
       "      <td>BLOOD GAS</td>\n",
       "      <td>NaN</td>\n",
       "    </tr>\n",
       "    <tr>\n",
       "      <th>1</th>\n",
       "      <td>50801</td>\n",
       "      <td>?</td>\n",
       "      <td>5943.0</td>\n",
       "      <td>457.646524</td>\n",
       "      <td>475.0</td>\n",
       "      <td>2</td>\n",
       "      <td>Alveolar-arterial Gradient</td>\n",
       "      <td>Blood</td>\n",
       "      <td>Blood Gas</td>\n",
       "      <td>19991-9</td>\n",
       "    </tr>\n",
       "    <tr>\n",
       "      <th>2</th>\n",
       "      <td>50801</td>\n",
       "      <td>mm Hg</td>\n",
       "      <td>16073.0</td>\n",
       "      <td>478.099981</td>\n",
       "      <td>501.0</td>\n",
       "      <td>2</td>\n",
       "      <td>Alveolar-arterial Gradient</td>\n",
       "      <td>Blood</td>\n",
       "      <td>Blood Gas</td>\n",
       "      <td>19991-9</td>\n",
       "    </tr>\n",
       "    <tr>\n",
       "      <th>3</th>\n",
       "      <td>50802</td>\n",
       "      <td>?</td>\n",
       "      <td>20.0</td>\n",
       "      <td>5.100000</td>\n",
       "      <td>5.0</td>\n",
       "      <td>3</td>\n",
       "      <td>Base Excess</td>\n",
       "      <td>Blood</td>\n",
       "      <td>Blood Gas</td>\n",
       "      <td>11555-0</td>\n",
       "    </tr>\n",
       "    <tr>\n",
       "      <th>4</th>\n",
       "      <td>50802</td>\n",
       "      <td>mEq/L</td>\n",
       "      <td>490631.0</td>\n",
       "      <td>-0.090816</td>\n",
       "      <td>0.0</td>\n",
       "      <td>3</td>\n",
       "      <td>Base Excess</td>\n",
       "      <td>Blood</td>\n",
       "      <td>Blood Gas</td>\n",
       "      <td>11555-0</td>\n",
       "    </tr>\n",
       "  </tbody>\n",
       "</table>\n",
       "</div>"
      ],
      "text/plain": [
       "   ITEMID VALUEUOM    counts        mean  median  ROW_ID  \\\n",
       "0   50800        ?  404785.0         NaN     NaN       1   \n",
       "1   50801        ?    5943.0  457.646524   475.0       2   \n",
       "2   50801    mm Hg   16073.0  478.099981   501.0       2   \n",
       "3   50802        ?      20.0    5.100000     5.0       3   \n",
       "4   50802    mEq/L  490631.0   -0.090816     0.0       3   \n",
       "\n",
       "                        LABEL  FLUID   CATEGORY LOINC_CODE  \n",
       "0               SPECIMEN TYPE  BLOOD  BLOOD GAS        NaN  \n",
       "1  Alveolar-arterial Gradient  Blood  Blood Gas    19991-9  \n",
       "2  Alveolar-arterial Gradient  Blood  Blood Gas    19991-9  \n",
       "3                 Base Excess  Blood  Blood Gas    11555-0  \n",
       "4                 Base Excess  Blood  Blood Gas    11555-0  "
      ]
     },
     "execution_count": 7,
     "metadata": {},
     "output_type": "execute_result"
    }
   ],
   "source": [
    "# show the lab summary data with LOINC code\n",
    "lab_sum.merge(lab_dict, on = 'ITEMID', how = 'outer').head()"
   ]
  },
  {
   "cell_type": "markdown",
   "metadata": {},
   "source": [
    "## Explore lab tests after loinc2hpo transformation.\n",
    "Note the transformed data is not uploaded to the repo or the MySQL database yet..."
   ]
  },
  {
   "cell_type": "code",
   "execution_count": 9,
   "metadata": {},
   "outputs": [],
   "source": [
    "mimic2hpo = pd.read_csv('lab2hpo.csv', sep = ',')"
   ]
  },
  {
   "cell_type": "code",
   "execution_count": 11,
   "metadata": {},
   "outputs": [
    {
     "data": {
      "text/html": [
       "<div>\n",
       "<style>\n",
       "    .dataframe thead tr:only-child th {\n",
       "        text-align: right;\n",
       "    }\n",
       "\n",
       "    .dataframe thead th {\n",
       "        text-align: left;\n",
       "    }\n",
       "\n",
       "    .dataframe tbody tr th {\n",
       "        vertical-align: top;\n",
       "    }\n",
       "</style>\n",
       "<table border=\"1\" class=\"dataframe\">\n",
       "  <thead>\n",
       "    <tr style=\"text-align: right;\">\n",
       "      <th></th>\n",
       "      <th>ROW_ID</th>\n",
       "      <th>NEGATED</th>\n",
       "      <th>MAP_TO</th>\n",
       "    </tr>\n",
       "  </thead>\n",
       "  <tbody>\n",
       "    <tr>\n",
       "      <th>0</th>\n",
       "      <td>281</td>\n",
       "      <td>T</td>\n",
       "      <td>HP:0004360</td>\n",
       "    </tr>\n",
       "    <tr>\n",
       "      <th>1</th>\n",
       "      <td>282</td>\n",
       "      <td>U</td>\n",
       "      <td>ERROR 1: local id not mapped to loinc</td>\n",
       "    </tr>\n",
       "    <tr>\n",
       "      <th>2</th>\n",
       "      <td>283</td>\n",
       "      <td>T</td>\n",
       "      <td>HP:0032281</td>\n",
       "    </tr>\n",
       "    <tr>\n",
       "      <th>3</th>\n",
       "      <td>284</td>\n",
       "      <td>T</td>\n",
       "      <td>HP:0500164</td>\n",
       "    </tr>\n",
       "    <tr>\n",
       "      <th>4</th>\n",
       "      <td>285</td>\n",
       "      <td>F</td>\n",
       "      <td>HP:0002901</td>\n",
       "    </tr>\n",
       "  </tbody>\n",
       "</table>\n",
       "</div>"
      ],
      "text/plain": [
       "   ROW_ID NEGATED                                 MAP_TO\n",
       "0     281       T                             HP:0004360\n",
       "1     282       U  ERROR 1: local id not mapped to loinc\n",
       "2     283       T                             HP:0032281\n",
       "3     284       T                             HP:0500164\n",
       "4     285       F                             HP:0002901"
      ]
     },
     "execution_count": 11,
     "metadata": {},
     "output_type": "execute_result"
    }
   ],
   "source": [
    "mimic2hpo.head()"
   ]
  },
  {
   "cell_type": "markdown",
   "metadata": {
    "collapsed": true
   },
   "source": [
    "Note that the last two columns are the LOINC representation of each lab record. 'Negated' indicates whether the HPO term should be negated to represent the medical implication. \n",
    "\n",
    "For some lab records, we were not able to transform them into HPO terms. We noted what kind of error caused the failure. Below we calculated success conversion rate and the percentages of each type of failures."
   ]
  },
  {
   "cell_type": "code",
   "execution_count": 14,
   "metadata": {},
   "outputs": [
    {
     "data": {
      "text/html": [
       "<div>\n",
       "<style>\n",
       "    .dataframe thead tr:only-child th {\n",
       "        text-align: right;\n",
       "    }\n",
       "\n",
       "    .dataframe thead th {\n",
       "        text-align: left;\n",
       "    }\n",
       "\n",
       "    .dataframe tbody tr th {\n",
       "        vertical-align: top;\n",
       "    }\n",
       "</style>\n",
       "<table border=\"1\" class=\"dataframe\">\n",
       "  <thead>\n",
       "    <tr style=\"text-align: right;\">\n",
       "      <th></th>\n",
       "      <th>percentage</th>\n",
       "    </tr>\n",
       "    <tr>\n",
       "      <th>cat</th>\n",
       "      <th></th>\n",
       "    </tr>\n",
       "  </thead>\n",
       "  <tbody>\n",
       "    <tr>\n",
       "      <th>ERROR 1: local id not mapped to loinc</th>\n",
       "      <td>0.035987</td>\n",
       "    </tr>\n",
       "    <tr>\n",
       "      <th>ERROR 3: loinc code not annotated</th>\n",
       "      <td>0.068701</td>\n",
       "    </tr>\n",
       "    <tr>\n",
       "      <th>ERROR 4: interpretation code not mapped to hpo</th>\n",
       "      <td>0.000112</td>\n",
       "    </tr>\n",
       "    <tr>\n",
       "      <th>ERROR 5: unable to interpret</th>\n",
       "      <td>0.024710</td>\n",
       "    </tr>\n",
       "    <tr>\n",
       "      <th>HPO</th>\n",
       "      <td>0.870490</td>\n",
       "    </tr>\n",
       "  </tbody>\n",
       "</table>\n",
       "</div>"
      ],
      "text/plain": [
       "                                                percentage\n",
       "cat                                                       \n",
       "ERROR 1: local id not mapped to loinc             0.035987\n",
       "ERROR 3: loinc code not annotated                 0.068701\n",
       "ERROR 4: interpretation code not mapped to hpo    0.000112\n",
       "ERROR 5: unable to interpret                      0.024710\n",
       "HPO                                               0.870490"
      ]
     },
     "execution_count": 14,
     "metadata": {},
     "output_type": "execute_result"
    }
   ],
   "source": [
    "pd.DataFrame({'percentage': \n",
    "              mimic2hpo.assign(cat = ['HPO' if x.startswith('HP') else x for x in mimic2hpo.MAP_TO])\n",
    "              .groupby('cat').size() / len(mimic2hpo) })\n"
   ]
  },
  {
   "cell_type": "markdown",
   "metadata": {},
   "source": [
    "The result shows we were able to transform 87.0% lab records into HPO terms. The rate is pretty similar to the asthma dataset (88.6%). Note that the annotations were prioritized based on the LOINC frequencies from the asthma dataset. Therefore there might be some bias when comparing loinc2hpo success rate across datasets. But 87% is not far from 88.6%, and some tailed annotations for the ICU patients may bring up the score further. \n",
    "\n",
    "The top reason for failing to transform lab tests into HPO is missing annotation ( `ERROR 3` ), which happened for 6.9%  lab tests. For these lab tests, we will be able to map to HPO if we do more annotations. \n",
    "\n",
    "The next reason for failing to transform into HPO is that some local lab codes are not mapped to LOINC ( `ERROR 1` : 3.6%). For thse lab tests, we will simply skip them. We do not try to map them into LOINC because the original data provider might have a good reason to not do so.\n",
    "\n",
    "The third reason for failing to transform into HPO is `ERROR 5: unable to interpret` (2.5%). This error occurs when a lab test result was a nominal type, which we did not consider for now, or was not reported in the expected format, such as using a free text that we were not able to parse. For these lab tests, we may consider to address the nominal types, but that is low priority.\n",
    "\n",
    "The last reason for not being able to transform into HPO is `ERROR4: interpretation code not mapped to HPO`. This happens when a lab test was interpreted in a code that we do not have annotations for. Because of the low frequency (0.01%), we will omit such lab tests. "
   ]
  },
  {
   "cell_type": "markdown",
   "metadata": {},
   "source": [
    " \n",
    "  "
   ]
  },
  {
   "cell_type": "markdown",
   "metadata": {},
   "source": [
    "Next, we look at how many HPO terms were assigned to each patient."
   ]
  },
  {
   "cell_type": "code",
   "execution_count": 15,
   "metadata": {
    "collapsed": true
   },
   "outputs": [],
   "source": [
    "mimic2hpo = mimic2hpo.set_index(mimic2hpo.ROW_ID)\n",
    "labevents = labevents.set_index(labevents.ROW_ID)"
   ]
  },
  {
   "cell_type": "code",
   "execution_count": 17,
   "metadata": {},
   "outputs": [
    {
     "data": {
      "text/html": [
       "<div>\n",
       "<style>\n",
       "    .dataframe thead tr:only-child th {\n",
       "        text-align: right;\n",
       "    }\n",
       "\n",
       "    .dataframe thead th {\n",
       "        text-align: left;\n",
       "    }\n",
       "\n",
       "    .dataframe tbody tr th {\n",
       "        vertical-align: top;\n",
       "    }\n",
       "</style>\n",
       "<table border=\"1\" class=\"dataframe\">\n",
       "  <thead>\n",
       "    <tr style=\"text-align: right;\">\n",
       "      <th></th>\n",
       "      <th>ROW_ID</th>\n",
       "      <th>SUBJECT_ID</th>\n",
       "      <th>HADM_ID</th>\n",
       "      <th>ITEMID</th>\n",
       "      <th>CHARTTIME</th>\n",
       "      <th>VALUE</th>\n",
       "      <th>VALUENUM</th>\n",
       "      <th>VALUEUOM</th>\n",
       "      <th>FLAG</th>\n",
       "      <th>NEGATED</th>\n",
       "      <th>MAP_TO</th>\n",
       "    </tr>\n",
       "    <tr>\n",
       "      <th>ROW_ID</th>\n",
       "      <th></th>\n",
       "      <th></th>\n",
       "      <th></th>\n",
       "      <th></th>\n",
       "      <th></th>\n",
       "      <th></th>\n",
       "      <th></th>\n",
       "      <th></th>\n",
       "      <th></th>\n",
       "      <th></th>\n",
       "      <th></th>\n",
       "    </tr>\n",
       "  </thead>\n",
       "  <tbody>\n",
       "    <tr>\n",
       "      <th>281</th>\n",
       "      <td>281</td>\n",
       "      <td>3</td>\n",
       "      <td>NaN</td>\n",
       "      <td>50820</td>\n",
       "      <td>2101-10-12 16:07:00</td>\n",
       "      <td>7.39</td>\n",
       "      <td>7.39</td>\n",
       "      <td>units</td>\n",
       "      <td>NaN</td>\n",
       "      <td>T</td>\n",
       "      <td>HP:0004360</td>\n",
       "    </tr>\n",
       "    <tr>\n",
       "      <th>282</th>\n",
       "      <td>282</td>\n",
       "      <td>3</td>\n",
       "      <td>NaN</td>\n",
       "      <td>50800</td>\n",
       "      <td>2101-10-12 18:17:00</td>\n",
       "      <td>ART</td>\n",
       "      <td>NaN</td>\n",
       "      <td>NaN</td>\n",
       "      <td>NaN</td>\n",
       "      <td>U</td>\n",
       "      <td>ERROR 1: local id not mapped to loinc</td>\n",
       "    </tr>\n",
       "    <tr>\n",
       "      <th>283</th>\n",
       "      <td>283</td>\n",
       "      <td>3</td>\n",
       "      <td>NaN</td>\n",
       "      <td>50802</td>\n",
       "      <td>2101-10-12 18:17:00</td>\n",
       "      <td>-1</td>\n",
       "      <td>-1.00</td>\n",
       "      <td>mEq/L</td>\n",
       "      <td>NaN</td>\n",
       "      <td>T</td>\n",
       "      <td>HP:0032281</td>\n",
       "    </tr>\n",
       "    <tr>\n",
       "      <th>284</th>\n",
       "      <td>284</td>\n",
       "      <td>3</td>\n",
       "      <td>NaN</td>\n",
       "      <td>50804</td>\n",
       "      <td>2101-10-12 18:17:00</td>\n",
       "      <td>22</td>\n",
       "      <td>22.00</td>\n",
       "      <td>mEq/L</td>\n",
       "      <td>NaN</td>\n",
       "      <td>T</td>\n",
       "      <td>HP:0500164</td>\n",
       "    </tr>\n",
       "    <tr>\n",
       "      <th>285</th>\n",
       "      <td>285</td>\n",
       "      <td>3</td>\n",
       "      <td>NaN</td>\n",
       "      <td>50808</td>\n",
       "      <td>2101-10-12 18:17:00</td>\n",
       "      <td>0.93</td>\n",
       "      <td>0.93</td>\n",
       "      <td>mmol/L</td>\n",
       "      <td>abnormal</td>\n",
       "      <td>F</td>\n",
       "      <td>HP:0002901</td>\n",
       "    </tr>\n",
       "  </tbody>\n",
       "</table>\n",
       "</div>"
      ],
      "text/plain": [
       "        ROW_ID  SUBJECT_ID  HADM_ID  ITEMID            CHARTTIME VALUE  \\\n",
       "ROW_ID                                                                   \n",
       "281        281           3      NaN   50820  2101-10-12 16:07:00  7.39   \n",
       "282        282           3      NaN   50800  2101-10-12 18:17:00   ART   \n",
       "283        283           3      NaN   50802  2101-10-12 18:17:00    -1   \n",
       "284        284           3      NaN   50804  2101-10-12 18:17:00    22   \n",
       "285        285           3      NaN   50808  2101-10-12 18:17:00  0.93   \n",
       "\n",
       "        VALUENUM VALUEUOM      FLAG NEGATED  \\\n",
       "ROW_ID                                        \n",
       "281         7.39    units       NaN       T   \n",
       "282          NaN      NaN       NaN       U   \n",
       "283        -1.00    mEq/L       NaN       T   \n",
       "284        22.00    mEq/L       NaN       T   \n",
       "285         0.93   mmol/L  abnormal       F   \n",
       "\n",
       "                                       MAP_TO  \n",
       "ROW_ID                                         \n",
       "281                                HP:0004360  \n",
       "282     ERROR 1: local id not mapped to loinc  \n",
       "283                                HP:0032281  \n",
       "284                                HP:0500164  \n",
       "285                                HP:0002901  "
      ]
     },
     "execution_count": 17,
     "metadata": {},
     "output_type": "execute_result"
    }
   ],
   "source": [
    "combined = labevents.join(mimic2hpo[['NEGATED', 'MAP_TO']], how = 'left')\n",
    "combined.head()"
   ]
  },
  {
   "cell_type": "code",
   "execution_count": 19,
   "metadata": {},
   "outputs": [],
   "source": [
    "total_hp_count_per_patient = combined[combined.MAP_TO.str.startswith('HP')].groupby('SUBJECT_ID').size().reset_index()\n",
    "total_hp_count_per_patient.rename(columns = {'SUBJECT_ID': 'patient', 0: 'hpo_n'}, inplace = True)"
   ]
  },
  {
   "cell_type": "code",
   "execution_count": 20,
   "metadata": {},
   "outputs": [
    {
     "data": {
      "text/html": [
       "<div>\n",
       "<style>\n",
       "    .dataframe thead tr:only-child th {\n",
       "        text-align: right;\n",
       "    }\n",
       "\n",
       "    .dataframe thead th {\n",
       "        text-align: left;\n",
       "    }\n",
       "\n",
       "    .dataframe tbody tr th {\n",
       "        vertical-align: top;\n",
       "    }\n",
       "</style>\n",
       "<table border=\"1\" class=\"dataframe\">\n",
       "  <thead>\n",
       "    <tr style=\"text-align: right;\">\n",
       "      <th></th>\n",
       "      <th>patient</th>\n",
       "      <th>hpo_n</th>\n",
       "    </tr>\n",
       "  </thead>\n",
       "  <tbody>\n",
       "    <tr>\n",
       "      <th>0</th>\n",
       "      <td>2</td>\n",
       "      <td>40</td>\n",
       "    </tr>\n",
       "    <tr>\n",
       "      <th>1</th>\n",
       "      <td>3</td>\n",
       "      <td>1303</td>\n",
       "    </tr>\n",
       "    <tr>\n",
       "      <th>2</th>\n",
       "      <td>4</td>\n",
       "      <td>1433</td>\n",
       "    </tr>\n",
       "    <tr>\n",
       "      <th>3</th>\n",
       "      <td>5</td>\n",
       "      <td>17</td>\n",
       "    </tr>\n",
       "    <tr>\n",
       "      <th>4</th>\n",
       "      <td>6</td>\n",
       "      <td>1065</td>\n",
       "    </tr>\n",
       "  </tbody>\n",
       "</table>\n",
       "</div>"
      ],
      "text/plain": [
       "   patient  hpo_n\n",
       "0        2     40\n",
       "1        3   1303\n",
       "2        4   1433\n",
       "3        5     17\n",
       "4        6   1065"
      ]
     },
     "execution_count": 20,
     "metadata": {},
     "output_type": "execute_result"
    }
   ],
   "source": [
    "total_hp_count_per_patient.head()"
   ]
  },
  {
   "cell_type": "code",
   "execution_count": 21,
   "metadata": {
    "collapsed": true
   },
   "outputs": [],
   "source": [
    "# cut the count of hpo into bins\n",
    "bins = pd.cut(total_hp_count_per_patient.hpo_n, bins = [-1, 0, 100, 500, 1500, 4000, 30000])"
   ]
  },
  {
   "cell_type": "code",
   "execution_count": 22,
   "metadata": {},
   "outputs": [
    {
     "data": {
      "text/plain": [
       "hpo_n\n",
       "(-1, 0]              0\n",
       "(0, 100]         10247\n",
       "(100, 500]       22261\n",
       "(500, 1500]      10404\n",
       "(1500, 4000]      2876\n",
       "(4000, 30000]      463\n",
       "dtype: int64"
      ]
     },
     "execution_count": 22,
     "metadata": {},
     "output_type": "execute_result"
    }
   ],
   "source": [
    "total_hp_count_per_patient.groupby(bins).size()"
   ]
  },
  {
   "cell_type": "markdown",
   "metadata": {},
   "source": [
    "We can see that the majority of patients have between 100 - 500 HPO terms. Note that this counts repeated HPO terms multiple times, and counts both normal finds and abnormal findings.\n",
    "\n",
    "Next, we look at abnormal findings only."
   ]
  },
  {
   "cell_type": "code",
   "execution_count": 23,
   "metadata": {
    "collapsed": true
   },
   "outputs": [],
   "source": [
    "abnormal_hp_count_per_patient = combined[combined.NEGATED == 'F'].groupby('SUBJECT_ID').size().reset_index()\n",
    "\n",
    "\n",
    "#.groupby(pd.cut('0', bins = [0, 100, 500, 1000, 30000])).size()"
   ]
  },
  {
   "cell_type": "code",
   "execution_count": 24,
   "metadata": {},
   "outputs": [
    {
     "data": {
      "text/plain": [
       "0\n",
       "(0, 100]         24032\n",
       "(100, 500]       17490\n",
       "(500, 1000]       2912\n",
       "(1000, 5000]      1466\n",
       "(5000, 30000]       17\n",
       "dtype: int64"
      ]
     },
     "execution_count": 24,
     "metadata": {},
     "output_type": "execute_result"
    }
   ],
   "source": [
    "abnormal_hp_count_per_patient.groupby(pd.cut(abnormal_hp_count_per_patient.loc[:,0], bins = [0, 100, 500, 1000, 5000, 30000])).size()"
   ]
  },
  {
   "cell_type": "markdown",
   "metadata": {},
   "source": [
    "Notice that most patients have between 0 - 100 abnormal findings. Note we still count repeated abnormal findings multiple times.\n",
    "\n",
    "Next, we look at abnormal findings but only look at unique findings for each patient."
   ]
  },
  {
   "cell_type": "code",
   "execution_count": 25,
   "metadata": {
    "collapsed": true
   },
   "outputs": [],
   "source": [
    "patient_group = combined[combined.NEGATED == 'F'].groupby('SUBJECT_ID')"
   ]
  },
  {
   "cell_type": "code",
   "execution_count": 27,
   "metadata": {},
   "outputs": [],
   "source": [
    "unique_abnormal_hp_count = pd.DataFrame({'patient_id': [group_id for group_id, _ in patient_group],\n",
    "                                        'abnormal_hpo_n': [len(group.MAP_TO.unique()) for _, group in patient_group]})"
   ]
  },
  {
   "cell_type": "code",
   "execution_count": 28,
   "metadata": {
    "collapsed": true
   },
   "outputs": [],
   "source": [
    "unique_abnormal_hp_count = unique_abnormal_hp_count.set_index('patient_id')\n"
   ]
  },
  {
   "cell_type": "code",
   "execution_count": 29,
   "metadata": {},
   "outputs": [
    {
     "data": {
      "text/html": [
       "<div>\n",
       "<style>\n",
       "    .dataframe thead tr:only-child th {\n",
       "        text-align: right;\n",
       "    }\n",
       "\n",
       "    .dataframe thead th {\n",
       "        text-align: left;\n",
       "    }\n",
       "\n",
       "    .dataframe tbody tr th {\n",
       "        vertical-align: top;\n",
       "    }\n",
       "</style>\n",
       "<table border=\"1\" class=\"dataframe\">\n",
       "  <thead>\n",
       "    <tr style=\"text-align: right;\">\n",
       "      <th></th>\n",
       "      <th>abnormal_hpo_n</th>\n",
       "    </tr>\n",
       "    <tr>\n",
       "      <th>patient_id</th>\n",
       "      <th></th>\n",
       "    </tr>\n",
       "  </thead>\n",
       "  <tbody>\n",
       "    <tr>\n",
       "      <th>2</th>\n",
       "      <td>14</td>\n",
       "    </tr>\n",
       "    <tr>\n",
       "      <th>3</th>\n",
       "      <td>42</td>\n",
       "    </tr>\n",
       "    <tr>\n",
       "      <th>4</th>\n",
       "      <td>66</td>\n",
       "    </tr>\n",
       "    <tr>\n",
       "      <th>5</th>\n",
       "      <td>5</td>\n",
       "    </tr>\n",
       "    <tr>\n",
       "      <th>6</th>\n",
       "      <td>54</td>\n",
       "    </tr>\n",
       "  </tbody>\n",
       "</table>\n",
       "</div>"
      ],
      "text/plain": [
       "            abnormal_hpo_n\n",
       "patient_id                \n",
       "2                       14\n",
       "3                       42\n",
       "4                       66\n",
       "5                        5\n",
       "6                       54"
      ]
     },
     "execution_count": 29,
     "metadata": {},
     "output_type": "execute_result"
    }
   ],
   "source": [
    "unique_abnormal_hp_count.head()"
   ]
  },
  {
   "cell_type": "code",
   "execution_count": 31,
   "metadata": {},
   "outputs": [
    {
     "data": {
      "text/html": [
       "<div>\n",
       "<style>\n",
       "    .dataframe thead tr:only-child th {\n",
       "        text-align: right;\n",
       "    }\n",
       "\n",
       "    .dataframe thead th {\n",
       "        text-align: left;\n",
       "    }\n",
       "\n",
       "    .dataframe tbody tr th {\n",
       "        vertical-align: top;\n",
       "    }\n",
       "</style>\n",
       "<table border=\"1\" class=\"dataframe\">\n",
       "  <thead>\n",
       "    <tr style=\"text-align: right;\">\n",
       "      <th></th>\n",
       "      <th>abnormal_hpo_n</th>\n",
       "    </tr>\n",
       "  </thead>\n",
       "  <tbody>\n",
       "    <tr>\n",
       "      <th>count</th>\n",
       "      <td>45917.000000</td>\n",
       "    </tr>\n",
       "    <tr>\n",
       "      <th>mean</th>\n",
       "      <td>27.806586</td>\n",
       "    </tr>\n",
       "    <tr>\n",
       "      <th>std</th>\n",
       "      <td>15.708607</td>\n",
       "    </tr>\n",
       "    <tr>\n",
       "      <th>min</th>\n",
       "      <td>1.000000</td>\n",
       "    </tr>\n",
       "    <tr>\n",
       "      <th>25%</th>\n",
       "      <td>16.000000</td>\n",
       "    </tr>\n",
       "    <tr>\n",
       "      <th>50%</th>\n",
       "      <td>26.000000</td>\n",
       "    </tr>\n",
       "    <tr>\n",
       "      <th>75%</th>\n",
       "      <td>38.000000</td>\n",
       "    </tr>\n",
       "    <tr>\n",
       "      <th>max</th>\n",
       "      <td>100.000000</td>\n",
       "    </tr>\n",
       "  </tbody>\n",
       "</table>\n",
       "</div>"
      ],
      "text/plain": [
       "       abnormal_hpo_n\n",
       "count    45917.000000\n",
       "mean        27.806586\n",
       "std         15.708607\n",
       "min          1.000000\n",
       "25%         16.000000\n",
       "50%         26.000000\n",
       "75%         38.000000\n",
       "max        100.000000"
      ]
     },
     "execution_count": 31,
     "metadata": {},
     "output_type": "execute_result"
    }
   ],
   "source": [
    "unique_abnormal_hp_count.describe()"
   ]
  },
  {
   "cell_type": "markdown",
   "metadata": {},
   "source": [
    "The result shows that each patient on average has 27.8 unique abnormal findings in HPO terms. the interquantile range is 16 - 38. \n",
    "\n",
    "Next, we are going to infer HPO terms based on HPO hierarchy. Before we do that, we need to define a target and a window, such as 10 days before death?\n",
    "\n",
    "to continue..."
   ]
  },
  {
   "cell_type": "code",
   "execution_count": null,
   "metadata": {
    "collapsed": true
   },
   "outputs": [],
   "source": []
  }
 ],
 "metadata": {
  "kernelspec": {
   "display_name": "Python 3",
   "language": "python",
   "name": "python3"
  },
  "language_info": {
   "codemirror_mode": {
    "name": "ipython",
    "version": 3
   },
   "file_extension": ".py",
   "mimetype": "text/x-python",
   "name": "python",
   "nbconvert_exporter": "python",
   "pygments_lexer": "ipython3",
   "version": "3.6.2"
  }
 },
 "nbformat": 4,
 "nbformat_minor": 2
}
