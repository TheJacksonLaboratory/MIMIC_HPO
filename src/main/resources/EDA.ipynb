{
 "cells": [
  {
   "cell_type": "code",
   "execution_count": 1,
   "metadata": {
    "collapsed": true
   },
   "outputs": [],
   "source": [
    "import mysql.connector\n",
    "import numpy as np\n",
    "import pandas as pd\n",
    "import matplotlib.pyplot as plt\n",
    "import datetime"
   ]
  },
  {
   "cell_type": "code",
   "execution_count": 2,
   "metadata": {
    "collapsed": true
   },
   "outputs": [],
   "source": [
    "lab_dict = pd.read_csv('D_LABITEMS.csv', sep = ',')\n",
    "labevents = pd.read_csv('LABEVENTS.csv', sep = ',')"
   ]
  },
  {
   "cell_type": "markdown",
   "metadata": {},
   "source": [
    "## Explore the LABEVENTS table\n",
    "Note that we could do the same thing from MySQL."
   ]
  },
  {
   "cell_type": "code",
   "execution_count": 3,
   "metadata": {},
   "outputs": [
    {
     "data": {
      "text/html": [
       "<div>\n",
       "<style>\n",
       "    .dataframe thead tr:only-child th {\n",
       "        text-align: right;\n",
       "    }\n",
       "\n",
       "    .dataframe thead th {\n",
       "        text-align: left;\n",
       "    }\n",
       "\n",
       "    .dataframe tbody tr th {\n",
       "        vertical-align: top;\n",
       "    }\n",
       "</style>\n",
       "<table border=\"1\" class=\"dataframe\">\n",
       "  <thead>\n",
       "    <tr style=\"text-align: right;\">\n",
       "      <th></th>\n",
       "      <th>ROW_ID</th>\n",
       "      <th>SUBJECT_ID</th>\n",
       "      <th>HADM_ID</th>\n",
       "      <th>ITEMID</th>\n",
       "      <th>CHARTTIME</th>\n",
       "      <th>VALUE</th>\n",
       "      <th>VALUENUM</th>\n",
       "      <th>VALUEUOM</th>\n",
       "      <th>FLAG</th>\n",
       "    </tr>\n",
       "  </thead>\n",
       "  <tbody>\n",
       "    <tr>\n",
       "      <th>0</th>\n",
       "      <td>281</td>\n",
       "      <td>3</td>\n",
       "      <td>NaN</td>\n",
       "      <td>50820</td>\n",
       "      <td>2101-10-12 16:07:00</td>\n",
       "      <td>7.39</td>\n",
       "      <td>7.39</td>\n",
       "      <td>units</td>\n",
       "      <td>NaN</td>\n",
       "    </tr>\n",
       "    <tr>\n",
       "      <th>1</th>\n",
       "      <td>282</td>\n",
       "      <td>3</td>\n",
       "      <td>NaN</td>\n",
       "      <td>50800</td>\n",
       "      <td>2101-10-12 18:17:00</td>\n",
       "      <td>ART</td>\n",
       "      <td>NaN</td>\n",
       "      <td>NaN</td>\n",
       "      <td>NaN</td>\n",
       "    </tr>\n",
       "    <tr>\n",
       "      <th>2</th>\n",
       "      <td>283</td>\n",
       "      <td>3</td>\n",
       "      <td>NaN</td>\n",
       "      <td>50802</td>\n",
       "      <td>2101-10-12 18:17:00</td>\n",
       "      <td>-1</td>\n",
       "      <td>-1.00</td>\n",
       "      <td>mEq/L</td>\n",
       "      <td>NaN</td>\n",
       "    </tr>\n",
       "    <tr>\n",
       "      <th>3</th>\n",
       "      <td>284</td>\n",
       "      <td>3</td>\n",
       "      <td>NaN</td>\n",
       "      <td>50804</td>\n",
       "      <td>2101-10-12 18:17:00</td>\n",
       "      <td>22</td>\n",
       "      <td>22.00</td>\n",
       "      <td>mEq/L</td>\n",
       "      <td>NaN</td>\n",
       "    </tr>\n",
       "    <tr>\n",
       "      <th>4</th>\n",
       "      <td>285</td>\n",
       "      <td>3</td>\n",
       "      <td>NaN</td>\n",
       "      <td>50808</td>\n",
       "      <td>2101-10-12 18:17:00</td>\n",
       "      <td>0.93</td>\n",
       "      <td>0.93</td>\n",
       "      <td>mmol/L</td>\n",
       "      <td>abnormal</td>\n",
       "    </tr>\n",
       "  </tbody>\n",
       "</table>\n",
       "</div>"
      ],
      "text/plain": [
       "   ROW_ID  SUBJECT_ID  HADM_ID  ITEMID            CHARTTIME VALUE  VALUENUM  \\\n",
       "0     281           3      NaN   50820  2101-10-12 16:07:00  7.39      7.39   \n",
       "1     282           3      NaN   50800  2101-10-12 18:17:00   ART       NaN   \n",
       "2     283           3      NaN   50802  2101-10-12 18:17:00    -1     -1.00   \n",
       "3     284           3      NaN   50804  2101-10-12 18:17:00    22     22.00   \n",
       "4     285           3      NaN   50808  2101-10-12 18:17:00  0.93      0.93   \n",
       "\n",
       "  VALUEUOM      FLAG  \n",
       "0    units       NaN  \n",
       "1      NaN       NaN  \n",
       "2    mEq/L       NaN  \n",
       "3    mEq/L       NaN  \n",
       "4   mmol/L  abnormal  "
      ]
     },
     "execution_count": 3,
     "metadata": {},
     "output_type": "execute_result"
    }
   ],
   "source": [
    "labevents.head()"
   ]
  },
  {
   "cell_type": "markdown",
   "metadata": {},
   "source": [
    "We aggregated each lab test by its units, and counted how many lab test record use each unit, and their means and medians"
   ]
  },
  {
   "cell_type": "code",
   "execution_count": 4,
   "metadata": {
    "collapsed": true
   },
   "outputs": [],
   "source": [
    "group = labevents.fillna({'VALUEUOM':'?'}).groupby(['ITEMID', 'VALUEUOM'])\n",
    "lab_sum = group.size().to_frame(name = 'counts')\n",
    "labevents.set_index('ROW_ID')\n",
    "lab_sum = (lab_sum\n",
    "    .join(group.agg({'VALUENUM':'mean'}).rename(columns={'VALUENUM':'mean'}))\n",
    "    .join(group.agg({'VALUENUM':'median'}).rename(columns={'VALUENUM':'median'}))\n",
    "    .reset_index()\n",
    ")"
   ]
  },
  {
   "cell_type": "code",
   "execution_count": 5,
   "metadata": {},
   "outputs": [
    {
     "data": {
      "text/html": [
       "<div>\n",
       "<style>\n",
       "    .dataframe thead tr:only-child th {\n",
       "        text-align: right;\n",
       "    }\n",
       "\n",
       "    .dataframe thead th {\n",
       "        text-align: left;\n",
       "    }\n",
       "\n",
       "    .dataframe tbody tr th {\n",
       "        vertical-align: top;\n",
       "    }\n",
       "</style>\n",
       "<table border=\"1\" class=\"dataframe\">\n",
       "  <thead>\n",
       "    <tr style=\"text-align: right;\">\n",
       "      <th></th>\n",
       "      <th>ITEMID</th>\n",
       "      <th>VALUEUOM</th>\n",
       "      <th>counts</th>\n",
       "      <th>mean</th>\n",
       "      <th>median</th>\n",
       "    </tr>\n",
       "  </thead>\n",
       "  <tbody>\n",
       "    <tr>\n",
       "      <th>0</th>\n",
       "      <td>50800</td>\n",
       "      <td>?</td>\n",
       "      <td>404785</td>\n",
       "      <td>NaN</td>\n",
       "      <td>NaN</td>\n",
       "    </tr>\n",
       "    <tr>\n",
       "      <th>1</th>\n",
       "      <td>50801</td>\n",
       "      <td>?</td>\n",
       "      <td>5943</td>\n",
       "      <td>457.646524</td>\n",
       "      <td>475.0</td>\n",
       "    </tr>\n",
       "    <tr>\n",
       "      <th>2</th>\n",
       "      <td>50801</td>\n",
       "      <td>mm Hg</td>\n",
       "      <td>16073</td>\n",
       "      <td>478.099981</td>\n",
       "      <td>501.0</td>\n",
       "    </tr>\n",
       "    <tr>\n",
       "      <th>3</th>\n",
       "      <td>50802</td>\n",
       "      <td>?</td>\n",
       "      <td>20</td>\n",
       "      <td>5.100000</td>\n",
       "      <td>5.0</td>\n",
       "    </tr>\n",
       "    <tr>\n",
       "      <th>4</th>\n",
       "      <td>50802</td>\n",
       "      <td>mEq/L</td>\n",
       "      <td>490631</td>\n",
       "      <td>-0.090816</td>\n",
       "      <td>0.0</td>\n",
       "    </tr>\n",
       "    <tr>\n",
       "      <th>5</th>\n",
       "      <td>50803</td>\n",
       "      <td>mEq/L</td>\n",
       "      <td>9246</td>\n",
       "      <td>23.847858</td>\n",
       "      <td>24.0</td>\n",
       "    </tr>\n",
       "    <tr>\n",
       "      <th>6</th>\n",
       "      <td>50804</td>\n",
       "      <td>?</td>\n",
       "      <td>20</td>\n",
       "      <td>33.500000</td>\n",
       "      <td>35.0</td>\n",
       "    </tr>\n",
       "    <tr>\n",
       "      <th>7</th>\n",
       "      <td>50804</td>\n",
       "      <td>MEQ/L</td>\n",
       "      <td>20266</td>\n",
       "      <td>25.918928</td>\n",
       "      <td>26.0</td>\n",
       "    </tr>\n",
       "    <tr>\n",
       "      <th>8</th>\n",
       "      <td>50804</td>\n",
       "      <td>mEq/L</td>\n",
       "      <td>470355</td>\n",
       "      <td>26.046331</td>\n",
       "      <td>26.0</td>\n",
       "    </tr>\n",
       "    <tr>\n",
       "      <th>9</th>\n",
       "      <td>50805</td>\n",
       "      <td>%</td>\n",
       "      <td>2056</td>\n",
       "      <td>1.757571</td>\n",
       "      <td>1.0</td>\n",
       "    </tr>\n",
       "  </tbody>\n",
       "</table>\n",
       "</div>"
      ],
      "text/plain": [
       "   ITEMID VALUEUOM  counts        mean  median\n",
       "0   50800        ?  404785         NaN     NaN\n",
       "1   50801        ?    5943  457.646524   475.0\n",
       "2   50801    mm Hg   16073  478.099981   501.0\n",
       "3   50802        ?      20    5.100000     5.0\n",
       "4   50802    mEq/L  490631   -0.090816     0.0\n",
       "5   50803    mEq/L    9246   23.847858    24.0\n",
       "6   50804        ?      20   33.500000    35.0\n",
       "7   50804    MEQ/L   20266   25.918928    26.0\n",
       "8   50804    mEq/L  470355   26.046331    26.0\n",
       "9   50805        %    2056    1.757571     1.0"
      ]
     },
     "execution_count": 5,
     "metadata": {},
     "output_type": "execute_result"
    }
   ],
   "source": [
    "lab_sum.head(n = 10)"
   ]
  },
  {
   "cell_type": "markdown",
   "metadata": {},
   "source": [
    "The above table represented lab tests with their local codes (ITEMID column). We can join the lab code dictionary table to get the LOINC coding."
   ]
  },
  {
   "cell_type": "code",
   "execution_count": 6,
   "metadata": {},
   "outputs": [
    {
     "data": {
      "text/html": [
       "<div>\n",
       "<style>\n",
       "    .dataframe thead tr:only-child th {\n",
       "        text-align: right;\n",
       "    }\n",
       "\n",
       "    .dataframe thead th {\n",
       "        text-align: left;\n",
       "    }\n",
       "\n",
       "    .dataframe tbody tr th {\n",
       "        vertical-align: top;\n",
       "    }\n",
       "</style>\n",
       "<table border=\"1\" class=\"dataframe\">\n",
       "  <thead>\n",
       "    <tr style=\"text-align: right;\">\n",
       "      <th></th>\n",
       "      <th>ROW_ID</th>\n",
       "      <th>ITEMID</th>\n",
       "      <th>LABEL</th>\n",
       "      <th>FLUID</th>\n",
       "      <th>CATEGORY</th>\n",
       "      <th>LOINC_CODE</th>\n",
       "    </tr>\n",
       "  </thead>\n",
       "  <tbody>\n",
       "    <tr>\n",
       "      <th>0</th>\n",
       "      <td>546</td>\n",
       "      <td>51346</td>\n",
       "      <td>Blasts</td>\n",
       "      <td>Cerebrospinal Fluid (CSF)</td>\n",
       "      <td>Hematology</td>\n",
       "      <td>26447-3</td>\n",
       "    </tr>\n",
       "    <tr>\n",
       "      <th>1</th>\n",
       "      <td>547</td>\n",
       "      <td>51347</td>\n",
       "      <td>Eosinophils</td>\n",
       "      <td>Cerebrospinal Fluid (CSF)</td>\n",
       "      <td>Hematology</td>\n",
       "      <td>26451-5</td>\n",
       "    </tr>\n",
       "    <tr>\n",
       "      <th>2</th>\n",
       "      <td>548</td>\n",
       "      <td>51348</td>\n",
       "      <td>Hematocrit, CSF</td>\n",
       "      <td>Cerebrospinal Fluid (CSF)</td>\n",
       "      <td>Hematology</td>\n",
       "      <td>30398-2</td>\n",
       "    </tr>\n",
       "    <tr>\n",
       "      <th>3</th>\n",
       "      <td>549</td>\n",
       "      <td>51349</td>\n",
       "      <td>Hypersegmented Neutrophils</td>\n",
       "      <td>Cerebrospinal Fluid (CSF)</td>\n",
       "      <td>Hematology</td>\n",
       "      <td>26506-6</td>\n",
       "    </tr>\n",
       "    <tr>\n",
       "      <th>4</th>\n",
       "      <td>550</td>\n",
       "      <td>51350</td>\n",
       "      <td>Immunophenotyping</td>\n",
       "      <td>Cerebrospinal Fluid (CSF)</td>\n",
       "      <td>Hematology</td>\n",
       "      <td>NaN</td>\n",
       "    </tr>\n",
       "  </tbody>\n",
       "</table>\n",
       "</div>"
      ],
      "text/plain": [
       "   ROW_ID  ITEMID                       LABEL                      FLUID  \\\n",
       "0     546   51346                      Blasts  Cerebrospinal Fluid (CSF)   \n",
       "1     547   51347                 Eosinophils  Cerebrospinal Fluid (CSF)   \n",
       "2     548   51348             Hematocrit, CSF  Cerebrospinal Fluid (CSF)   \n",
       "3     549   51349  Hypersegmented Neutrophils  Cerebrospinal Fluid (CSF)   \n",
       "4     550   51350           Immunophenotyping  Cerebrospinal Fluid (CSF)   \n",
       "\n",
       "     CATEGORY LOINC_CODE  \n",
       "0  Hematology    26447-3  \n",
       "1  Hematology    26451-5  \n",
       "2  Hematology    30398-2  \n",
       "3  Hematology    26506-6  \n",
       "4  Hematology        NaN  "
      ]
     },
     "execution_count": 6,
     "metadata": {},
     "output_type": "execute_result"
    }
   ],
   "source": [
    "# show the lab dictionary table\n",
    "lab_dict.head()"
   ]
  },
  {
   "cell_type": "code",
   "execution_count": 7,
   "metadata": {},
   "outputs": [
    {
     "data": {
      "text/html": [
       "<div>\n",
       "<style>\n",
       "    .dataframe thead tr:only-child th {\n",
       "        text-align: right;\n",
       "    }\n",
       "\n",
       "    .dataframe thead th {\n",
       "        text-align: left;\n",
       "    }\n",
       "\n",
       "    .dataframe tbody tr th {\n",
       "        vertical-align: top;\n",
       "    }\n",
       "</style>\n",
       "<table border=\"1\" class=\"dataframe\">\n",
       "  <thead>\n",
       "    <tr style=\"text-align: right;\">\n",
       "      <th></th>\n",
       "      <th>ITEMID</th>\n",
       "      <th>VALUEUOM</th>\n",
       "      <th>counts</th>\n",
       "      <th>mean</th>\n",
       "      <th>median</th>\n",
       "      <th>ROW_ID</th>\n",
       "      <th>LABEL</th>\n",
       "      <th>FLUID</th>\n",
       "      <th>CATEGORY</th>\n",
       "      <th>LOINC_CODE</th>\n",
       "    </tr>\n",
       "  </thead>\n",
       "  <tbody>\n",
       "    <tr>\n",
       "      <th>0</th>\n",
       "      <td>50800</td>\n",
       "      <td>?</td>\n",
       "      <td>404785.0</td>\n",
       "      <td>NaN</td>\n",
       "      <td>NaN</td>\n",
       "      <td>1</td>\n",
       "      <td>SPECIMEN TYPE</td>\n",
       "      <td>BLOOD</td>\n",
       "      <td>BLOOD GAS</td>\n",
       "      <td>NaN</td>\n",
       "    </tr>\n",
       "    <tr>\n",
       "      <th>1</th>\n",
       "      <td>50801</td>\n",
       "      <td>?</td>\n",
       "      <td>5943.0</td>\n",
       "      <td>457.646524</td>\n",
       "      <td>475.0</td>\n",
       "      <td>2</td>\n",
       "      <td>Alveolar-arterial Gradient</td>\n",
       "      <td>Blood</td>\n",
       "      <td>Blood Gas</td>\n",
       "      <td>19991-9</td>\n",
       "    </tr>\n",
       "    <tr>\n",
       "      <th>2</th>\n",
       "      <td>50801</td>\n",
       "      <td>mm Hg</td>\n",
       "      <td>16073.0</td>\n",
       "      <td>478.099981</td>\n",
       "      <td>501.0</td>\n",
       "      <td>2</td>\n",
       "      <td>Alveolar-arterial Gradient</td>\n",
       "      <td>Blood</td>\n",
       "      <td>Blood Gas</td>\n",
       "      <td>19991-9</td>\n",
       "    </tr>\n",
       "    <tr>\n",
       "      <th>3</th>\n",
       "      <td>50802</td>\n",
       "      <td>?</td>\n",
       "      <td>20.0</td>\n",
       "      <td>5.100000</td>\n",
       "      <td>5.0</td>\n",
       "      <td>3</td>\n",
       "      <td>Base Excess</td>\n",
       "      <td>Blood</td>\n",
       "      <td>Blood Gas</td>\n",
       "      <td>11555-0</td>\n",
       "    </tr>\n",
       "    <tr>\n",
       "      <th>4</th>\n",
       "      <td>50802</td>\n",
       "      <td>mEq/L</td>\n",
       "      <td>490631.0</td>\n",
       "      <td>-0.090816</td>\n",
       "      <td>0.0</td>\n",
       "      <td>3</td>\n",
       "      <td>Base Excess</td>\n",
       "      <td>Blood</td>\n",
       "      <td>Blood Gas</td>\n",
       "      <td>11555-0</td>\n",
       "    </tr>\n",
       "  </tbody>\n",
       "</table>\n",
       "</div>"
      ],
      "text/plain": [
       "   ITEMID VALUEUOM    counts        mean  median  ROW_ID  \\\n",
       "0   50800        ?  404785.0         NaN     NaN       1   \n",
       "1   50801        ?    5943.0  457.646524   475.0       2   \n",
       "2   50801    mm Hg   16073.0  478.099981   501.0       2   \n",
       "3   50802        ?      20.0    5.100000     5.0       3   \n",
       "4   50802    mEq/L  490631.0   -0.090816     0.0       3   \n",
       "\n",
       "                        LABEL  FLUID   CATEGORY LOINC_CODE  \n",
       "0               SPECIMEN TYPE  BLOOD  BLOOD GAS        NaN  \n",
       "1  Alveolar-arterial Gradient  Blood  Blood Gas    19991-9  \n",
       "2  Alveolar-arterial Gradient  Blood  Blood Gas    19991-9  \n",
       "3                 Base Excess  Blood  Blood Gas    11555-0  \n",
       "4                 Base Excess  Blood  Blood Gas    11555-0  "
      ]
     },
     "execution_count": 7,
     "metadata": {},
     "output_type": "execute_result"
    }
   ],
   "source": [
    "# show the lab summary data with LOINC code\n",
    "lab_sum.merge(lab_dict, on = 'ITEMID', how = 'outer').head()"
   ]
  },
  {
   "cell_type": "markdown",
   "metadata": {},
   "source": [
    "## Explore lab tests after loinc2hpo transformation.\n",
    "Note the transformed data is not uploaded to the repo or the MySQL database yet..."
   ]
  },
  {
   "cell_type": "code",
   "execution_count": 9,
   "metadata": {
    "collapsed": true
   },
   "outputs": [],
   "source": [
    "mimic2hpo = pd.read_csv('lab2hpo.csv', sep = ',')"
   ]
  },
  {
   "cell_type": "code",
   "execution_count": 11,
   "metadata": {},
   "outputs": [
    {
     "data": {
      "text/html": [
       "<div>\n",
       "<style>\n",
       "    .dataframe thead tr:only-child th {\n",
       "        text-align: right;\n",
       "    }\n",
       "\n",
       "    .dataframe thead th {\n",
       "        text-align: left;\n",
       "    }\n",
       "\n",
       "    .dataframe tbody tr th {\n",
       "        vertical-align: top;\n",
       "    }\n",
       "</style>\n",
       "<table border=\"1\" class=\"dataframe\">\n",
       "  <thead>\n",
       "    <tr style=\"text-align: right;\">\n",
       "      <th></th>\n",
       "      <th>ROW_ID</th>\n",
       "      <th>NEGATED</th>\n",
       "      <th>MAP_TO</th>\n",
       "    </tr>\n",
       "  </thead>\n",
       "  <tbody>\n",
       "    <tr>\n",
       "      <th>0</th>\n",
       "      <td>281</td>\n",
       "      <td>T</td>\n",
       "      <td>HP:0004360</td>\n",
       "    </tr>\n",
       "    <tr>\n",
       "      <th>1</th>\n",
       "      <td>282</td>\n",
       "      <td>U</td>\n",
       "      <td>ERROR 1: local id not mapped to loinc</td>\n",
       "    </tr>\n",
       "    <tr>\n",
       "      <th>2</th>\n",
       "      <td>283</td>\n",
       "      <td>T</td>\n",
       "      <td>HP:0032281</td>\n",
       "    </tr>\n",
       "    <tr>\n",
       "      <th>3</th>\n",
       "      <td>284</td>\n",
       "      <td>T</td>\n",
       "      <td>HP:0500164</td>\n",
       "    </tr>\n",
       "    <tr>\n",
       "      <th>4</th>\n",
       "      <td>285</td>\n",
       "      <td>F</td>\n",
       "      <td>HP:0002901</td>\n",
       "    </tr>\n",
       "  </tbody>\n",
       "</table>\n",
       "</div>"
      ],
      "text/plain": [
       "   ROW_ID NEGATED                                 MAP_TO\n",
       "0     281       T                             HP:0004360\n",
       "1     282       U  ERROR 1: local id not mapped to loinc\n",
       "2     283       T                             HP:0032281\n",
       "3     284       T                             HP:0500164\n",
       "4     285       F                             HP:0002901"
      ]
     },
     "execution_count": 11,
     "metadata": {},
     "output_type": "execute_result"
    }
   ],
   "source": [
    "mimic2hpo.head()"
   ]
  },
  {
   "cell_type": "markdown",
   "metadata": {
    "collapsed": true
   },
   "source": [
    "Note that the last two columns are the LOINC representation of each lab record. 'Negated' indicates whether the HPO term should be negated to represent the medical implication. \n",
    "\n",
    "For some lab records, we were not able to transform them into HPO terms. We noted what kind of error caused the failure. Below we calculated success conversion rate and the percentages of each type of failures."
   ]
  },
  {
   "cell_type": "code",
   "execution_count": 14,
   "metadata": {},
   "outputs": [
    {
     "data": {
      "text/html": [
       "<div>\n",
       "<style>\n",
       "    .dataframe thead tr:only-child th {\n",
       "        text-align: right;\n",
       "    }\n",
       "\n",
       "    .dataframe thead th {\n",
       "        text-align: left;\n",
       "    }\n",
       "\n",
       "    .dataframe tbody tr th {\n",
       "        vertical-align: top;\n",
       "    }\n",
       "</style>\n",
       "<table border=\"1\" class=\"dataframe\">\n",
       "  <thead>\n",
       "    <tr style=\"text-align: right;\">\n",
       "      <th></th>\n",
       "      <th>percentage</th>\n",
       "    </tr>\n",
       "    <tr>\n",
       "      <th>cat</th>\n",
       "      <th></th>\n",
       "    </tr>\n",
       "  </thead>\n",
       "  <tbody>\n",
       "    <tr>\n",
       "      <th>ERROR 1: local id not mapped to loinc</th>\n",
       "      <td>0.035987</td>\n",
       "    </tr>\n",
       "    <tr>\n",
       "      <th>ERROR 3: loinc code not annotated</th>\n",
       "      <td>0.068701</td>\n",
       "    </tr>\n",
       "    <tr>\n",
       "      <th>ERROR 4: interpretation code not mapped to hpo</th>\n",
       "      <td>0.000112</td>\n",
       "    </tr>\n",
       "    <tr>\n",
       "      <th>ERROR 5: unable to interpret</th>\n",
       "      <td>0.024710</td>\n",
       "    </tr>\n",
       "    <tr>\n",
       "      <th>HPO</th>\n",
       "      <td>0.870490</td>\n",
       "    </tr>\n",
       "  </tbody>\n",
       "</table>\n",
       "</div>"
      ],
      "text/plain": [
       "                                                percentage\n",
       "cat                                                       \n",
       "ERROR 1: local id not mapped to loinc             0.035987\n",
       "ERROR 3: loinc code not annotated                 0.068701\n",
       "ERROR 4: interpretation code not mapped to hpo    0.000112\n",
       "ERROR 5: unable to interpret                      0.024710\n",
       "HPO                                               0.870490"
      ]
     },
     "execution_count": 14,
     "metadata": {},
     "output_type": "execute_result"
    }
   ],
   "source": [
    "pd.DataFrame({'percentage': \n",
    "              mimic2hpo.assign(cat = ['HPO' if x.startswith('HP') else x for x in mimic2hpo.MAP_TO])\n",
    "              .groupby('cat').size() / len(mimic2hpo) })\n"
   ]
  },
  {
   "cell_type": "markdown",
   "metadata": {},
   "source": [
    "The result shows we were able to transform 87.0% lab records into HPO terms. The rate is pretty similar to the asthma dataset (88.6%). Note that the annotations were prioritized based on the LOINC frequencies from the asthma dataset. Therefore there might be some bias when comparing loinc2hpo success rate across datasets. But 87% is not far from 88.6%, and some tailed annotations for the ICU patients may bring up the score further. \n",
    "\n",
    "The top reason for failing to transform lab tests into HPO is missing annotation ( `ERROR 3` ), which happened for 6.9%  lab tests. For these lab tests, we will be able to map to HPO if we do more annotations. \n",
    "\n",
    "The next reason for failing to transform into HPO is that some local lab codes are not mapped to LOINC ( `ERROR 1` : 3.6%). For thse lab tests, we will simply skip them. We do not try to map them into LOINC because the original data provider might have a good reason to not do so.\n",
    "\n",
    "The third reason for failing to transform into HPO is `ERROR 5: unable to interpret` (2.5%). This error occurs when a lab test result was a nominal type, which we did not consider for now, or was not reported in the expected format, such as using a free text that we were not able to parse. For these lab tests, we may consider to address the nominal types, but that is low priority.\n",
    "\n",
    "The last reason for not being able to transform into HPO is `ERROR4: interpretation code not mapped to HPO`. This happens when a lab test was interpreted in a code that we do not have annotations for. Because of the low frequency (0.01%), we will omit such lab tests. "
   ]
  },
  {
   "cell_type": "markdown",
   "metadata": {},
   "source": [
    " \n",
    "  "
   ]
  },
  {
   "cell_type": "markdown",
   "metadata": {},
   "source": [
    "Next, we look at how many HPO terms were assigned to each patient."
   ]
  },
  {
   "cell_type": "code",
   "execution_count": 15,
   "metadata": {
    "collapsed": true
   },
   "outputs": [],
   "source": [
    "mimic2hpo = mimic2hpo.set_index(mimic2hpo.ROW_ID)\n",
    "labevents = labevents.set_index(labevents.ROW_ID)"
   ]
  },
  {
   "cell_type": "code",
   "execution_count": 17,
   "metadata": {},
   "outputs": [
    {
     "data": {
      "text/html": [
       "<div>\n",
       "<style>\n",
       "    .dataframe thead tr:only-child th {\n",
       "        text-align: right;\n",
       "    }\n",
       "\n",
       "    .dataframe thead th {\n",
       "        text-align: left;\n",
       "    }\n",
       "\n",
       "    .dataframe tbody tr th {\n",
       "        vertical-align: top;\n",
       "    }\n",
       "</style>\n",
       "<table border=\"1\" class=\"dataframe\">\n",
       "  <thead>\n",
       "    <tr style=\"text-align: right;\">\n",
       "      <th></th>\n",
       "      <th>ROW_ID</th>\n",
       "      <th>SUBJECT_ID</th>\n",
       "      <th>HADM_ID</th>\n",
       "      <th>ITEMID</th>\n",
       "      <th>CHARTTIME</th>\n",
       "      <th>VALUE</th>\n",
       "      <th>VALUENUM</th>\n",
       "      <th>VALUEUOM</th>\n",
       "      <th>FLAG</th>\n",
       "      <th>NEGATED</th>\n",
       "      <th>MAP_TO</th>\n",
       "    </tr>\n",
       "    <tr>\n",
       "      <th>ROW_ID</th>\n",
       "      <th></th>\n",
       "      <th></th>\n",
       "      <th></th>\n",
       "      <th></th>\n",
       "      <th></th>\n",
       "      <th></th>\n",
       "      <th></th>\n",
       "      <th></th>\n",
       "      <th></th>\n",
       "      <th></th>\n",
       "      <th></th>\n",
       "    </tr>\n",
       "  </thead>\n",
       "  <tbody>\n",
       "    <tr>\n",
       "      <th>281</th>\n",
       "      <td>281</td>\n",
       "      <td>3</td>\n",
       "      <td>NaN</td>\n",
       "      <td>50820</td>\n",
       "      <td>2101-10-12 16:07:00</td>\n",
       "      <td>7.39</td>\n",
       "      <td>7.39</td>\n",
       "      <td>units</td>\n",
       "      <td>NaN</td>\n",
       "      <td>T</td>\n",
       "      <td>HP:0004360</td>\n",
       "    </tr>\n",
       "    <tr>\n",
       "      <th>282</th>\n",
       "      <td>282</td>\n",
       "      <td>3</td>\n",
       "      <td>NaN</td>\n",
       "      <td>50800</td>\n",
       "      <td>2101-10-12 18:17:00</td>\n",
       "      <td>ART</td>\n",
       "      <td>NaN</td>\n",
       "      <td>NaN</td>\n",
       "      <td>NaN</td>\n",
       "      <td>U</td>\n",
       "      <td>ERROR 1: local id not mapped to loinc</td>\n",
       "    </tr>\n",
       "    <tr>\n",
       "      <th>283</th>\n",
       "      <td>283</td>\n",
       "      <td>3</td>\n",
       "      <td>NaN</td>\n",
       "      <td>50802</td>\n",
       "      <td>2101-10-12 18:17:00</td>\n",
       "      <td>-1</td>\n",
       "      <td>-1.00</td>\n",
       "      <td>mEq/L</td>\n",
       "      <td>NaN</td>\n",
       "      <td>T</td>\n",
       "      <td>HP:0032281</td>\n",
       "    </tr>\n",
       "    <tr>\n",
       "      <th>284</th>\n",
       "      <td>284</td>\n",
       "      <td>3</td>\n",
       "      <td>NaN</td>\n",
       "      <td>50804</td>\n",
       "      <td>2101-10-12 18:17:00</td>\n",
       "      <td>22</td>\n",
       "      <td>22.00</td>\n",
       "      <td>mEq/L</td>\n",
       "      <td>NaN</td>\n",
       "      <td>T</td>\n",
       "      <td>HP:0500164</td>\n",
       "    </tr>\n",
       "    <tr>\n",
       "      <th>285</th>\n",
       "      <td>285</td>\n",
       "      <td>3</td>\n",
       "      <td>NaN</td>\n",
       "      <td>50808</td>\n",
       "      <td>2101-10-12 18:17:00</td>\n",
       "      <td>0.93</td>\n",
       "      <td>0.93</td>\n",
       "      <td>mmol/L</td>\n",
       "      <td>abnormal</td>\n",
       "      <td>F</td>\n",
       "      <td>HP:0002901</td>\n",
       "    </tr>\n",
       "  </tbody>\n",
       "</table>\n",
       "</div>"
      ],
      "text/plain": [
       "        ROW_ID  SUBJECT_ID  HADM_ID  ITEMID            CHARTTIME VALUE  \\\n",
       "ROW_ID                                                                   \n",
       "281        281           3      NaN   50820  2101-10-12 16:07:00  7.39   \n",
       "282        282           3      NaN   50800  2101-10-12 18:17:00   ART   \n",
       "283        283           3      NaN   50802  2101-10-12 18:17:00    -1   \n",
       "284        284           3      NaN   50804  2101-10-12 18:17:00    22   \n",
       "285        285           3      NaN   50808  2101-10-12 18:17:00  0.93   \n",
       "\n",
       "        VALUENUM VALUEUOM      FLAG NEGATED  \\\n",
       "ROW_ID                                        \n",
       "281         7.39    units       NaN       T   \n",
       "282          NaN      NaN       NaN       U   \n",
       "283        -1.00    mEq/L       NaN       T   \n",
       "284        22.00    mEq/L       NaN       T   \n",
       "285         0.93   mmol/L  abnormal       F   \n",
       "\n",
       "                                       MAP_TO  \n",
       "ROW_ID                                         \n",
       "281                                HP:0004360  \n",
       "282     ERROR 1: local id not mapped to loinc  \n",
       "283                                HP:0032281  \n",
       "284                                HP:0500164  \n",
       "285                                HP:0002901  "
      ]
     },
     "execution_count": 17,
     "metadata": {},
     "output_type": "execute_result"
    }
   ],
   "source": [
    "combined = labevents.join(mimic2hpo[['NEGATED', 'MAP_TO']], how = 'left')\n",
    "combined.head()"
   ]
  },
  {
   "cell_type": "code",
   "execution_count": 19,
   "metadata": {
    "collapsed": true
   },
   "outputs": [],
   "source": [
    "total_hp_count_per_patient = combined[combined.MAP_TO.str.startswith('HP')].groupby('SUBJECT_ID').size().reset_index()\n",
    "total_hp_count_per_patient.rename(columns = {'SUBJECT_ID': 'patient', 0: 'hpo_n'}, inplace = True)"
   ]
  },
  {
   "cell_type": "code",
   "execution_count": 20,
   "metadata": {},
   "outputs": [
    {
     "data": {
      "text/html": [
       "<div>\n",
       "<style>\n",
       "    .dataframe thead tr:only-child th {\n",
       "        text-align: right;\n",
       "    }\n",
       "\n",
       "    .dataframe thead th {\n",
       "        text-align: left;\n",
       "    }\n",
       "\n",
       "    .dataframe tbody tr th {\n",
       "        vertical-align: top;\n",
       "    }\n",
       "</style>\n",
       "<table border=\"1\" class=\"dataframe\">\n",
       "  <thead>\n",
       "    <tr style=\"text-align: right;\">\n",
       "      <th></th>\n",
       "      <th>patient</th>\n",
       "      <th>hpo_n</th>\n",
       "    </tr>\n",
       "  </thead>\n",
       "  <tbody>\n",
       "    <tr>\n",
       "      <th>0</th>\n",
       "      <td>2</td>\n",
       "      <td>40</td>\n",
       "    </tr>\n",
       "    <tr>\n",
       "      <th>1</th>\n",
       "      <td>3</td>\n",
       "      <td>1303</td>\n",
       "    </tr>\n",
       "    <tr>\n",
       "      <th>2</th>\n",
       "      <td>4</td>\n",
       "      <td>1433</td>\n",
       "    </tr>\n",
       "    <tr>\n",
       "      <th>3</th>\n",
       "      <td>5</td>\n",
       "      <td>17</td>\n",
       "    </tr>\n",
       "    <tr>\n",
       "      <th>4</th>\n",
       "      <td>6</td>\n",
       "      <td>1065</td>\n",
       "    </tr>\n",
       "  </tbody>\n",
       "</table>\n",
       "</div>"
      ],
      "text/plain": [
       "   patient  hpo_n\n",
       "0        2     40\n",
       "1        3   1303\n",
       "2        4   1433\n",
       "3        5     17\n",
       "4        6   1065"
      ]
     },
     "execution_count": 20,
     "metadata": {},
     "output_type": "execute_result"
    }
   ],
   "source": [
    "total_hp_count_per_patient.head()"
   ]
  },
  {
   "cell_type": "code",
   "execution_count": 21,
   "metadata": {
    "collapsed": true
   },
   "outputs": [],
   "source": [
    "# cut the count of hpo into bins\n",
    "bins = pd.cut(total_hp_count_per_patient.hpo_n, bins = [-1, 0, 100, 500, 1500, 4000, 30000])"
   ]
  },
  {
   "cell_type": "code",
   "execution_count": 22,
   "metadata": {},
   "outputs": [
    {
     "data": {
      "text/plain": [
       "hpo_n\n",
       "(-1, 0]              0\n",
       "(0, 100]         10247\n",
       "(100, 500]       22261\n",
       "(500, 1500]      10404\n",
       "(1500, 4000]      2876\n",
       "(4000, 30000]      463\n",
       "dtype: int64"
      ]
     },
     "execution_count": 22,
     "metadata": {},
     "output_type": "execute_result"
    }
   ],
   "source": [
    "total_hp_count_per_patient.groupby(bins).size()"
   ]
  },
  {
   "cell_type": "markdown",
   "metadata": {},
   "source": [
    "We can see that the majority of patients have between 100 - 500 HPO terms. Note that this counts repeated HPO terms multiple times, and counts both normal finds and abnormal findings.\n",
    "\n",
    "Next, we look at abnormal findings only."
   ]
  },
  {
   "cell_type": "code",
   "execution_count": 23,
   "metadata": {
    "collapsed": true
   },
   "outputs": [],
   "source": [
    "abnormal_hp_count_per_patient = combined[combined.NEGATED == 'F'].groupby('SUBJECT_ID').size().reset_index()\n",
    "\n",
    "\n",
    "#.groupby(pd.cut('0', bins = [0, 100, 500, 1000, 30000])).size()"
   ]
  },
  {
   "cell_type": "code",
   "execution_count": 24,
   "metadata": {},
   "outputs": [
    {
     "data": {
      "text/plain": [
       "0\n",
       "(0, 100]         24032\n",
       "(100, 500]       17490\n",
       "(500, 1000]       2912\n",
       "(1000, 5000]      1466\n",
       "(5000, 30000]       17\n",
       "dtype: int64"
      ]
     },
     "execution_count": 24,
     "metadata": {},
     "output_type": "execute_result"
    }
   ],
   "source": [
    "abnormal_hp_count_per_patient.groupby(pd.cut(abnormal_hp_count_per_patient.loc[:,0], bins = [0, 100, 500, 1000, 5000, 30000])).size()"
   ]
  },
  {
   "cell_type": "markdown",
   "metadata": {},
   "source": [
    "Notice that most patients have between 0 - 100 abnormal findings. Note we still count repeated abnormal findings multiple times.\n",
    "\n",
    "Next, we look at abnormal findings but only look at unique findings for each patient."
   ]
  },
  {
   "cell_type": "code",
   "execution_count": 25,
   "metadata": {
    "collapsed": true
   },
   "outputs": [],
   "source": [
    "patient_group = combined[combined.NEGATED == 'F'].groupby('SUBJECT_ID')"
   ]
  },
  {
   "cell_type": "code",
   "execution_count": 27,
   "metadata": {
    "collapsed": true
   },
   "outputs": [],
   "source": [
    "unique_abnormal_hp_count = pd.DataFrame({'patient_id': [group_id for group_id, _ in patient_group],\n",
    "                                        'abnormal_hpo_n': [len(group.MAP_TO.unique()) for _, group in patient_group]})"
   ]
  },
  {
   "cell_type": "code",
   "execution_count": 28,
   "metadata": {
    "collapsed": true
   },
   "outputs": [],
   "source": [
    "unique_abnormal_hp_count = unique_abnormal_hp_count.set_index('patient_id')\n"
   ]
  },
  {
   "cell_type": "code",
   "execution_count": 29,
   "metadata": {},
   "outputs": [
    {
     "data": {
      "text/html": [
       "<div>\n",
       "<style>\n",
       "    .dataframe thead tr:only-child th {\n",
       "        text-align: right;\n",
       "    }\n",
       "\n",
       "    .dataframe thead th {\n",
       "        text-align: left;\n",
       "    }\n",
       "\n",
       "    .dataframe tbody tr th {\n",
       "        vertical-align: top;\n",
       "    }\n",
       "</style>\n",
       "<table border=\"1\" class=\"dataframe\">\n",
       "  <thead>\n",
       "    <tr style=\"text-align: right;\">\n",
       "      <th></th>\n",
       "      <th>abnormal_hpo_n</th>\n",
       "    </tr>\n",
       "    <tr>\n",
       "      <th>patient_id</th>\n",
       "      <th></th>\n",
       "    </tr>\n",
       "  </thead>\n",
       "  <tbody>\n",
       "    <tr>\n",
       "      <th>2</th>\n",
       "      <td>14</td>\n",
       "    </tr>\n",
       "    <tr>\n",
       "      <th>3</th>\n",
       "      <td>42</td>\n",
       "    </tr>\n",
       "    <tr>\n",
       "      <th>4</th>\n",
       "      <td>66</td>\n",
       "    </tr>\n",
       "    <tr>\n",
       "      <th>5</th>\n",
       "      <td>5</td>\n",
       "    </tr>\n",
       "    <tr>\n",
       "      <th>6</th>\n",
       "      <td>54</td>\n",
       "    </tr>\n",
       "  </tbody>\n",
       "</table>\n",
       "</div>"
      ],
      "text/plain": [
       "            abnormal_hpo_n\n",
       "patient_id                \n",
       "2                       14\n",
       "3                       42\n",
       "4                       66\n",
       "5                        5\n",
       "6                       54"
      ]
     },
     "execution_count": 29,
     "metadata": {},
     "output_type": "execute_result"
    }
   ],
   "source": [
    "unique_abnormal_hp_count.head()"
   ]
  },
  {
   "cell_type": "code",
   "execution_count": 31,
   "metadata": {},
   "outputs": [
    {
     "data": {
      "text/html": [
       "<div>\n",
       "<style>\n",
       "    .dataframe thead tr:only-child th {\n",
       "        text-align: right;\n",
       "    }\n",
       "\n",
       "    .dataframe thead th {\n",
       "        text-align: left;\n",
       "    }\n",
       "\n",
       "    .dataframe tbody tr th {\n",
       "        vertical-align: top;\n",
       "    }\n",
       "</style>\n",
       "<table border=\"1\" class=\"dataframe\">\n",
       "  <thead>\n",
       "    <tr style=\"text-align: right;\">\n",
       "      <th></th>\n",
       "      <th>abnormal_hpo_n</th>\n",
       "    </tr>\n",
       "  </thead>\n",
       "  <tbody>\n",
       "    <tr>\n",
       "      <th>count</th>\n",
       "      <td>45917.000000</td>\n",
       "    </tr>\n",
       "    <tr>\n",
       "      <th>mean</th>\n",
       "      <td>27.806586</td>\n",
       "    </tr>\n",
       "    <tr>\n",
       "      <th>std</th>\n",
       "      <td>15.708607</td>\n",
       "    </tr>\n",
       "    <tr>\n",
       "      <th>min</th>\n",
       "      <td>1.000000</td>\n",
       "    </tr>\n",
       "    <tr>\n",
       "      <th>25%</th>\n",
       "      <td>16.000000</td>\n",
       "    </tr>\n",
       "    <tr>\n",
       "      <th>50%</th>\n",
       "      <td>26.000000</td>\n",
       "    </tr>\n",
       "    <tr>\n",
       "      <th>75%</th>\n",
       "      <td>38.000000</td>\n",
       "    </tr>\n",
       "    <tr>\n",
       "      <th>max</th>\n",
       "      <td>100.000000</td>\n",
       "    </tr>\n",
       "  </tbody>\n",
       "</table>\n",
       "</div>"
      ],
      "text/plain": [
       "       abnormal_hpo_n\n",
       "count    45917.000000\n",
       "mean        27.806586\n",
       "std         15.708607\n",
       "min          1.000000\n",
       "25%         16.000000\n",
       "50%         26.000000\n",
       "75%         38.000000\n",
       "max        100.000000"
      ]
     },
     "execution_count": 31,
     "metadata": {},
     "output_type": "execute_result"
    }
   ],
   "source": [
    "unique_abnormal_hp_count.describe()"
   ]
  },
  {
   "cell_type": "markdown",
   "metadata": {},
   "source": [
    "The result shows that each patient on average has 27.8 unique abnormal findings in HPO terms. the interquantile range is 16 - 38. \n",
    "\n",
    "Next, we are going to infer HPO terms based on HPO hierarchy. Before we do that, we need to define a target and a window, such as 10 days before death?\n",
    "\n",
    "to continue..."
   ]
  },
  {
   "cell_type": "markdown",
   "metadata": {},
   "source": [
    "# Explore the MySQL database"
   ]
  },
  {
   "cell_type": "code",
   "execution_count": 5,
   "metadata": {
    "collapsed": true
   },
   "outputs": [],
   "source": [
    "mydb = mysql.connector.connect(host='localhost',\n",
    "                               user='mimicuser',\n",
    "                               passwd='mimic',\n",
    "                               database='mimiciiiv13',\n",
    "                              auth_plugin='mysql_native_password')"
   ]
  },
  {
   "cell_type": "code",
   "execution_count": 6,
   "metadata": {
    "collapsed": true
   },
   "outputs": [],
   "source": [
    "cursor = mydb.cursor(buffered=True)"
   ]
  },
  {
   "cell_type": "markdown",
   "metadata": {},
   "source": [
    "Check that MySQL connection works properly"
   ]
  },
  {
   "cell_type": "code",
   "execution_count": 8,
   "metadata": {},
   "outputs": [
    {
     "data": {
      "text/html": [
       "<div>\n",
       "<style>\n",
       "    .dataframe thead tr:only-child th {\n",
       "        text-align: right;\n",
       "    }\n",
       "\n",
       "    .dataframe thead th {\n",
       "        text-align: left;\n",
       "    }\n",
       "\n",
       "    .dataframe tbody tr th {\n",
       "        vertical-align: top;\n",
       "    }\n",
       "</style>\n",
       "<table border=\"1\" class=\"dataframe\">\n",
       "  <thead>\n",
       "    <tr style=\"text-align: right;\">\n",
       "      <th></th>\n",
       "      <th>ROW_ID</th>\n",
       "      <th>SUBJECT_ID</th>\n",
       "      <th>HADM_ID</th>\n",
       "      <th>ITEMID</th>\n",
       "      <th>CHARTTIME</th>\n",
       "      <th>VALUE</th>\n",
       "      <th>VALUENUM</th>\n",
       "      <th>VALUEUOM</th>\n",
       "      <th>FLAG</th>\n",
       "    </tr>\n",
       "  </thead>\n",
       "  <tbody>\n",
       "    <tr>\n",
       "      <th>0</th>\n",
       "      <td>1</td>\n",
       "      <td>2</td>\n",
       "      <td>163353</td>\n",
       "      <td>51143</td>\n",
       "      <td>2138-07-17 20:48:00</td>\n",
       "      <td>0</td>\n",
       "      <td>0.0</td>\n",
       "      <td>%</td>\n",
       "      <td>None</td>\n",
       "    </tr>\n",
       "    <tr>\n",
       "      <th>1</th>\n",
       "      <td>2</td>\n",
       "      <td>2</td>\n",
       "      <td>163353</td>\n",
       "      <td>51144</td>\n",
       "      <td>2138-07-17 20:48:00</td>\n",
       "      <td>0</td>\n",
       "      <td>0.0</td>\n",
       "      <td>%</td>\n",
       "      <td>None</td>\n",
       "    </tr>\n",
       "    <tr>\n",
       "      <th>2</th>\n",
       "      <td>3</td>\n",
       "      <td>2</td>\n",
       "      <td>163353</td>\n",
       "      <td>51146</td>\n",
       "      <td>2138-07-17 20:48:00</td>\n",
       "      <td>0</td>\n",
       "      <td>0.0</td>\n",
       "      <td>%</td>\n",
       "      <td>None</td>\n",
       "    </tr>\n",
       "    <tr>\n",
       "      <th>3</th>\n",
       "      <td>4</td>\n",
       "      <td>2</td>\n",
       "      <td>163353</td>\n",
       "      <td>51200</td>\n",
       "      <td>2138-07-17 20:48:00</td>\n",
       "      <td>0</td>\n",
       "      <td>0.0</td>\n",
       "      <td>%</td>\n",
       "      <td>None</td>\n",
       "    </tr>\n",
       "    <tr>\n",
       "      <th>4</th>\n",
       "      <td>5</td>\n",
       "      <td>2</td>\n",
       "      <td>163353</td>\n",
       "      <td>51221</td>\n",
       "      <td>2138-07-17 20:48:00</td>\n",
       "      <td>0</td>\n",
       "      <td>0.0</td>\n",
       "      <td>%</td>\n",
       "      <td>abnormal</td>\n",
       "    </tr>\n",
       "  </tbody>\n",
       "</table>\n",
       "</div>"
      ],
      "text/plain": [
       "   ROW_ID  SUBJECT_ID  HADM_ID  ITEMID           CHARTTIME  VALUE  VALUENUM  \\\n",
       "0       1           2   163353   51143 2138-07-17 20:48:00      0       0.0   \n",
       "1       2           2   163353   51144 2138-07-17 20:48:00      0       0.0   \n",
       "2       3           2   163353   51146 2138-07-17 20:48:00      0       0.0   \n",
       "3       4           2   163353   51200 2138-07-17 20:48:00      0       0.0   \n",
       "4       5           2   163353   51221 2138-07-17 20:48:00      0       0.0   \n",
       "\n",
       "  VALUEUOM      FLAG  \n",
       "0        %      None  \n",
       "1        %      None  \n",
       "2        %      None  \n",
       "3        %      None  \n",
       "4        %  abnormal  "
      ]
     },
     "execution_count": 8,
     "metadata": {},
     "output_type": "execute_result"
    }
   ],
   "source": [
    "df = pd.read_sql_query(\"SELECT * FROM LABEVENTS LIMIT 5;\", mydb)\n",
    "df"
   ]
  },
  {
   "cell_type": "markdown",
   "metadata": {
    "collapsed": true
   },
   "source": [
    "There are some questions we need to further explore. \n",
    "\n",
    "* How many times did each patient get admitted into ICU?\n",
    "\n",
    "From the following query, we can see that about 84% patients were admitted only once, 11% were admitted twice, and the rest 5% were admitted three times or more. We could just focus on the 84%. This will make our task easier as we do not need to worry about effects from other admissions.  "
   ]
  },
  {
   "cell_type": "code",
   "execution_count": 9,
   "metadata": {},
   "outputs": [
    {
     "data": {
      "text/html": [
       "<div>\n",
       "<style>\n",
       "    .dataframe thead tr:only-child th {\n",
       "        text-align: right;\n",
       "    }\n",
       "\n",
       "    .dataframe thead th {\n",
       "        text-align: left;\n",
       "    }\n",
       "\n",
       "    .dataframe tbody tr th {\n",
       "        vertical-align: top;\n",
       "    }\n",
       "</style>\n",
       "<table border=\"1\" class=\"dataframe\">\n",
       "  <thead>\n",
       "    <tr style=\"text-align: right;\">\n",
       "      <th></th>\n",
       "      <th>adm_time</th>\n",
       "      <th>patient_n</th>\n",
       "      <th>percent</th>\n",
       "    </tr>\n",
       "  </thead>\n",
       "  <tbody>\n",
       "    <tr>\n",
       "      <th>0</th>\n",
       "      <td>1</td>\n",
       "      <td>38983</td>\n",
       "      <td>0.837984</td>\n",
       "    </tr>\n",
       "    <tr>\n",
       "      <th>1</th>\n",
       "      <td>2</td>\n",
       "      <td>5160</td>\n",
       "      <td>0.110920</td>\n",
       "    </tr>\n",
       "    <tr>\n",
       "      <th>2</th>\n",
       "      <td>3</td>\n",
       "      <td>1342</td>\n",
       "      <td>0.028848</td>\n",
       "    </tr>\n",
       "    <tr>\n",
       "      <th>3</th>\n",
       "      <td>4</td>\n",
       "      <td>508</td>\n",
       "      <td>0.010920</td>\n",
       "    </tr>\n",
       "    <tr>\n",
       "      <th>4</th>\n",
       "      <td>5</td>\n",
       "      <td>246</td>\n",
       "      <td>0.005288</td>\n",
       "    </tr>\n",
       "    <tr>\n",
       "      <th>5</th>\n",
       "      <td>6</td>\n",
       "      <td>113</td>\n",
       "      <td>0.002429</td>\n",
       "    </tr>\n",
       "    <tr>\n",
       "      <th>6</th>\n",
       "      <td>7</td>\n",
       "      <td>51</td>\n",
       "      <td>0.001096</td>\n",
       "    </tr>\n",
       "    <tr>\n",
       "      <th>7</th>\n",
       "      <td>8</td>\n",
       "      <td>31</td>\n",
       "      <td>0.000666</td>\n",
       "    </tr>\n",
       "    <tr>\n",
       "      <th>8</th>\n",
       "      <td>9</td>\n",
       "      <td>26</td>\n",
       "      <td>0.000559</td>\n",
       "    </tr>\n",
       "    <tr>\n",
       "      <th>9</th>\n",
       "      <td>10</td>\n",
       "      <td>14</td>\n",
       "      <td>0.000301</td>\n",
       "    </tr>\n",
       "  </tbody>\n",
       "</table>\n",
       "</div>"
      ],
      "text/plain": [
       "   adm_time  patient_n   percent\n",
       "0         1      38983  0.837984\n",
       "1         2       5160  0.110920\n",
       "2         3       1342  0.028848\n",
       "3         4        508  0.010920\n",
       "4         5        246  0.005288\n",
       "5         6        113  0.002429\n",
       "6         7         51  0.001096\n",
       "7         8         31  0.000666\n",
       "8         9         26  0.000559\n",
       "9        10         14  0.000301"
      ]
     },
     "execution_count": 9,
     "metadata": {},
     "output_type": "execute_result"
    }
   ],
   "source": [
    "admissions_per_patient = pd.read_sql_query(\"WITH adm_per_patient AS \\\n",
    "    (SELECT count(*) as adm_time FROM ADMISSIONS GROUP BY SUBJECT_ID) \\\n",
    "    SELECT adm_time, count(*) as patient_n FROM adm_per_patient GROUP BY adm_time ORDER BY patient_n DESC\", mydb)\n",
    "admissions_per_patient['percent'] = admissions_per_patient.patient_n / np.sum(admissions_per_patient.patient_n)\n",
    "admissions_per_patient[0:10]"
   ]
  },
  {
   "cell_type": "markdown",
   "metadata": {
    "collapsed": true
   },
   "source": [
    "* How many abnormal phenotypes does each patient have at each admission?\n",
    "\n",
    "From the histogram, we can see that most patients have ~20 abnormal phenotypes. "
   ]
  },
  {
   "cell_type": "code",
   "execution_count": 10,
   "metadata": {
    "collapsed": true
   },
   "outputs": [],
   "source": [
    "cursor.execute(\"DROP TEMPORARY TABLE IF EXISTS combined\")\n",
    "cursor.execute('''\n",
    "        CREATE TEMPORARY TABLE IF NOT EXISTS combined AS \n",
    "        SELECT LABEVENTS.ROW_ID, LABEVENTS.SUBJECT_ID, LABEVENTS.HADM_ID, LABEVENTS.ITEMID, LABEVENTS.CHARTTIME, \n",
    "        LabHpo.NEGATED, LabHpo.MAP_TO \n",
    "        FROM LABEVENTS JOIN LabHpo on LABEVENTS.ROW_ID = LabHpo.ROW_ID\n",
    "   ''')\n",
    "cursor.execute(\"CREATE INDEX combined_negated ON combined (NEGATED)\")\n",
    "\n",
    "abnormPerPatientAdm = pd.read_sql_query(\"WITH abnormal_per_patient_adm AS \\\n",
    "(SELECT SUBJECT_ID, HADM_ID, count(*) AS abnormal_n \\\n",
    "FROM combined WHERE NEGATED = 'F' GROUP BY SUBJECT_ID, HADM_ID) \\\n",
    "SELECT abnormal_n, count(*) AS n FROM abnormal_per_patient_adm GROUP BY abnormal_n ORDER BY n DESC \", mydb)"
   ]
  },
  {
   "cell_type": "markdown",
   "metadata": {
    "collapsed": true
   },
   "source": [
    "A better way is to plot this."
   ]
  },
  {
   "cell_type": "code",
   "execution_count": 12,
   "metadata": {},
   "outputs": [
    {
     "data": {
      "text/plain": [
       "count    73678.000000\n",
       "mean       127.217731\n",
       "std        207.226446\n",
       "min          1.000000\n",
       "25%         24.000000\n",
       "50%         67.000000\n",
       "75%        142.000000\n",
       "max       9467.000000\n",
       "Name: abnormal_n, dtype: float64"
      ]
     },
     "execution_count": 12,
     "metadata": {},
     "output_type": "execute_result"
    }
   ],
   "source": [
    "abnormalities_per_patient_adm = pd.read_sql_query(\"SELECT SUBJECT_ID, HADM_ID, count(*) AS abnormal_n \\\n",
    "FROM combined WHERE NEGATED = 'F' GROUP BY SUBJECT_ID, HADM_ID\", mydb)\n",
    "abnormalities_per_patient_adm.abnormal_n.describe()"
   ]
  },
  {
   "cell_type": "code",
   "execution_count": 13,
   "metadata": {},
   "outputs": [
    {
     "data": {
      "image/png": "[encoded data removed]",
      "text/plain": [
       "<matplotlib.figure.Figure at 0x11993d198>"
      ]
     },
     "metadata": {},
     "output_type": "display_data"
    }
   ],
   "source": [
    "bins = pd.cut(abnormalities_per_patient_adm.abnormal_n, bins = [-1, 0, 25, 50, 75, 100, 125, 150, 175, 200, 3000, 10000])\n",
    "hist_data = abnormalities_per_patient_adm.groupby(bins).size()\n",
    "fig = plt.figure()\n",
    "ax = fig.add_subplot(211)\n",
    "ax.hist(abnormalities_per_patient_adm.abnormal_n, \n",
    "        bins = np.arange(0, np.max(abnormalities_per_patient_adm.abnormal_n), 50))\n",
    "plt.title('abnormal phenotypes per patient-admission')\n",
    "ax = fig.add_subplot(212)\n",
    "ax.hist(abnormalities_per_patient_adm.abnormal_n, \n",
    "        bins = np.arange(-9, np.max(abnormalities_per_patient_adm.abnormal_n), 10))\n",
    "plt.xlim((-20, 200))\n",
    "plt.title('abnormal phenotypes per patient-admission')\n",
    "plt.tight_layout()\n",
    "plt.show()"
   ]
  },
  {
   "cell_type": "markdown",
   "metadata": {},
   "source": [
    "* How to assign that a patient has a phenotype at one admission?\n",
    "\n",
    "We look at how many times does each abnormal phenotype occur for each patient admission."
   ]
  },
  {
   "cell_type": "code",
   "execution_count": 14,
   "metadata": {},
   "outputs": [
    {
     "data": {
      "text/html": [
       "<div>\n",
       "<style>\n",
       "    .dataframe thead tr:only-child th {\n",
       "        text-align: right;\n",
       "    }\n",
       "\n",
       "    .dataframe thead th {\n",
       "        text-align: left;\n",
       "    }\n",
       "\n",
       "    .dataframe tbody tr th {\n",
       "        vertical-align: top;\n",
       "    }\n",
       "</style>\n",
       "<table border=\"1\" class=\"dataframe\">\n",
       "  <thead>\n",
       "    <tr style=\"text-align: right;\">\n",
       "      <th></th>\n",
       "      <th>SUBJECT_ID</th>\n",
       "      <th>HADM_ID</th>\n",
       "      <th>MAP_TO</th>\n",
       "      <th>n</th>\n",
       "    </tr>\n",
       "  </thead>\n",
       "  <tbody>\n",
       "    <tr>\n",
       "      <th>0</th>\n",
       "      <td>2</td>\n",
       "      <td>163353.0</td>\n",
       "      <td>HP:0031851</td>\n",
       "      <td>1</td>\n",
       "    </tr>\n",
       "    <tr>\n",
       "      <th>1</th>\n",
       "      <td>2</td>\n",
       "      <td>163353.0</td>\n",
       "      <td>HP:0020062</td>\n",
       "      <td>1</td>\n",
       "    </tr>\n",
       "    <tr>\n",
       "      <th>2</th>\n",
       "      <td>2</td>\n",
       "      <td>163353.0</td>\n",
       "      <td>HP:0025547</td>\n",
       "      <td>2</td>\n",
       "    </tr>\n",
       "    <tr>\n",
       "      <th>3</th>\n",
       "      <td>2</td>\n",
       "      <td>163353.0</td>\n",
       "      <td>HP:0025066</td>\n",
       "      <td>1</td>\n",
       "    </tr>\n",
       "    <tr>\n",
       "      <th>4</th>\n",
       "      <td>2</td>\n",
       "      <td>163353.0</td>\n",
       "      <td>HP:0001873</td>\n",
       "      <td>1</td>\n",
       "    </tr>\n",
       "  </tbody>\n",
       "</table>\n",
       "</div>"
      ],
      "text/plain": [
       "   SUBJECT_ID   HADM_ID      MAP_TO  n\n",
       "0           2  163353.0  HP:0031851  1\n",
       "1           2  163353.0  HP:0020062  1\n",
       "2           2  163353.0  HP:0025547  2\n",
       "3           2  163353.0  HP:0025066  1\n",
       "4           2  163353.0  HP:0001873  1"
      ]
     },
     "execution_count": 14,
     "metadata": {},
     "output_type": "execute_result"
    }
   ],
   "source": [
    "abnormal_occurrence = pd.read_sql_query(\"SELECT SUBJECT_ID, HADM_ID, MAP_TO, count(*) as n \\\n",
    "    FROM combined \\\n",
    "    WHERE NEGATED = 'F' \\\n",
    "    GROUP BY SUBJECT_ID, HADM_ID, MAP_TO\", mydb)\n",
    "abnormal_occurrence.head()"
   ]
  },
  {
   "cell_type": "markdown",
   "metadata": {},
   "source": [
    "There is an extreme case where a patient had mapped to 906 Hypercapnia HP:0012416"
   ]
  },
  {
   "cell_type": "code",
   "execution_count": 15,
   "metadata": {},
   "outputs": [
    {
     "data": {
      "text/html": [
       "<div>\n",
       "<style>\n",
       "    .dataframe thead tr:only-child th {\n",
       "        text-align: right;\n",
       "    }\n",
       "\n",
       "    .dataframe thead th {\n",
       "        text-align: left;\n",
       "    }\n",
       "\n",
       "    .dataframe tbody tr th {\n",
       "        vertical-align: top;\n",
       "    }\n",
       "</style>\n",
       "<table border=\"1\" class=\"dataframe\">\n",
       "  <thead>\n",
       "    <tr style=\"text-align: right;\">\n",
       "      <th></th>\n",
       "      <th>SUBJECT_ID</th>\n",
       "      <th>HADM_ID</th>\n",
       "      <th>MAP_TO</th>\n",
       "      <th>n</th>\n",
       "    </tr>\n",
       "  </thead>\n",
       "  <tbody>\n",
       "    <tr>\n",
       "      <th>446584</th>\n",
       "      <td>12613</td>\n",
       "      <td>168201.0</td>\n",
       "      <td>HP:0012416</td>\n",
       "      <td>906</td>\n",
       "    </tr>\n",
       "  </tbody>\n",
       "</table>\n",
       "</div>"
      ],
      "text/plain": [
       "        SUBJECT_ID   HADM_ID      MAP_TO    n\n",
       "446584       12613  168201.0  HP:0012416  906"
      ]
     },
     "execution_count": 15,
     "metadata": {},
     "output_type": "execute_result"
    }
   ],
   "source": [
    "abnormal_occurrence[abnormal_occurrence.n == 906]"
   ]
  },
  {
   "cell_type": "code",
   "execution_count": 16,
   "metadata": {},
   "outputs": [
    {
     "data": {
      "image/png": "[encoded data removed]",
      "text/plain": [
       "<matplotlib.figure.Figure at 0x11b674b70>"
      ]
     },
     "metadata": {},
     "output_type": "display_data"
    }
   ],
   "source": [
    "fig = plt.figure()\n",
    "ax = fig.add_subplot(211)\n",
    "ax.hist(abnormal_occurrence.n, \n",
    "        bins = np.arange(0, np.max(abnormal_occurrence.n), 50))\n",
    "plt.yscale('log')\n",
    "plt.title('distribution of abnormal phenotype duplication times')\n",
    "ax = fig.add_subplot(212)\n",
    "ax.hist(abnormal_occurrence.n, \n",
    "        bins = np.arange(0, np.max(abnormal_occurrence.n), 1))\n",
    "plt.xlim((-2, 20))\n",
    "plt.xlabel('duplication times of each phenotype')\n",
    "plt.title('distribution of abnormal phenotype duplication times')\n",
    "plt.tight_layout()\n",
    "plt.show()"
   ]
  },
  {
   "cell_type": "markdown",
   "metadata": {},
   "source": [
    "From the above plot, we conclude that the majority of HPO only occurred once for every patient at each visit. There are some extreme cases where one patient was assigned with hundreds of HPO terms in one admission. They might indicate patients that had lone stay."
   ]
  },
  {
   "cell_type": "code",
   "execution_count": 17,
   "metadata": {},
   "outputs": [
    {
     "data": {
      "text/html": [
       "<div>\n",
       "<style>\n",
       "    .dataframe thead tr:only-child th {\n",
       "        text-align: right;\n",
       "    }\n",
       "\n",
       "    .dataframe thead th {\n",
       "        text-align: left;\n",
       "    }\n",
       "\n",
       "    .dataframe tbody tr th {\n",
       "        vertical-align: top;\n",
       "    }\n",
       "</style>\n",
       "<table border=\"1\" class=\"dataframe\">\n",
       "  <thead>\n",
       "    <tr style=\"text-align: right;\">\n",
       "      <th></th>\n",
       "      <th>SUBJECT_ID</th>\n",
       "      <th>HADM_ID</th>\n",
       "      <th>DISCHTIME</th>\n",
       "      <th>ADMITTIME</th>\n",
       "      <th>days</th>\n",
       "    </tr>\n",
       "  </thead>\n",
       "  <tbody>\n",
       "    <tr>\n",
       "      <th>0</th>\n",
       "      <td>2</td>\n",
       "      <td>163353</td>\n",
       "      <td>2138-07-21 15:48:00</td>\n",
       "      <td>2138-07-17 19:04:00</td>\n",
       "      <td>4</td>\n",
       "    </tr>\n",
       "    <tr>\n",
       "      <th>1</th>\n",
       "      <td>3</td>\n",
       "      <td>145834</td>\n",
       "      <td>2101-10-31 13:58:00</td>\n",
       "      <td>2101-10-20 19:08:00</td>\n",
       "      <td>11</td>\n",
       "    </tr>\n",
       "    <tr>\n",
       "      <th>2</th>\n",
       "      <td>4</td>\n",
       "      <td>185777</td>\n",
       "      <td>2191-03-23 18:41:00</td>\n",
       "      <td>2191-03-16 00:28:00</td>\n",
       "      <td>8</td>\n",
       "    </tr>\n",
       "    <tr>\n",
       "      <th>3</th>\n",
       "      <td>5</td>\n",
       "      <td>178980</td>\n",
       "      <td>2103-02-04 12:15:00</td>\n",
       "      <td>2103-02-02 04:31:00</td>\n",
       "      <td>3</td>\n",
       "    </tr>\n",
       "    <tr>\n",
       "      <th>4</th>\n",
       "      <td>6</td>\n",
       "      <td>107064</td>\n",
       "      <td>2175-06-15 16:00:00</td>\n",
       "      <td>2175-05-30 07:15:00</td>\n",
       "      <td>17</td>\n",
       "    </tr>\n",
       "  </tbody>\n",
       "</table>\n",
       "</div>"
      ],
      "text/plain": [
       "   SUBJECT_ID  HADM_ID           DISCHTIME           ADMITTIME  days\n",
       "0           2   163353 2138-07-21 15:48:00 2138-07-17 19:04:00     4\n",
       "1           3   145834 2101-10-31 13:58:00 2101-10-20 19:08:00    11\n",
       "2           4   185777 2191-03-23 18:41:00 2191-03-16 00:28:00     8\n",
       "3           5   178980 2103-02-04 12:15:00 2103-02-02 04:31:00     3\n",
       "4           6   107064 2175-06-15 16:00:00 2175-05-30 07:15:00    17"
      ]
     },
     "execution_count": 17,
     "metadata": {},
     "output_type": "execute_result"
    }
   ],
   "source": [
    "stay_duration = pd.read_sql_query(\"SELECT \\\n",
    "    SUBJECT_ID, HADM_ID, DISCHTIME, ADMITTIME, CEILING(TIME_TO_SEC(TIMEDIFF(DISCHTIME, ADMITTIME))/(3600 * 24)) as days \\\n",
    "    FROM ADMISSIONS\", mydb)\n",
    "stay_duration.head()"
   ]
  },
  {
   "cell_type": "code",
   "execution_count": 18,
   "metadata": {},
   "outputs": [
    {
     "data": {
      "image/png": "[encoded data removed]",
      "text/plain": [
       "<matplotlib.figure.Figure at 0x1446caba8>"
      ]
     },
     "metadata": {},
     "output_type": "display_data"
    }
   ],
   "source": [
    "fig = plt.figure()\n",
    "ax = fig.add_subplot(211)\n",
    "ax.hist(stay_duration.days, \n",
    "        bins = np.arange(0, np.max(stay_duration.days), 4))\n",
    "ax = fig.add_subplot(212)\n",
    "ax.hist(stay_duration.days, \n",
    "        bins = np.arange(0, np.max(stay_duration.days), 1))\n",
    "plt.xlim((-2, 35))\n",
    "plt.show()"
   ]
  },
  {
   "cell_type": "markdown",
   "metadata": {},
   "source": [
    "Most patients stayed in ICU for around 5 days. "
   ]
  },
  {
   "cell_type": "markdown",
   "metadata": {},
   "source": [
    "* What is the common diagnosis at each admission?"
   ]
  },
  {
   "cell_type": "code",
   "execution_count": 19,
   "metadata": {},
   "outputs": [
    {
     "data": {
      "text/plain": [
       "ICD9\n",
       "401    21305\n",
       "427    17226\n",
       "276    15101\n",
       "272    14558\n",
       "414    14410\n",
       "dtype: int64"
      ]
     },
     "execution_count": 19,
     "metadata": {},
     "output_type": "execute_result"
    }
   ],
   "source": [
    "diagnosis_count = pd.read_sql_query(\"SELECT SUBJECT_ID, HADM_ID, \\\n",
    "    CASE \\\n",
    "    WHEN(ICD9_CODE LIKE 'V%') THEN SUBSTRING(ICD9_CODE, 1, 3) \\\n",
    "    WHEN(ICD9_CODE LIKE 'E%') THEN SUBSTRING(ICD9_CODE, 1, 4) \\\n",
    "    ELSE SUBSTRING(ICD9_CODE, 1, 3) END AS ICD9 \\\n",
    "    FROM DIAGNOSES_ICD\", mydb)\n",
    "diagnosis_count.drop_duplicates().groupby('ICD9').size().sort_values(ascending=False).head()"
   ]
  },
  {
   "cell_type": "code",
   "execution_count": 21,
   "metadata": {},
   "outputs": [
    {
     "data": {
      "image/png": "[encoded data removed]",
      "text/plain": [
       "<matplotlib.figure.Figure at 0x14d7c4550>"
      ]
     },
     "metadata": {},
     "output_type": "display_data"
    }
   ],
   "source": [
    "diagnosis_count.ICD9.value_counts().head(n = 40).plot(kind='bar')\n",
    "fig = plt.gcf()\n",
    "fig.set_size_inches(10, 3)\n",
    "plt.show()"
   ]
  },
  {
   "cell_type": "markdown",
   "metadata": {},
   "source": [
    "The top diagnosis codes are:\n",
    "\n",
    "* 401 Essential hypertension\n",
    "* 427 Cardiac dysrhythmias\n",
    "* 428 Heart failure\n",
    "* 276 Disorders of fluid, electrolyte, and acid-base balance\n",
    "* 414 Other forms of chronic ischemic heart disease\n",
    "* 272 Disorders of lipoid metabolism\n",
    "* 518 Other diseases of lung\n",
    "* 285 Other and unspecified anemias\n",
    "* 584 Acute renal failure\n",
    "* V45 Other postprocedural states\n",
    "* 530 Disease of esophagus\n",
    "* V58 Encounter for other and unspecified procedures and aftercare\n",
    "* 599 Other disorders of urethra and urinary tract\n",
    "* V10 Personal history of malignant neoplasm\n",
    "* 585 Chronic kidney disease (CKD)\n",
    "* 403 Hypertensive chronic disease\n",
    "* 038 Septicemia\n",
    "* V30 Single liveborn\n",
    "* 765 Disorders relating to short gestation and low birthweight\n",
    "* 998 Other complications of procedure, NEC\n",
    "* 305 Nondependent abuse of drugs\n",
    "* V29 Observation and evaluation of newborns for suspected condition not found\n",
    "* 780 General symptoms\n",
    "* 997 Complications affecting specified body systems, not elsewhere classified\n",
    "* V05 Need for prophylactic vaccination and inoculation against single diseases\n",
    "* 424 Other diseases of endocardium\n",
    "* 995 Other anaphylactic react\n",
    "* 785 Symptoms involving cardiovascular system\n",
    "* 410 Acute myocardial infarction\n",
    "* 244 Acquired hypothyroidism\n",
    "* 041 Bacterial infection in conditions classified elsewhere and of unspecified site\n",
    "* 458 Hypotension\n",
    "* 707 Chronic ulcer of skin\n",
    "* V15 Other personal history presenting hazards to health\n",
    "* 486 Pneumonia, organism NOS\n",
    "* 996 Complications peculiar to certain specified procedures\n",
    "* 496 Chronic airway obstruction\n",
    "* V12 Personal history of certain other diseases\n",
    "* E878 Surgical operation and other surgical procedures as the cause of abnormal reaction of patient or of later complication without mention of misadventure at the time of operation"
   ]
  },
  {
   "cell_type": "code",
   "execution_count": null,
   "metadata": {
    "collapsed": true
   },
   "outputs": [],
   "source": []
  }
 ],
 "metadata": {
  "kernelspec": {
   "display_name": "Python 3",
   "language": "python",
   "name": "python3"
  },
  "language_info": {
   "codemirror_mode": {
    "name": "ipython",
    "version": 3
   },
   "file_extension": ".py",
   "mimetype": "text/x-python",
   "name": "python",
   "nbconvert_exporter": "python",
   "pygments_lexer": "ipython3",
   "version": "3.6.2"
  }
 },
 "nbformat": 4,
 "nbformat_minor": 2
}
