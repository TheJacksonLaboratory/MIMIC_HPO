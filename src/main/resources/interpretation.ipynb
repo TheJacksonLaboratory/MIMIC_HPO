{
 "cells": [
  {
   "cell_type": "markdown",
   "metadata": {},
   "source": [
    "# Phenotype Synergy Analysis"
   ]
  },
  {
   "cell_type": "markdown",
   "metadata": {
    "collapsed": true
   },
   "source": [
    "This notebook contains code to interprete results from the synergy score analysis. "
   ]
  },
  {
   "cell_type": "code",
   "execution_count": 1,
   "metadata": {},
   "outputs": [],
   "source": [
    "import numpy as np\n",
    "import pandas as pd\n",
    "import matplotlib.pyplot as plt\n",
    "import datetime\n",
    "import math\n",
    "import os\n",
    "import sys\n",
    "import logging\n",
    "mf_module_path = os.path.abspath(os.path.join('../python'))\n",
    "if mf_module_path not in sys.path:\n",
    "    sys.path.append(mf_module_path)\n",
    "import mf\n",
    "import mf_random\n",
    "import hpoutil\n",
    "import networkx\n",
    "import obonet\n",
    "import pickle"
   ]
  },
  {
   "cell_type": "code",
   "execution_count": 3,
   "metadata": {},
   "outputs": [],
   "source": [
    "hpo = hpoutil.HPO('/Users/zhangx/git/human-phenotype-ontology/hp.obo')"
   ]
  },
  {
   "cell_type": "markdown",
   "metadata": {},
   "source": [
    "## Synergy among Lab-derived Abnormal Phenotypes"
   ]
  },
  {
   "cell_type": "code",
   "execution_count": 4,
   "metadata": {},
   "outputs": [],
   "source": [
    "with open('synergies.obj', 'rb') as synergies_file:\n",
    "    deserialized = pickle.load(synergies_file)"
   ]
  },
  {
   "cell_type": "code",
   "execution_count": 5,
   "metadata": {},
   "outputs": [
    {
     "data": {
      "text/plain": [
       "31"
      ]
     },
     "execution_count": 5,
     "metadata": {},
     "output_type": "execute_result"
    }
   ],
   "source": [
    "len(deserialized)"
   ]
  },
  {
   "cell_type": "markdown",
   "metadata": {},
   "source": [
    "Plot the synergy scores. They are all pretty small."
   ]
  },
  {
   "cell_type": "code",
   "execution_count": 6,
   "metadata": {},
   "outputs": [
    {
     "data": {
      "image/png": "[encoded data removed]",
      "text/plain": [
       "<Figure size 432x288 with 1 Axes>"
      ]
     },
     "metadata": {
      "needs_background": "light"
     },
     "output_type": "display_data"
    }
   ],
   "source": [
    "heart_failure = deserialized['428']\n",
    "plt.hist(heart_failure.pairwise_synergy().flat, bins=10)\n",
    "plt.show()"
   ]
  },
  {
   "cell_type": "code",
   "execution_count": 7,
   "metadata": {},
   "outputs": [],
   "source": [
    "# load p values estimated from empirical distributions\n",
    "path = '/Users/zhangx/git/MIMIC_HPO/src/main/resources/p_value_map_428.obj'\n",
    "with open(path, 'rb') as f:\n",
    "    p_value_map = pickle.load(f)\n",
    "p_heart_failure = p_value_map['428']"
   ]
  },
  {
   "cell_type": "code",
   "execution_count": 8,
   "metadata": {},
   "outputs": [
    {
     "data": {
      "text/html": [
       "<div>\n",
       "<style scoped>\n",
       "    .dataframe tbody tr th:only-of-type {\n",
       "        vertical-align: middle;\n",
       "    }\n",
       "\n",
       "    .dataframe tbody tr th {\n",
       "        vertical-align: top;\n",
       "    }\n",
       "\n",
       "    .dataframe thead th {\n",
       "        text-align: right;\n",
       "    }\n",
       "</style>\n",
       "<table border=\"1\" class=\"dataframe\">\n",
       "  <thead>\n",
       "    <tr style=\"text-align: right;\">\n",
       "      <th></th>\n",
       "      <th>P1</th>\n",
       "      <th>P2</th>\n",
       "      <th>synergy</th>\n",
       "      <th>p</th>\n",
       "    </tr>\n",
       "  </thead>\n",
       "  <tbody>\n",
       "    <tr>\n",
       "      <td>0</td>\n",
       "      <td>HP:0025546</td>\n",
       "      <td>HP:0025548</td>\n",
       "      <td>0.011284</td>\n",
       "      <td>0.0</td>\n",
       "    </tr>\n",
       "    <tr>\n",
       "      <td>1</td>\n",
       "      <td>HP:0025548</td>\n",
       "      <td>HP:0025546</td>\n",
       "      <td>0.011284</td>\n",
       "      <td>0.0</td>\n",
       "    </tr>\n",
       "    <tr>\n",
       "      <td>2</td>\n",
       "      <td>HP:0012379</td>\n",
       "      <td>HP:0002904</td>\n",
       "      <td>0.009951</td>\n",
       "      <td>0.0</td>\n",
       "    </tr>\n",
       "    <tr>\n",
       "      <td>3</td>\n",
       "      <td>HP:0002904</td>\n",
       "      <td>HP:0012379</td>\n",
       "      <td>0.009951</td>\n",
       "      <td>0.0</td>\n",
       "    </tr>\n",
       "    <tr>\n",
       "      <td>4</td>\n",
       "      <td>HP:0003573</td>\n",
       "      <td>HP:0012379</td>\n",
       "      <td>0.009292</td>\n",
       "      <td>0.0</td>\n",
       "    </tr>\n",
       "  </tbody>\n",
       "</table>\n",
       "</div>"
      ],
      "text/plain": [
       "           P1          P2   synergy    p\n",
       "0  HP:0025546  HP:0025548  0.011284  0.0\n",
       "1  HP:0025548  HP:0025546  0.011284  0.0\n",
       "2  HP:0012379  HP:0002904  0.009951  0.0\n",
       "3  HP:0002904  HP:0012379  0.009951  0.0\n",
       "4  HP:0003573  HP:0012379  0.009292  0.0"
      ]
     },
     "execution_count": 8,
     "metadata": {},
     "output_type": "execute_result"
    }
   ],
   "source": [
    "data = heart_failure.pairwise_synergy_labeled_with_p_values(p_heart_failure)\n",
    "data.reset_index(drop=True).head()"
   ]
  },
  {
   "cell_type": "markdown",
   "metadata": {},
   "source": [
    "remove duplication record: (HP1, HP2) is the same to (HP2, HP1)"
   ]
  },
  {
   "cell_type": "code",
   "execution_count": 49,
   "metadata": {},
   "outputs": [
    {
     "data": {
      "text/html": [
       "<div>\n",
       "<style scoped>\n",
       "    .dataframe tbody tr th:only-of-type {\n",
       "        vertical-align: middle;\n",
       "    }\n",
       "\n",
       "    .dataframe tbody tr th {\n",
       "        vertical-align: top;\n",
       "    }\n",
       "\n",
       "    .dataframe thead th {\n",
       "        text-align: right;\n",
       "    }\n",
       "</style>\n",
       "<table border=\"1\" class=\"dataframe\">\n",
       "  <thead>\n",
       "    <tr style=\"text-align: right;\">\n",
       "      <th></th>\n",
       "      <th>P1</th>\n",
       "      <th>P2</th>\n",
       "      <th>synergy</th>\n",
       "      <th>P1_label</th>\n",
       "      <th>P2_label</th>\n",
       "    </tr>\n",
       "  </thead>\n",
       "  <tbody>\n",
       "    <tr>\n",
       "      <td>1</td>\n",
       "      <td>HP:0000119</td>\n",
       "      <td>HP:0003282</td>\n",
       "      <td>0.000168</td>\n",
       "      <td>Abnormality of the genitourinary system</td>\n",
       "      <td>Low alkaline phosphatase</td>\n",
       "    </tr>\n",
       "    <tr>\n",
       "      <td>2</td>\n",
       "      <td>HP:0003207</td>\n",
       "      <td>HP:0032368</td>\n",
       "      <td>0.000157</td>\n",
       "      <td>Arterial calcification</td>\n",
       "      <td>Acidemia</td>\n",
       "    </tr>\n",
       "  </tbody>\n",
       "</table>\n",
       "</div>"
      ],
      "text/plain": [
       "           P1          P2   synergy                                 P1_label  \\\n",
       "1  HP:0000119  HP:0003282  0.000168  Abnormality of the genitourinary system   \n",
       "2  HP:0003207  HP:0032368  0.000157                   Arterial calcification   \n",
       "\n",
       "                   P2_label  \n",
       "1  Low alkaline phosphatase  \n",
       "2                  Acidemia  "
      ]
     },
     "execution_count": 49,
     "metadata": {},
     "output_type": "execute_result"
    }
   ],
   "source": [
    "mask = np.array([hpo.has_dependency(data.P1[i], data.P2[i]) for i in np.arange(data.shape[0])])\n",
    "S_heart_failure = data.loc[np.logical_not(mask), :].sort_values(by = 'synergy', ascending=False)\n",
    "S_heart_failure = S_heart_failure.loc[S_heart_failure.P1 < S_heart_failure.P2, :]\n",
    "S_heart_failure['P1_label'] = np.array([hpo.term_id2name_map().get(termid) for termid in S_heart_failure.P1])\n",
    "S_heart_failure['P2_label'] = np.array([hpo.term_id2name_map().get(termid) for termid in S_heart_failure.P2])\n",
    "top5percent_synergy_pair_heart_failure = S_heart_failure.iloc[0:math.ceil(0.05 * len(S_heart_failure)), :]\n",
    "top5percent_synergy_pair_heart_failure.head(2)"
   ]
  },
  {
   "cell_type": "code",
   "execution_count": null,
   "metadata": {
    "collapsed": true
   },
   "outputs": [],
   "source": [
    "top5percent_synergy_pair_heart_failure.to_csv('top5percent_synergy_pair_heart_failure.csv', index=False)"
   ]
  },
  {
   "cell_type": "code",
   "execution_count": null,
   "metadata": {
    "collapsed": true
   },
   "outputs": [],
   "source": []
  },
  {
   "cell_type": "code",
   "execution_count": 17,
   "metadata": {},
   "outputs": [
    {
     "data": {
      "image/png": "[encoded data removed]",
      "text/plain": [
       "<Figure size 432x288 with 1 Axes>"
      ]
     },
     "metadata": {
      "needs_background": "light"
     },
     "output_type": "display_data"
    }
   ],
   "source": [
    "acute_renal_failure = deserialized['584']\n",
    "plt.hist(acute_renal_failure.pairwise_synergy().flat, bins=10)\n",
    "plt.show()"
   ]
  },
  {
   "cell_type": "code",
   "execution_count": 18,
   "metadata": {},
   "outputs": [
    {
     "data": {
      "text/html": [
       "<div>\n",
       "<style scoped>\n",
       "    .dataframe tbody tr th:only-of-type {\n",
       "        vertical-align: middle;\n",
       "    }\n",
       "\n",
       "    .dataframe tbody tr th {\n",
       "        vertical-align: top;\n",
       "    }\n",
       "\n",
       "    .dataframe thead th {\n",
       "        text-align: right;\n",
       "    }\n",
       "</style>\n",
       "<table border=\"1\" class=\"dataframe\">\n",
       "  <thead>\n",
       "    <tr style=\"text-align: right;\">\n",
       "      <th></th>\n",
       "      <th>P1</th>\n",
       "      <th>P2</th>\n",
       "      <th>synergy</th>\n",
       "      <th>p</th>\n",
       "    </tr>\n",
       "  </thead>\n",
       "  <tbody>\n",
       "    <tr>\n",
       "      <td>0</td>\n",
       "      <td>HP:0002904</td>\n",
       "      <td>HP:0011014</td>\n",
       "      <td>0.012154</td>\n",
       "      <td>0.0</td>\n",
       "    </tr>\n",
       "    <tr>\n",
       "      <td>1</td>\n",
       "      <td>HP:0002904</td>\n",
       "      <td>HP:0011015</td>\n",
       "      <td>0.012154</td>\n",
       "      <td>0.0</td>\n",
       "    </tr>\n",
       "    <tr>\n",
       "      <td>2</td>\n",
       "      <td>HP:0011014</td>\n",
       "      <td>HP:0002904</td>\n",
       "      <td>0.012154</td>\n",
       "      <td>0.0</td>\n",
       "    </tr>\n",
       "    <tr>\n",
       "      <td>3</td>\n",
       "      <td>HP:0011015</td>\n",
       "      <td>HP:0002904</td>\n",
       "      <td>0.012154</td>\n",
       "      <td>0.0</td>\n",
       "    </tr>\n",
       "    <tr>\n",
       "      <td>4</td>\n",
       "      <td>HP:0001928</td>\n",
       "      <td>HP:0002904</td>\n",
       "      <td>0.011185</td>\n",
       "      <td>0.0</td>\n",
       "    </tr>\n",
       "  </tbody>\n",
       "</table>\n",
       "</div>"
      ],
      "text/plain": [
       "           P1          P2   synergy    p\n",
       "0  HP:0002904  HP:0011014  0.012154  0.0\n",
       "1  HP:0002904  HP:0011015  0.012154  0.0\n",
       "2  HP:0011014  HP:0002904  0.012154  0.0\n",
       "3  HP:0011015  HP:0002904  0.012154  0.0\n",
       "4  HP:0001928  HP:0002904  0.011185  0.0"
      ]
     },
     "execution_count": 18,
     "metadata": {},
     "output_type": "execute_result"
    }
   ],
   "source": [
    "# load p values estimated from empirical distributions\n",
    "path = '/Users/zhangx/git/MIMIC_HPO/src/main/resources/p_value_map_584.obj'\n",
    "with open(path, 'rb') as f:\n",
    "    p_value_map = pickle.load(f)\n",
    "p_renal_failure = p_value_map['584']\n",
    "data = acute_renal_failure.pairwise_synergy_labeled_with_p_values(p_renal_failure)\n",
    "data.reset_index(drop=True).head()"
   ]
  },
  {
   "cell_type": "code",
   "execution_count": 22,
   "metadata": {},
   "outputs": [
    {
     "data": {
      "text/html": [
       "<div>\n",
       "<style scoped>\n",
       "    .dataframe tbody tr th:only-of-type {\n",
       "        vertical-align: middle;\n",
       "    }\n",
       "\n",
       "    .dataframe tbody tr th {\n",
       "        vertical-align: top;\n",
       "    }\n",
       "\n",
       "    .dataframe thead th {\n",
       "        text-align: right;\n",
       "    }\n",
       "</style>\n",
       "<table border=\"1\" class=\"dataframe\">\n",
       "  <thead>\n",
       "    <tr style=\"text-align: right;\">\n",
       "      <th></th>\n",
       "      <th>P1</th>\n",
       "      <th>P2</th>\n",
       "      <th>synergy</th>\n",
       "      <th>p</th>\n",
       "      <th>P1_label</th>\n",
       "      <th>P2_label</th>\n",
       "    </tr>\n",
       "  </thead>\n",
       "  <tbody>\n",
       "    <tr>\n",
       "      <td>0</td>\n",
       "      <td>HP:0002904</td>\n",
       "      <td>HP:0011014</td>\n",
       "      <td>0.012154</td>\n",
       "      <td>0.0</td>\n",
       "      <td>Hyperbilirubinemia</td>\n",
       "      <td>Abnormal glucose homeostasis</td>\n",
       "    </tr>\n",
       "    <tr>\n",
       "      <td>1</td>\n",
       "      <td>HP:0002904</td>\n",
       "      <td>HP:0011015</td>\n",
       "      <td>0.012154</td>\n",
       "      <td>0.0</td>\n",
       "      <td>Hyperbilirubinemia</td>\n",
       "      <td>Abnormal blood glucose concentration</td>\n",
       "    </tr>\n",
       "    <tr>\n",
       "      <td>4</td>\n",
       "      <td>HP:0001928</td>\n",
       "      <td>HP:0002904</td>\n",
       "      <td>0.011185</td>\n",
       "      <td>0.0</td>\n",
       "      <td>Abnormality of coagulation</td>\n",
       "      <td>Hyperbilirubinemia</td>\n",
       "    </tr>\n",
       "    <tr>\n",
       "      <td>6</td>\n",
       "      <td>HP:0003573</td>\n",
       "      <td>HP:0011014</td>\n",
       "      <td>0.010479</td>\n",
       "      <td>0.0</td>\n",
       "      <td>Increased total bilirubin</td>\n",
       "      <td>Abnormal glucose homeostasis</td>\n",
       "    </tr>\n",
       "    <tr>\n",
       "      <td>7</td>\n",
       "      <td>HP:0003573</td>\n",
       "      <td>HP:0011015</td>\n",
       "      <td>0.010479</td>\n",
       "      <td>0.0</td>\n",
       "      <td>Increased total bilirubin</td>\n",
       "      <td>Abnormal blood glucose concentration</td>\n",
       "    </tr>\n",
       "    <tr>\n",
       "      <td>11</td>\n",
       "      <td>HP:0002904</td>\n",
       "      <td>HP:0003074</td>\n",
       "      <td>0.009499</td>\n",
       "      <td>0.0</td>\n",
       "      <td>Hyperbilirubinemia</td>\n",
       "      <td>Hyperglycemia</td>\n",
       "    </tr>\n",
       "    <tr>\n",
       "      <td>13</td>\n",
       "      <td>HP:0001928</td>\n",
       "      <td>HP:0003573</td>\n",
       "      <td>0.008893</td>\n",
       "      <td>0.0</td>\n",
       "      <td>Abnormality of coagulation</td>\n",
       "      <td>Increased total bilirubin</td>\n",
       "    </tr>\n",
       "    <tr>\n",
       "      <td>15</td>\n",
       "      <td>HP:0002904</td>\n",
       "      <td>HP:0010927</td>\n",
       "      <td>0.008887</td>\n",
       "      <td>0.0</td>\n",
       "      <td>Hyperbilirubinemia</td>\n",
       "      <td>Abnormal blood inorganic cation concentration</td>\n",
       "    </tr>\n",
       "    <tr>\n",
       "      <td>17</td>\n",
       "      <td>HP:0002904</td>\n",
       "      <td>HP:0004363</td>\n",
       "      <td>0.008813</td>\n",
       "      <td>0.0</td>\n",
       "      <td>Hyperbilirubinemia</td>\n",
       "      <td>Abnormal circulating calcium concentration</td>\n",
       "    </tr>\n",
       "    <tr>\n",
       "      <td>19</td>\n",
       "      <td>HP:0002901</td>\n",
       "      <td>HP:0002904</td>\n",
       "      <td>0.008680</td>\n",
       "      <td>0.0</td>\n",
       "      <td>Hypocalcemia</td>\n",
       "      <td>Hyperbilirubinemia</td>\n",
       "    </tr>\n",
       "    <tr>\n",
       "      <td>20</td>\n",
       "      <td>HP:0002904</td>\n",
       "      <td>HP:0020058</td>\n",
       "      <td>0.008522</td>\n",
       "      <td>0.0</td>\n",
       "      <td>Hyperbilirubinemia</td>\n",
       "      <td>Abnormal red blood cell count</td>\n",
       "    </tr>\n",
       "    <tr>\n",
       "      <td>23</td>\n",
       "      <td>HP:0002904</td>\n",
       "      <td>HP:0003256</td>\n",
       "      <td>0.007930</td>\n",
       "      <td>0.0</td>\n",
       "      <td>Hyperbilirubinemia</td>\n",
       "      <td>Abnormality of the coagulation cascade</td>\n",
       "    </tr>\n",
       "    <tr>\n",
       "      <td>25</td>\n",
       "      <td>HP:0003074</td>\n",
       "      <td>HP:0003573</td>\n",
       "      <td>0.007861</td>\n",
       "      <td>0.0</td>\n",
       "      <td>Hyperglycemia</td>\n",
       "      <td>Increased total bilirubin</td>\n",
       "    </tr>\n",
       "    <tr>\n",
       "      <td>27</td>\n",
       "      <td>HP:0002904</td>\n",
       "      <td>HP:0012419</td>\n",
       "      <td>0.007724</td>\n",
       "      <td>0.0</td>\n",
       "      <td>Hyperbilirubinemia</td>\n",
       "      <td>Hyperoxemia</td>\n",
       "    </tr>\n",
       "    <tr>\n",
       "      <td>28</td>\n",
       "      <td>HP:0003113</td>\n",
       "      <td>HP:0011423</td>\n",
       "      <td>0.007325</td>\n",
       "      <td>0.0</td>\n",
       "      <td>Hypochloremia</td>\n",
       "      <td>Hyperchloremia</td>\n",
       "    </tr>\n",
       "    <tr>\n",
       "      <td>30</td>\n",
       "      <td>HP:0001943</td>\n",
       "      <td>HP:0002904</td>\n",
       "      <td>0.007304</td>\n",
       "      <td>0.0</td>\n",
       "      <td>Hypoglycemia</td>\n",
       "      <td>Hyperbilirubinemia</td>\n",
       "    </tr>\n",
       "    <tr>\n",
       "      <td>33</td>\n",
       "      <td>HP:0002904</td>\n",
       "      <td>HP:0020061</td>\n",
       "      <td>0.007187</td>\n",
       "      <td>0.0</td>\n",
       "      <td>Hyperbilirubinemia</td>\n",
       "      <td>Abnormal hemoglobin concentration</td>\n",
       "    </tr>\n",
       "    <tr>\n",
       "      <td>34</td>\n",
       "      <td>HP:0003573</td>\n",
       "      <td>HP:0010927</td>\n",
       "      <td>0.007136</td>\n",
       "      <td>0.0</td>\n",
       "      <td>Increased total bilirubin</td>\n",
       "      <td>Abnormal blood inorganic cation concentration</td>\n",
       "    </tr>\n",
       "    <tr>\n",
       "      <td>40</td>\n",
       "      <td>HP:0002904</td>\n",
       "      <td>HP:0032199</td>\n",
       "      <td>0.007014</td>\n",
       "      <td>0.0</td>\n",
       "      <td>Hyperbilirubinemia</td>\n",
       "      <td>Abnormal prothrombin time</td>\n",
       "    </tr>\n",
       "    <tr>\n",
       "      <td>41</td>\n",
       "      <td>HP:0002904</td>\n",
       "      <td>HP:0012200</td>\n",
       "      <td>0.007014</td>\n",
       "      <td>0.0</td>\n",
       "      <td>Hyperbilirubinemia</td>\n",
       "      <td>Abnormality of prothrombin</td>\n",
       "    </tr>\n",
       "  </tbody>\n",
       "</table>\n",
       "</div>"
      ],
      "text/plain": [
       "            P1          P2   synergy    p                    P1_label  \\\n",
       "0   HP:0002904  HP:0011014  0.012154  0.0          Hyperbilirubinemia   \n",
       "1   HP:0002904  HP:0011015  0.012154  0.0          Hyperbilirubinemia   \n",
       "4   HP:0001928  HP:0002904  0.011185  0.0  Abnormality of coagulation   \n",
       "6   HP:0003573  HP:0011014  0.010479  0.0   Increased total bilirubin   \n",
       "7   HP:0003573  HP:0011015  0.010479  0.0   Increased total bilirubin   \n",
       "11  HP:0002904  HP:0003074  0.009499  0.0          Hyperbilirubinemia   \n",
       "13  HP:0001928  HP:0003573  0.008893  0.0  Abnormality of coagulation   \n",
       "15  HP:0002904  HP:0010927  0.008887  0.0          Hyperbilirubinemia   \n",
       "17  HP:0002904  HP:0004363  0.008813  0.0          Hyperbilirubinemia   \n",
       "19  HP:0002901  HP:0002904  0.008680  0.0                Hypocalcemia   \n",
       "20  HP:0002904  HP:0020058  0.008522  0.0          Hyperbilirubinemia   \n",
       "23  HP:0002904  HP:0003256  0.007930  0.0          Hyperbilirubinemia   \n",
       "25  HP:0003074  HP:0003573  0.007861  0.0               Hyperglycemia   \n",
       "27  HP:0002904  HP:0012419  0.007724  0.0          Hyperbilirubinemia   \n",
       "28  HP:0003113  HP:0011423  0.007325  0.0               Hypochloremia   \n",
       "30  HP:0001943  HP:0002904  0.007304  0.0                Hypoglycemia   \n",
       "33  HP:0002904  HP:0020061  0.007187  0.0          Hyperbilirubinemia   \n",
       "34  HP:0003573  HP:0010927  0.007136  0.0   Increased total bilirubin   \n",
       "40  HP:0002904  HP:0032199  0.007014  0.0          Hyperbilirubinemia   \n",
       "41  HP:0002904  HP:0012200  0.007014  0.0          Hyperbilirubinemia   \n",
       "\n",
       "                                         P2_label  \n",
       "0                    Abnormal glucose homeostasis  \n",
       "1            Abnormal blood glucose concentration  \n",
       "4                              Hyperbilirubinemia  \n",
       "6                    Abnormal glucose homeostasis  \n",
       "7            Abnormal blood glucose concentration  \n",
       "11                                  Hyperglycemia  \n",
       "13                      Increased total bilirubin  \n",
       "15  Abnormal blood inorganic cation concentration  \n",
       "17     Abnormal circulating calcium concentration  \n",
       "19                             Hyperbilirubinemia  \n",
       "20                  Abnormal red blood cell count  \n",
       "23         Abnormality of the coagulation cascade  \n",
       "25                      Increased total bilirubin  \n",
       "27                                    Hyperoxemia  \n",
       "28                                 Hyperchloremia  \n",
       "30                             Hyperbilirubinemia  \n",
       "33              Abnormal hemoglobin concentration  \n",
       "34  Abnormal blood inorganic cation concentration  \n",
       "40                      Abnormal prothrombin time  \n",
       "41                     Abnormality of prothrombin  "
      ]
     },
     "execution_count": 22,
     "metadata": {},
     "output_type": "execute_result"
    }
   ],
   "source": [
    "mask = np.array([hpo.has_dependency(data.P1[i], data.P2[i]) for i in np.arange(data.shape[0])])\n",
    "S_acute_renal_failure = data.loc[np.logical_not(mask), :].sort_values(by = 'synergy', ascending=False)\n",
    "S_acute_renal_failure = S_acute_renal_failure.loc[S_acute_renal_failure.P1 < S_acute_renal_failure.P2, :]\n",
    "S_acute_renal_failure['P1_label'] = np.array([hpo.term_id2name_map().get(termid) for termid in S_acute_renal_failure.P1])\n",
    "S_acute_renal_failure['P2_label'] = np.array([hpo.term_id2name_map().get(termid) for termid in S_acute_renal_failure.P2])\n",
    "top5percent_synergy_pair_acute_renal_failure = S_acute_renal_failure.iloc[0:math.ceil(0.05 * len(S_acute_renal_failure)), :]\n",
    "top5percent_synergy_pair_acute_renal_failure.head(20)"
   ]
  },
  {
   "cell_type": "code",
   "execution_count": null,
   "metadata": {
    "collapsed": true
   },
   "outputs": [],
   "source": [
    "top5percent_synergy_pair_acute_renal_failure.to_csv('top5percent_synergy_pair_acute_renal_failure.csv', index=False)"
   ]
  },
  {
   "cell_type": "code",
   "execution_count": null,
   "metadata": {
    "collapsed": true
   },
   "outputs": [],
   "source": []
  },
  {
   "cell_type": "code",
   "execution_count": 23,
   "metadata": {},
   "outputs": [
    {
     "data": {
      "image/png": "[encoded data removed]",
      "text/plain": [
       "<Figure size 432x288 with 1 Axes>"
      ]
     },
     "metadata": {
      "needs_background": "light"
     },
     "output_type": "display_data"
    }
   ],
   "source": [
    "sepsis = deserialized['038']\n",
    "plt.hist(sepsis.pairwise_synergy().flat, bins=10)\n",
    "plt.show()"
   ]
  },
  {
   "cell_type": "code",
   "execution_count": 24,
   "metadata": {},
   "outputs": [
    {
     "data": {
      "text/html": [
       "<div>\n",
       "<style scoped>\n",
       "    .dataframe tbody tr th:only-of-type {\n",
       "        vertical-align: middle;\n",
       "    }\n",
       "\n",
       "    .dataframe tbody tr th {\n",
       "        vertical-align: top;\n",
       "    }\n",
       "\n",
       "    .dataframe thead th {\n",
       "        text-align: right;\n",
       "    }\n",
       "</style>\n",
       "<table border=\"1\" class=\"dataframe\">\n",
       "  <thead>\n",
       "    <tr style=\"text-align: right;\">\n",
       "      <th></th>\n",
       "      <th>P1</th>\n",
       "      <th>P2</th>\n",
       "      <th>synergy</th>\n",
       "      <th>p</th>\n",
       "    </tr>\n",
       "  </thead>\n",
       "  <tbody>\n",
       "    <tr>\n",
       "      <td>0</td>\n",
       "      <td>HP:0002904</td>\n",
       "      <td>HP:0011015</td>\n",
       "      <td>0.008162</td>\n",
       "      <td>0.0</td>\n",
       "    </tr>\n",
       "    <tr>\n",
       "      <td>1</td>\n",
       "      <td>HP:0002904</td>\n",
       "      <td>HP:0011014</td>\n",
       "      <td>0.008162</td>\n",
       "      <td>0.0</td>\n",
       "    </tr>\n",
       "    <tr>\n",
       "      <td>2</td>\n",
       "      <td>HP:0011015</td>\n",
       "      <td>HP:0002904</td>\n",
       "      <td>0.008162</td>\n",
       "      <td>0.0</td>\n",
       "    </tr>\n",
       "    <tr>\n",
       "      <td>3</td>\n",
       "      <td>HP:0011014</td>\n",
       "      <td>HP:0002904</td>\n",
       "      <td>0.008162</td>\n",
       "      <td>0.0</td>\n",
       "    </tr>\n",
       "    <tr>\n",
       "      <td>4</td>\n",
       "      <td>HP:0011015</td>\n",
       "      <td>HP:0003573</td>\n",
       "      <td>0.006819</td>\n",
       "      <td>0.0</td>\n",
       "    </tr>\n",
       "  </tbody>\n",
       "</table>\n",
       "</div>"
      ],
      "text/plain": [
       "           P1          P2   synergy    p\n",
       "0  HP:0002904  HP:0011015  0.008162  0.0\n",
       "1  HP:0002904  HP:0011014  0.008162  0.0\n",
       "2  HP:0011015  HP:0002904  0.008162  0.0\n",
       "3  HP:0011014  HP:0002904  0.008162  0.0\n",
       "4  HP:0011015  HP:0003573  0.006819  0.0"
      ]
     },
     "execution_count": 24,
     "metadata": {},
     "output_type": "execute_result"
    }
   ],
   "source": [
    "# load p values estimated from empirical distributions\n",
    "path = '/Users/zhangx/git/MIMIC_HPO/src/main/resources/p_value_map_038.obj'\n",
    "with open(path, 'rb') as f:\n",
    "    p_value_map = pickle.load(f)\n",
    "p_sepsis = p_value_map['038']\n",
    "data = sepsis.pairwise_synergy_labeled_with_p_values(p_sepsis)\n",
    "data.reset_index(drop=True).head()"
   ]
  },
  {
   "cell_type": "code",
   "execution_count": 25,
   "metadata": {},
   "outputs": [],
   "source": [
    "mask = np.array([hpo.has_dependency(data.P1[i], data.P2[i]) for i in np.arange(data.shape[0])])\n",
    "S_sepsis = data.loc[np.logical_not(mask), :].sort_values(by = 'synergy', ascending=False)\n",
    "S_sepsis = S_sepsis.loc[S_sepsis.P1 < S_sepsis.P2, :]\n",
    "top5percent = S_sepsis.shape[0] * 0.05\n",
    "top5percent_synergy_pair_sepsis = S_sepsis.reset_index(drop=True).iloc[0:int(top5percent), :]\n",
    "top5percent_synergy_pair_sepsis['P1_label'] = np.array([hpo.term_id2name_map().get(termid) for termid in top5percent_synergy_pair_sepsis.P1])\n",
    "top5percent_synergy_pair_sepsis['P2_label'] = np.array([hpo.term_id2name_map().get(termid) for termid in top5percent_synergy_pair_sepsis.P2])\n",
    "\n"
   ]
  },
  {
   "cell_type": "code",
   "execution_count": 26,
   "metadata": {},
   "outputs": [
    {
     "data": {
      "text/html": [
       "<div>\n",
       "<style scoped>\n",
       "    .dataframe tbody tr th:only-of-type {\n",
       "        vertical-align: middle;\n",
       "    }\n",
       "\n",
       "    .dataframe tbody tr th {\n",
       "        vertical-align: top;\n",
       "    }\n",
       "\n",
       "    .dataframe thead th {\n",
       "        text-align: right;\n",
       "    }\n",
       "</style>\n",
       "<table border=\"1\" class=\"dataframe\">\n",
       "  <thead>\n",
       "    <tr style=\"text-align: right;\">\n",
       "      <th></th>\n",
       "      <th>P1</th>\n",
       "      <th>P2</th>\n",
       "      <th>synergy</th>\n",
       "      <th>p</th>\n",
       "      <th>P1_label</th>\n",
       "      <th>P2_label</th>\n",
       "    </tr>\n",
       "  </thead>\n",
       "  <tbody>\n",
       "    <tr>\n",
       "      <td>0</td>\n",
       "      <td>HP:0002904</td>\n",
       "      <td>HP:0011015</td>\n",
       "      <td>0.008162</td>\n",
       "      <td>0.000000</td>\n",
       "      <td>Hyperbilirubinemia</td>\n",
       "      <td>Abnormal blood glucose concentration</td>\n",
       "    </tr>\n",
       "    <tr>\n",
       "      <td>1</td>\n",
       "      <td>HP:0002904</td>\n",
       "      <td>HP:0011014</td>\n",
       "      <td>0.008162</td>\n",
       "      <td>0.000000</td>\n",
       "      <td>Hyperbilirubinemia</td>\n",
       "      <td>Abnormal glucose homeostasis</td>\n",
       "    </tr>\n",
       "    <tr>\n",
       "      <td>2</td>\n",
       "      <td>HP:0003573</td>\n",
       "      <td>HP:0011015</td>\n",
       "      <td>0.006819</td>\n",
       "      <td>0.000000</td>\n",
       "      <td>Increased total bilirubin</td>\n",
       "      <td>Abnormal blood glucose concentration</td>\n",
       "    </tr>\n",
       "    <tr>\n",
       "      <td>3</td>\n",
       "      <td>HP:0003573</td>\n",
       "      <td>HP:0011014</td>\n",
       "      <td>0.006819</td>\n",
       "      <td>0.000000</td>\n",
       "      <td>Increased total bilirubin</td>\n",
       "      <td>Abnormal glucose homeostasis</td>\n",
       "    </tr>\n",
       "    <tr>\n",
       "      <td>4</td>\n",
       "      <td>HP:0002904</td>\n",
       "      <td>HP:0003074</td>\n",
       "      <td>0.006602</td>\n",
       "      <td>0.000000</td>\n",
       "      <td>Hyperbilirubinemia</td>\n",
       "      <td>Hyperglycemia</td>\n",
       "    </tr>\n",
       "    <tr>\n",
       "      <td>...</td>\n",
       "      <td>...</td>\n",
       "      <td>...</td>\n",
       "      <td>...</td>\n",
       "      <td>...</td>\n",
       "      <td>...</td>\n",
       "      <td>...</td>\n",
       "    </tr>\n",
       "    <tr>\n",
       "      <td>95</td>\n",
       "      <td>HP:0012200</td>\n",
       "      <td>HP:0410173</td>\n",
       "      <td>0.000971</td>\n",
       "      <td>0.004861</td>\n",
       "      <td>Abnormality of prothrombin</td>\n",
       "      <td>Increased troponin I level in blood</td>\n",
       "    </tr>\n",
       "    <tr>\n",
       "      <td>96</td>\n",
       "      <td>HP:0025065</td>\n",
       "      <td>HP:0100827</td>\n",
       "      <td>0.000965</td>\n",
       "      <td>0.008617</td>\n",
       "      <td>Abnormal mean corpuscular volume</td>\n",
       "      <td>Lymphocytosis</td>\n",
       "    </tr>\n",
       "    <tr>\n",
       "      <td>97</td>\n",
       "      <td>HP:0410173</td>\n",
       "      <td>HP:0500164</td>\n",
       "      <td>0.000954</td>\n",
       "      <td>0.010606</td>\n",
       "      <td>Increased troponin I level in blood</td>\n",
       "      <td>Abnormal blood carbon dioxide level</td>\n",
       "    </tr>\n",
       "    <tr>\n",
       "      <td>98</td>\n",
       "      <td>HP:0003573</td>\n",
       "      <td>HP:0031970</td>\n",
       "      <td>0.000935</td>\n",
       "      <td>0.009280</td>\n",
       "      <td>Increased total bilirubin</td>\n",
       "      <td>Abnormal blood urea nitrogen concentration</td>\n",
       "    </tr>\n",
       "    <tr>\n",
       "      <td>99</td>\n",
       "      <td>HP:0002904</td>\n",
       "      <td>HP:0025547</td>\n",
       "      <td>0.000935</td>\n",
       "      <td>0.006597</td>\n",
       "      <td>Hyperbilirubinemia</td>\n",
       "      <td>Decreased mean corpuscular hemoglobin concentr...</td>\n",
       "    </tr>\n",
       "  </tbody>\n",
       "</table>\n",
       "<p>100 rows × 6 columns</p>\n",
       "</div>"
      ],
      "text/plain": [
       "            P1          P2   synergy         p  \\\n",
       "0   HP:0002904  HP:0011015  0.008162  0.000000   \n",
       "1   HP:0002904  HP:0011014  0.008162  0.000000   \n",
       "2   HP:0003573  HP:0011015  0.006819  0.000000   \n",
       "3   HP:0003573  HP:0011014  0.006819  0.000000   \n",
       "4   HP:0002904  HP:0003074  0.006602  0.000000   \n",
       "..         ...         ...       ...       ...   \n",
       "95  HP:0012200  HP:0410173  0.000971  0.004861   \n",
       "96  HP:0025065  HP:0100827  0.000965  0.008617   \n",
       "97  HP:0410173  HP:0500164  0.000954  0.010606   \n",
       "98  HP:0003573  HP:0031970  0.000935  0.009280   \n",
       "99  HP:0002904  HP:0025547  0.000935  0.006597   \n",
       "\n",
       "                               P1_label  \\\n",
       "0                    Hyperbilirubinemia   \n",
       "1                    Hyperbilirubinemia   \n",
       "2             Increased total bilirubin   \n",
       "3             Increased total bilirubin   \n",
       "4                    Hyperbilirubinemia   \n",
       "..                                  ...   \n",
       "95           Abnormality of prothrombin   \n",
       "96     Abnormal mean corpuscular volume   \n",
       "97  Increased troponin I level in blood   \n",
       "98            Increased total bilirubin   \n",
       "99                   Hyperbilirubinemia   \n",
       "\n",
       "                                             P2_label  \n",
       "0                Abnormal blood glucose concentration  \n",
       "1                        Abnormal glucose homeostasis  \n",
       "2                Abnormal blood glucose concentration  \n",
       "3                        Abnormal glucose homeostasis  \n",
       "4                                       Hyperglycemia  \n",
       "..                                                ...  \n",
       "95                Increased troponin I level in blood  \n",
       "96                                      Lymphocytosis  \n",
       "97                Abnormal blood carbon dioxide level  \n",
       "98         Abnormal blood urea nitrogen concentration  \n",
       "99  Decreased mean corpuscular hemoglobin concentr...  \n",
       "\n",
       "[100 rows x 6 columns]"
      ]
     },
     "execution_count": 26,
     "metadata": {},
     "output_type": "execute_result"
    }
   ],
   "source": [
    "top5percent_synergy_pair_sepsis.head(n = 100)"
   ]
  },
  {
   "cell_type": "code",
   "execution_count": null,
   "metadata": {
    "collapsed": true
   },
   "outputs": [],
   "source": [
    "top5percent_synergy_pair_sepsis.to_csv('top5percent_synergy_pair_sepsis.csv', index=False)"
   ]
  },
  {
   "cell_type": "code",
   "execution_count": null,
   "metadata": {
    "collapsed": true
   },
   "outputs": [],
   "source": []
  },
  {
   "cell_type": "markdown",
   "metadata": {
    "collapsed": true
   },
   "source": [
    "## Synergy between Radiology- and Lab-derived Abnormal Phenotypes"
   ]
  },
  {
   "cell_type": "code",
   "execution_count": 28,
   "metadata": {},
   "outputs": [],
   "source": [
    "with open('synergies_radiology_lab.obj', 'rb') as synergies_file:\n",
    "    synergies_rad_lab = pickle.load(synergies_file)"
   ]
  },
  {
   "cell_type": "code",
   "execution_count": 29,
   "metadata": {},
   "outputs": [
    {
     "data": {
      "text/plain": [
       "48"
      ]
     },
     "execution_count": 29,
     "metadata": {},
     "output_type": "execute_result"
    }
   ],
   "source": [
    "len(synergies_rad_lab)"
   ]
  },
  {
   "cell_type": "code",
   "execution_count": 45,
   "metadata": {},
   "outputs": [],
   "source": [
    "def filtered_and_save_synergy_dataframe(synergy_map, icd, icd_label):\n",
    "    data = synergies_rad_lab[icd].pairwise_synergy_labeled()\n",
    "    mask = np.array([hpo.has_dependency(data.P1[i], data.P2[i]) for i in np.arange(data.shape[0])])\n",
    "    data_filtered = data.loc[np.logical_not(mask), :].sort_values(by = 'synergy', ascending=False)\n",
    "    data_filtered = data_filtered.loc[data_filtered.P1 < data_filtered.P2, :]\n",
    "    data_filtered['P1_radiology_label'] = np.array([hpo.term_id2name_map().get(termid) for termid in data_filtered.P1])\n",
    "    data_filtered['P2_lab_label'] = np.array([hpo.term_id2name_map().get(termid) for termid in data_filtered.P2])\n",
    "    top5percent_synergy_pair = data_filtered.iloc[0:math.ceil(0.05 * len(data_filtered)), :]\n",
    "    filename = 'synergy-radiology_labtest-{}.csv'.format(icd_label)\n",
    "    top5percent_synergy_pair.to_csv(filename, index=False)\n",
    "\n"
   ]
  },
  {
   "cell_type": "code",
   "execution_count": 46,
   "metadata": {},
   "outputs": [],
   "source": [
    "filtered_and_save_synergy_dataframe(synergies_rad_lab, icd = '428', icd_label = 'heart_failure')"
   ]
  },
  {
   "cell_type": "code",
   "execution_count": 47,
   "metadata": {},
   "outputs": [],
   "source": [
    "filtered_and_save_synergy_dataframe(synergies_rad_lab, icd = '584', icd_label = 'acute_renal_failure')"
   ]
  },
  {
   "cell_type": "code",
   "execution_count": 48,
   "metadata": {},
   "outputs": [],
   "source": [
    "filtered_and_save_synergy_dataframe(synergies_rad_lab, icd = '038', icd_label = 'sepsis')"
   ]
  },
  {
   "cell_type": "code",
   "execution_count": null,
   "metadata": {},
   "outputs": [],
   "source": []
  },
  {
   "cell_type": "code",
   "execution_count": 38,
   "metadata": {},
   "outputs": [
    {
     "data": {
      "text/html": [
       "<div>\n",
       "<style scoped>\n",
       "    .dataframe tbody tr th:only-of-type {\n",
       "        vertical-align: middle;\n",
       "    }\n",
       "\n",
       "    .dataframe tbody tr th {\n",
       "        vertical-align: top;\n",
       "    }\n",
       "\n",
       "    .dataframe thead th {\n",
       "        text-align: right;\n",
       "    }\n",
       "</style>\n",
       "<table border=\"1\" class=\"dataframe\">\n",
       "  <thead>\n",
       "    <tr style=\"text-align: right;\">\n",
       "      <th></th>\n",
       "      <th>P1</th>\n",
       "      <th>P2</th>\n",
       "      <th>synergy</th>\n",
       "      <th>P1_radiology_label</th>\n",
       "      <th>P2_lab_label</th>\n",
       "    </tr>\n",
       "  </thead>\n",
       "  <tbody>\n",
       "    <tr>\n",
       "      <td>0</td>\n",
       "      <td>HP:0012252</td>\n",
       "      <td>HP:0031851</td>\n",
       "      <td>0.000148</td>\n",
       "      <td>Abnormal respiratory system morphology</td>\n",
       "      <td>Reduced hematocrit</td>\n",
       "    </tr>\n",
       "    <tr>\n",
       "      <td>2</td>\n",
       "      <td>HP:0002103</td>\n",
       "      <td>HP:0003113</td>\n",
       "      <td>0.000117</td>\n",
       "      <td>Abnormality of the pleura</td>\n",
       "      <td>Hypochloremia</td>\n",
       "    </tr>\n",
       "    <tr>\n",
       "      <td>3</td>\n",
       "      <td>HP:0001438</td>\n",
       "      <td>HP:0001943</td>\n",
       "      <td>0.000117</td>\n",
       "      <td>Abnormality of abdomen morphology</td>\n",
       "      <td>Hypoglycemia</td>\n",
       "    </tr>\n",
       "    <tr>\n",
       "      <td>6</td>\n",
       "      <td>HP:0025032</td>\n",
       "      <td>HP:0032251</td>\n",
       "      <td>0.000107</td>\n",
       "      <td>Abnormality of digestive system physiology</td>\n",
       "      <td>Abnormal immune system morphology</td>\n",
       "    </tr>\n",
       "    <tr>\n",
       "      <td>7</td>\n",
       "      <td>HP:0011028</td>\n",
       "      <td>HP:0012116</td>\n",
       "      <td>0.000105</td>\n",
       "      <td>Abnormality of blood circulation</td>\n",
       "      <td>Abnormal albumin level</td>\n",
       "    </tr>\n",
       "    <tr>\n",
       "      <td>11</td>\n",
       "      <td>HP:0001945</td>\n",
       "      <td>HP:0410288</td>\n",
       "      <td>0.000100</td>\n",
       "      <td>Fever</td>\n",
       "      <td>Hyperamylasemia</td>\n",
       "    </tr>\n",
       "    <tr>\n",
       "      <td>12</td>\n",
       "      <td>HP:0000079</td>\n",
       "      <td>HP:0004379</td>\n",
       "      <td>0.000100</td>\n",
       "      <td>Abnormality of the urinary system</td>\n",
       "      <td>Abnormality of alkaline phosphatase activity</td>\n",
       "    </tr>\n",
       "    <tr>\n",
       "      <td>13</td>\n",
       "      <td>HP:0012718</td>\n",
       "      <td>HP:0032251</td>\n",
       "      <td>0.000099</td>\n",
       "      <td>Morphological abnormality of the gastrointesti...</td>\n",
       "      <td>Abnormal immune system morphology</td>\n",
       "    </tr>\n",
       "    <tr>\n",
       "      <td>15</td>\n",
       "      <td>HP:0001892</td>\n",
       "      <td>HP:0032239</td>\n",
       "      <td>0.000095</td>\n",
       "      <td>Abnormal bleeding</td>\n",
       "      <td>Increased circulating band cell count</td>\n",
       "    </tr>\n",
       "    <tr>\n",
       "      <td>16</td>\n",
       "      <td>HP:0002835</td>\n",
       "      <td>HP:0020059</td>\n",
       "      <td>0.000095</td>\n",
       "      <td>Aspiration</td>\n",
       "      <td>Increased red blood cell count</td>\n",
       "    </tr>\n",
       "    <tr>\n",
       "      <td>18</td>\n",
       "      <td>HP:0000119</td>\n",
       "      <td>HP:0004363</td>\n",
       "      <td>0.000093</td>\n",
       "      <td>Abnormality of the genitourinary system</td>\n",
       "      <td>Abnormal circulating calcium concentration</td>\n",
       "    </tr>\n",
       "    <tr>\n",
       "      <td>20</td>\n",
       "      <td>HP:0001871</td>\n",
       "      <td>HP:0001874</td>\n",
       "      <td>0.000092</td>\n",
       "      <td>Abnormality of blood and blood-forming tissues</td>\n",
       "      <td>Abnormality of neutrophils</td>\n",
       "    </tr>\n",
       "    <tr>\n",
       "      <td>21</td>\n",
       "      <td>HP:0011028</td>\n",
       "      <td>HP:0012100</td>\n",
       "      <td>0.000091</td>\n",
       "      <td>Abnormality of blood circulation</td>\n",
       "      <td>Abnormal circulating creatinine level</td>\n",
       "    </tr>\n",
       "    <tr>\n",
       "      <td>25</td>\n",
       "      <td>HP:0003207</td>\n",
       "      <td>HP:0410174</td>\n",
       "      <td>0.000086</td>\n",
       "      <td>Arterial calcification</td>\n",
       "      <td>Increased troponin T level in blood</td>\n",
       "    </tr>\n",
       "    <tr>\n",
       "      <td>28</td>\n",
       "      <td>HP:0009121</td>\n",
       "      <td>HP:0031851</td>\n",
       "      <td>0.000084</td>\n",
       "      <td>Abnormal axial skeleton morphology</td>\n",
       "      <td>Reduced hematocrit</td>\n",
       "    </tr>\n",
       "    <tr>\n",
       "      <td>30</td>\n",
       "      <td>HP:0000001</td>\n",
       "      <td>HP:0003138</td>\n",
       "      <td>0.000084</td>\n",
       "      <td>All</td>\n",
       "      <td>Increased blood urea nitrogen</td>\n",
       "    </tr>\n",
       "    <tr>\n",
       "      <td>32</td>\n",
       "      <td>HP:0002107</td>\n",
       "      <td>HP:0032309</td>\n",
       "      <td>0.000083</td>\n",
       "      <td>Pneumothorax</td>\n",
       "      <td>Abnormal granulocyte count</td>\n",
       "    </tr>\n",
       "    <tr>\n",
       "      <td>33</td>\n",
       "      <td>HP:0011842</td>\n",
       "      <td>HP:0032199</td>\n",
       "      <td>0.000082</td>\n",
       "      <td>Abnormality of skeletal morphology</td>\n",
       "      <td>Abnormal prothrombin time</td>\n",
       "    </tr>\n",
       "    <tr>\n",
       "      <td>34</td>\n",
       "      <td>HP:0001939</td>\n",
       "      <td>HP:0004332</td>\n",
       "      <td>0.000082</td>\n",
       "      <td>Abnormality of metabolism/homeostasis</td>\n",
       "      <td>Abnormal lymphocyte morphology</td>\n",
       "    </tr>\n",
       "    <tr>\n",
       "      <td>35</td>\n",
       "      <td>HP:0001871</td>\n",
       "      <td>HP:0032309</td>\n",
       "      <td>0.000081</td>\n",
       "      <td>Abnormality of blood and blood-forming tissues</td>\n",
       "      <td>Abnormal granulocyte count</td>\n",
       "    </tr>\n",
       "  </tbody>\n",
       "</table>\n",
       "</div>"
      ],
      "text/plain": [
       "            P1          P2   synergy  \\\n",
       "0   HP:0012252  HP:0031851  0.000148   \n",
       "2   HP:0002103  HP:0003113  0.000117   \n",
       "3   HP:0001438  HP:0001943  0.000117   \n",
       "6   HP:0025032  HP:0032251  0.000107   \n",
       "7   HP:0011028  HP:0012116  0.000105   \n",
       "11  HP:0001945  HP:0410288  0.000100   \n",
       "12  HP:0000079  HP:0004379  0.000100   \n",
       "13  HP:0012718  HP:0032251  0.000099   \n",
       "15  HP:0001892  HP:0032239  0.000095   \n",
       "16  HP:0002835  HP:0020059  0.000095   \n",
       "18  HP:0000119  HP:0004363  0.000093   \n",
       "20  HP:0001871  HP:0001874  0.000092   \n",
       "21  HP:0011028  HP:0012100  0.000091   \n",
       "25  HP:0003207  HP:0410174  0.000086   \n",
       "28  HP:0009121  HP:0031851  0.000084   \n",
       "30  HP:0000001  HP:0003138  0.000084   \n",
       "32  HP:0002107  HP:0032309  0.000083   \n",
       "33  HP:0011842  HP:0032199  0.000082   \n",
       "34  HP:0001939  HP:0004332  0.000082   \n",
       "35  HP:0001871  HP:0032309  0.000081   \n",
       "\n",
       "                                   P1_radiology_label  \\\n",
       "0              Abnormal respiratory system morphology   \n",
       "2                           Abnormality of the pleura   \n",
       "3                   Abnormality of abdomen morphology   \n",
       "6          Abnormality of digestive system physiology   \n",
       "7                    Abnormality of blood circulation   \n",
       "11                                              Fever   \n",
       "12                  Abnormality of the urinary system   \n",
       "13  Morphological abnormality of the gastrointesti...   \n",
       "15                                  Abnormal bleeding   \n",
       "16                                         Aspiration   \n",
       "18            Abnormality of the genitourinary system   \n",
       "20     Abnormality of blood and blood-forming tissues   \n",
       "21                   Abnormality of blood circulation   \n",
       "25                             Arterial calcification   \n",
       "28                 Abnormal axial skeleton morphology   \n",
       "30                                                All   \n",
       "32                                       Pneumothorax   \n",
       "33                 Abnormality of skeletal morphology   \n",
       "34              Abnormality of metabolism/homeostasis   \n",
       "35     Abnormality of blood and blood-forming tissues   \n",
       "\n",
       "                                    P2_lab_label  \n",
       "0                             Reduced hematocrit  \n",
       "2                                  Hypochloremia  \n",
       "3                                   Hypoglycemia  \n",
       "6              Abnormal immune system morphology  \n",
       "7                         Abnormal albumin level  \n",
       "11                               Hyperamylasemia  \n",
       "12  Abnormality of alkaline phosphatase activity  \n",
       "13             Abnormal immune system morphology  \n",
       "15         Increased circulating band cell count  \n",
       "16                Increased red blood cell count  \n",
       "18    Abnormal circulating calcium concentration  \n",
       "20                    Abnormality of neutrophils  \n",
       "21         Abnormal circulating creatinine level  \n",
       "25           Increased troponin T level in blood  \n",
       "28                            Reduced hematocrit  \n",
       "30                 Increased blood urea nitrogen  \n",
       "32                    Abnormal granulocyte count  \n",
       "33                     Abnormal prothrombin time  \n",
       "34                Abnormal lymphocyte morphology  \n",
       "35                    Abnormal granulocyte count  "
      ]
     },
     "execution_count": 38,
     "metadata": {},
     "output_type": "execute_result"
    }
   ],
   "source": []
  },
  {
   "cell_type": "code",
   "execution_count": 39,
   "metadata": {},
   "outputs": [],
   "source": []
  },
  {
   "cell_type": "code",
   "execution_count": null,
   "metadata": {
    "collapsed": true
   },
   "outputs": [],
   "source": []
  },
  {
   "cell_type": "code",
   "execution_count": null,
   "metadata": {
    "collapsed": true
   },
   "outputs": [],
   "source": []
  },
  {
   "cell_type": "code",
   "execution_count": null,
   "metadata": {
    "collapsed": true
   },
   "outputs": [],
   "source": []
  },
  {
   "cell_type": "code",
   "execution_count": null,
   "metadata": {
    "collapsed": true
   },
   "outputs": [],
   "source": []
  },
  {
   "cell_type": "code",
   "execution_count": null,
   "metadata": {
    "collapsed": true
   },
   "outputs": [],
   "source": []
  },
  {
   "cell_type": "code",
   "execution_count": null,
   "metadata": {
    "collapsed": true
   },
   "outputs": [],
   "source": []
  },
  {
   "cell_type": "code",
   "execution_count": null,
   "metadata": {
    "collapsed": true
   },
   "outputs": [],
   "source": []
  },
  {
   "cell_type": "code",
   "execution_count": null,
   "metadata": {
    "collapsed": true
   },
   "outputs": [],
   "source": []
  },
  {
   "cell_type": "code",
   "execution_count": null,
   "metadata": {
    "collapsed": true
   },
   "outputs": [],
   "source": []
  },
  {
   "cell_type": "code",
   "execution_count": null,
   "metadata": {
    "collapsed": true
   },
   "outputs": [],
   "source": []
  },
  {
   "cell_type": "code",
   "execution_count": null,
   "metadata": {
    "collapsed": true
   },
   "outputs": [],
   "source": []
  }
 ],
 "metadata": {
  "kernelspec": {
   "display_name": "Python 3",
   "language": "python",
   "name": "python3"
  },
  "language_info": {
   "codemirror_mode": {
    "name": "ipython",
    "version": 3
   },
   "file_extension": ".py",
   "mimetype": "text/x-python",
   "name": "python",
   "nbconvert_exporter": "python",
   "pygments_lexer": "ipython3",
   "version": "3.6.9"
  }
 },
 "nbformat": 4,
 "nbformat_minor": 2
}
