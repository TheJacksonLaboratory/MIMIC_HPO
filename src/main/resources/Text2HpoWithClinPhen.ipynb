{
 "cells": [
  {
   "cell_type": "code",
   "execution_count": 3,
   "metadata": {},
   "outputs": [],
   "source": [
    "import pandas as pd\n",
    "import numpy as np\n",
    "import re"
   ]
  },
  {
   "cell_type": "code",
   "execution_count": 2,
   "metadata": {},
   "outputs": [
    {
     "name": "stderr",
     "output_type": "stream",
     "text": [
      "/Users/zhangx/anaconda3/lib/python3.6/site-packages/IPython/core/interactiveshell.py:3058: DtypeWarning: Columns (4,5) have mixed types. Specify dtype option on import or set low_memory=False.\n",
      "  interactivity=interactivity, compiler=compiler, result=result)\n"
     ]
    },
    {
     "data": {
      "text/plain": [
       "CATEGORY\n",
       "Case Management         967\n",
       "Consult                  98\n",
       "Discharge summary     59652\n",
       "ECG                  209051\n",
       "Echo                  45794\n",
       "General                8301\n",
       "Nursing              223556\n",
       "Nursing/other        822497\n",
       "Nutrition              9418\n",
       "Pharmacy                103\n",
       "Physician            141624\n",
       "Radiology            522279\n",
       "Rehab Services         5431\n",
       "Respiratory           31739\n",
       "Social Work            2670\n",
       "dtype: int64"
      ]
     },
     "execution_count": 2,
     "metadata": {},
     "output_type": "execute_result"
    }
   ],
   "source": [
    "notes = pd.read_csv('NOTEEVENTS.csv')\n",
    "notes.groupby('CATEGORY').size()"
   ]
  },
  {
   "cell_type": "code",
   "execution_count": 9,
   "metadata": {},
   "outputs": [
    {
     "data": {
      "text/html": [
       "<div>\n",
       "<style scoped>\n",
       "    .dataframe tbody tr th:only-of-type {\n",
       "        vertical-align: middle;\n",
       "    }\n",
       "\n",
       "    .dataframe tbody tr th {\n",
       "        vertical-align: top;\n",
       "    }\n",
       "\n",
       "    .dataframe thead th {\n",
       "        text-align: right;\n",
       "    }\n",
       "</style>\n",
       "<table border=\"1\" class=\"dataframe\">\n",
       "  <thead>\n",
       "    <tr style=\"text-align: right;\">\n",
       "      <th></th>\n",
       "      <th>ROW_ID</th>\n",
       "      <th>TEXT</th>\n",
       "    </tr>\n",
       "  </thead>\n",
       "  <tbody>\n",
       "    <tr>\n",
       "      <td>0</td>\n",
       "      <td>174</td>\n",
       "      <td>Admission Date:  [**2151-7-16**]       Dischar...</td>\n",
       "    </tr>\n",
       "    <tr>\n",
       "      <td>1</td>\n",
       "      <td>175</td>\n",
       "      <td>Admission Date:  [**2118-6-2**]       Discharg...</td>\n",
       "    </tr>\n",
       "    <tr>\n",
       "      <td>2</td>\n",
       "      <td>176</td>\n",
       "      <td>Admission Date:  [**2119-5-4**]              D...</td>\n",
       "    </tr>\n",
       "    <tr>\n",
       "      <td>3</td>\n",
       "      <td>177</td>\n",
       "      <td>Admission Date:  [**2124-7-21**]              ...</td>\n",
       "    </tr>\n",
       "    <tr>\n",
       "      <td>4</td>\n",
       "      <td>178</td>\n",
       "      <td>Admission Date:  [**2162-3-3**]              D...</td>\n",
       "    </tr>\n",
       "    <tr>\n",
       "      <td>5</td>\n",
       "      <td>179</td>\n",
       "      <td>Admission Date:  [**2172-3-5**]              D...</td>\n",
       "    </tr>\n",
       "  </tbody>\n",
       "</table>\n",
       "</div>"
      ],
      "text/plain": [
       "   ROW_ID                                               TEXT\n",
       "0     174  Admission Date:  [**2151-7-16**]       Dischar...\n",
       "1     175  Admission Date:  [**2118-6-2**]       Discharg...\n",
       "2     176  Admission Date:  [**2119-5-4**]              D...\n",
       "3     177  Admission Date:  [**2124-7-21**]              ...\n",
       "4     178  Admission Date:  [**2162-3-3**]              D...\n",
       "5     179  Admission Date:  [**2172-3-5**]              D..."
      ]
     },
     "execution_count": 9,
     "metadata": {},
     "output_type": "execute_result"
    }
   ],
   "source": [
    "notes.loc[0:5, ['ROW_ID', 'TEXT']]"
   ]
  },
  {
   "cell_type": "markdown",
   "metadata": {},
   "source": [
    "# Preprocess Radiology Reports"
   ]
  },
  {
   "cell_type": "code",
   "execution_count": 10,
   "metadata": {},
   "outputs": [],
   "source": [
    "def _extract_final_report(text):\n",
    "    sep = \"______________________________________________________________________________\"\n",
    "    elements = text.split(sep)\n",
    "    for i in np.arange(len(elements)):\n",
    "        if 'FINAL REPORT' in elements[i]:\n",
    "            final_report_section = elements[i].replace('FINAL REPORT', ' ')\n",
    "            lb_removed = final_report_section.replace('\\n', ' ').strip()\n",
    "            pipe_removed = lb_removed.replace('|', ' ')\n",
    "            square_removed = re.sub(r'\\[\\*\\*[\\w \\-]+\\*\\*\\]', '', pipe_removed)\n",
    "            return square_removed\n",
    "    return None"
   ]
  },
  {
   "cell_type": "code",
   "execution_count": 11,
   "metadata": {},
   "outputs": [],
   "source": [
    "final_reports = [_extract_final_report(text) for text in notes.loc[notes.CATEGORY == 'Radiology', :].TEXT]\n",
    "row_id = notes.loc[notes.CATEGORY == 'Radiology', :].reset_index().ROW_ID"
   ]
  },
  {
   "cell_type": "code",
   "execution_count": 12,
   "metadata": {},
   "outputs": [],
   "source": [
    "radiology_reports = pd.DataFrame(data = {'ROW_ID': row_id, 'Radiology_final_report': final_reports})"
   ]
  },
  {
   "cell_type": "markdown",
   "metadata": {},
   "source": [
    "save radiology reports for ClinPhen processing"
   ]
  },
  {
   "cell_type": "code",
   "execution_count": null,
   "metadata": {},
   "outputs": [],
   "source": [
    "radiology_reports.dropna().to_csv('pre_processed_radiology_reports.csv', sep = '|', index=False)"
   ]
  },
  {
   "cell_type": "code",
   "execution_count": null,
   "metadata": {},
   "outputs": [],
   "source": [
    "radiology_reports = pd.read_csv('pre_processed_radiology_reports.csv', sep = '|')"
   ]
  },
  {
   "cell_type": "code",
   "execution_count": null,
   "metadata": {},
   "outputs": [],
   "source": []
  },
  {
   "cell_type": "markdown",
   "metadata": {},
   "source": [
    "prepare a randomly selected subset for testing purposes"
   ]
  },
  {
   "cell_type": "code",
   "execution_count": null,
   "metadata": {},
   "outputs": [],
   "source": [
    "N = len(radiology_reports)"
   ]
  },
  {
   "cell_type": "code",
   "execution_count": null,
   "metadata": {},
   "outputs": [],
   "source": [
    "rand_indeces = np.random.choice(np.arange(N), 500)\n",
    "subset = radiology_reports.iloc[rand_indeces, :]"
   ]
  },
  {
   "cell_type": "code",
   "execution_count": null,
   "metadata": {},
   "outputs": [],
   "source": [
    "subset.to_csv('pre_processed_radiology_reports_test.csv', sep = '|', index = False)"
   ]
  },
  {
   "cell_type": "code",
   "execution_count": null,
   "metadata": {},
   "outputs": [],
   "source": [
    "text = radiology_reports.loc[radiology_reports.ROW_ID == 738407, 'Radiology_final_report']\n",
    "text.iloc[0]"
   ]
  },
  {
   "cell_type": "code",
   "execution_count": null,
   "metadata": {},
   "outputs": [],
   "source": []
  },
  {
   "cell_type": "markdown",
   "metadata": {},
   "source": [
    "# ClinPhen"
   ]
  },
  {
   "cell_type": "markdown",
   "metadata": {},
   "source": [
    "One needs to download the ClinPhen source code and change a few lines that are not compatible with Python 3. Note PIP installed version will probably notwork with Python3. \n",
    "\n",
    "After than, run clinphen_bulk with the following settings:\n",
    "```\n",
    "python /home/zhangx/clinphen/clinphen_bulk --patcol ROW_ID --notecol Radiology_final_report --threads 32 /home/zhangx/text2hpo/pre_processed_radiology_reports.csv /home/zhangx/text2hpo/radiology_2_hpo.csv \n",
    "```\n",
    "\n",
    "For MIMIC data (half million), they are processed on JAX cluster (so we can use 32 threads) in 4-5 hours. On a laptop, it probably will take > 8 hours. "
   ]
  },
  {
   "cell_type": "code",
   "execution_count": null,
   "metadata": {},
   "outputs": [],
   "source": []
  }
 ],
 "metadata": {
  "kernelspec": {
   "display_name": "Python 3",
   "language": "python",
   "name": "python3"
  },
  "language_info": {
   "codemirror_mode": {
    "name": "ipython",
    "version": 3
   },
   "file_extension": ".py",
   "mimetype": "text/x-python",
   "name": "python",
   "nbconvert_exporter": "python",
   "pygments_lexer": "ipython3",
   "version": "3.6.9"
  }
 },
 "nbformat": 4,
 "nbformat_minor": 2
}
